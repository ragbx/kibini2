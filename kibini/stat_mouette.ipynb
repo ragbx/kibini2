{
 "cells": [
  {
   "cell_type": "code",
   "execution_count": 13,
   "id": "b70cee9c",
   "metadata": {},
   "outputs": [],
   "source": [
    "import pandas as pd\n",
    "import numpy as np\n",
    "import matplotlib.pyplot as plt\n",
    "import seaborn as sns\n",
    "sns.set_style(\"darkgrid\")\n",
    "import datetime\n",
    "\n",
    "from kiblib.utils.db import DbConn"
   ]
  },
  {
   "cell_type": "code",
   "execution_count": 14,
   "id": "7f95abc6",
   "metadata": {},
   "outputs": [],
   "source": [
    "db_conn = DbConn().create_engine()\n",
    "\n",
    "year = 2022\n",
    "month = 11\n",
    "days = 23"
   ]
  },
  {
   "cell_type": "code",
   "execution_count": 15,
   "id": "f01941af",
   "metadata": {},
   "outputs": [
    {
     "data": {
      "text/plain": [
       "611"
      ]
     },
     "execution_count": 15,
     "metadata": {},
     "output_type": "execute_result"
    }
   ],
   "source": [
    "# nb de personnes nouvellement inscrites\n",
    "query = f\"SELECT borrowernumber FROM koha_prod.borrowers WHERE YEAR(dateenrolled) = {year} AND MONTH(dateenrolled) = {month}\"\n",
    "nv_inscrits = pd.read_sql(query, db_conn)\n",
    "nb_nv_inscrits = len(nv_inscrits)\n",
    "nb_nv_inscrits"
   ]
  },
  {
   "cell_type": "code",
   "execution_count": 16,
   "id": "90b3dd9b",
   "metadata": {},
   "outputs": [
    {
     "name": "stdout",
     "output_type": "stream",
     "text": [
      "12861\n",
      "11459\n",
      "12.0\n"
     ]
    }
   ],
   "source": [
    "# nb de personnes  inscrites\n",
    "query = f\"SELECT COUNT(*) as inscrits FROM statdb.stat_adherents WHERE YEAR(date_extraction) = {year} AND MONTH(date_extraction) = {month}\"\n",
    "inscrits = pd.read_sql(query, db_conn)\n",
    "nb_inscrits = inscrits['inscrits'][0]\n",
    "print(nb_inscrits)\n",
    "\n",
    "\n",
    "# entrées même mois un an plus tôt\n",
    "query = f\"SELECT COUNT(*) as inscrits FROM statdb.stat_adherents WHERE YEAR(date_extraction) = {year - 1} AND MONTH(date_extraction) = {month}\"\n",
    "inscrits = pd.read_sql(query, db_conn)\n",
    "nb_inscrits_prec = inscrits['inscrits'][0]\n",
    "print(nb_inscrits_prec)\n",
    "\n",
    "# évolution\n",
    "inscrits_evolution = round((nb_inscrits - nb_inscrits_prec) / nb_inscrits_prec * 100, 0)\n",
    "print(inscrits_evolution)"
   ]
  },
  {
   "cell_type": "code",
   "execution_count": 17,
   "id": "6b55cc24",
   "metadata": {},
   "outputs": [
    {
     "name": "stdout",
     "output_type": "stream",
     "text": [
      "20021\n",
      "1520\n",
      "2022-11-18\n",
      "10402\n",
      "92.0\n"
     ]
    }
   ],
   "source": [
    "# entrées\n",
    "query = f\"SELECT datetime, entrees FROM statdb.stat_entrees WHERE YEAR(datetime) = {year} AND MONTH(datetime) = {month}\"\n",
    "entrees = pd.read_sql(query, db_conn)\n",
    "entrees['datetime'] = pd.to_datetime(entrees['datetime'])\n",
    "nb_entrees = entrees['entrees'].sum()\n",
    "print(nb_entrees)\n",
    "max_entrees = entrees.groupby(entrees['datetime'].dt.date)['entrees'].sum().sort_values(ascending=False)\n",
    "max_entrees_nb = max_entrees.iloc[0]\n",
    "max_entrees_date = max_entrees.index[0]\n",
    "print(max_entrees_nb)\n",
    "print(max_entrees_date)\n",
    "\n",
    "# entrées même mois un an plus tôt\n",
    "query = f\"SELECT datetime, entrees FROM statdb.stat_entrees WHERE YEAR(datetime) = {year - 1} AND MONTH(datetime) = {month}\"\n",
    "entrees = pd.read_sql(query, db_conn)\n",
    "nb_entrees_prec = entrees['entrees'].sum()\n",
    "print(nb_entrees_prec)\n",
    "\n",
    "# évolution\n",
    "entrees_evolution = round((nb_entrees - nb_entrees_prec) / nb_entrees_prec * 100, 0)\n",
    "print(entrees_evolution)"
   ]
  },
  {
   "cell_type": "code",
   "execution_count": 18,
   "id": "161139e1",
   "metadata": {},
   "outputs": [
    {
     "name": "stdout",
     "output_type": "stream",
     "text": [
      "29308\n",
      "2322\n",
      "2022-11-12\n",
      "23985\n",
      "22.0\n"
     ]
    }
   ],
   "source": [
    "# prets\n",
    "query = f\"SELECT issuedate, itemnumber FROM statdb.stat_issues WHERE YEAR(issuedate) = {year} AND MONTH(issuedate) = {month} AND location != 'MED0A'\"\n",
    "prets = pd.read_sql(query, db_conn)\n",
    "prets['issuedate'] = pd.to_datetime(prets['issuedate'])\n",
    "nb_prets = len(prets)\n",
    "print(nb_prets)\n",
    "max_prets = prets.groupby(prets['issuedate'].dt.date).size().sort_values(ascending=False)\n",
    "max_prets_nb = max_prets.iloc[0]\n",
    "max_prets_date = max_prets.index[0]\n",
    "print(max_prets_nb)\n",
    "print(max_prets_date)\n",
    "\n",
    "# même mois un an plus tôt\n",
    "query = f\"SELECT itemnumber FROM statdb.stat_issues WHERE YEAR(issuedate) = {year - 1} AND MONTH(issuedate) = {month} AND location != 'MED0A'\"\n",
    "prets = pd.read_sql(query, db_conn)\n",
    "nb_prets_prec = len(prets)\n",
    "print(nb_prets_prec)\n",
    "\n",
    "# évolution\n",
    "prets_evolution = round((nb_prets - nb_prets_prec) / nb_prets_prec * 100, 0)\n",
    "print(prets_evolution)"
   ]
  },
  {
   "cell_type": "code",
   "execution_count": 19,
   "id": "ac1002c8",
   "metadata": {},
   "outputs": [
    {
     "name": "stdout",
     "output_type": "stream",
     "text": [
      "3804\n",
      "236\n",
      "2022-11-02\n",
      "2172\n",
      "75.0\n"
     ]
    }
   ],
   "source": [
    "# connexions ordis\n",
    "query = f\"SELECT heure_deb FROM statdb.stat_webkiosk WHERE YEAR(heure_deb) = {year} AND MONTH(heure_deb) = {month}\"\n",
    "conn = pd.read_sql(query, db_conn)\n",
    "conn['heure_deb'] = pd.to_datetime(conn['heure_deb'])\n",
    "nb_conn = len(conn)\n",
    "print(nb_conn)\n",
    "max_conn = conn.groupby(conn['heure_deb'].dt.date).size().sort_values(ascending=False)\n",
    "max_conn_nb = max_conn.iloc[0]\n",
    "max_conn_date = max_conn.index[0]\n",
    "print(max_conn_nb)\n",
    "print(max_conn_date)\n",
    "\n",
    "# même mois un an plus tôt\n",
    "query = f\"SELECT heure_deb FROM statdb.stat_webkiosk WHERE YEAR(heure_deb) = {year - 1} AND MONTH(heure_deb) = {month}\"\n",
    "conn = pd.read_sql(query, db_conn)\n",
    "nb_conn_prec = len(conn)\n",
    "print(nb_conn_prec)\n",
    "\n",
    "# évolution\n",
    "conn_evolution = round((nb_conn - nb_conn_prec) / nb_conn_prec * 100, 0)\n",
    "print(conn_evolution)"
   ]
  },
  {
   "cell_type": "code",
   "execution_count": 20,
   "id": "a5238e14",
   "metadata": {},
   "outputs": [
    {
     "name": "stdout",
     "output_type": "stream",
     "text": [
      "695\n",
      "641\n",
      "8.0\n"
     ]
    }
   ],
   "source": [
    "# connexions wifi\n",
    "query = f\"SELECT start_wifi FROM statdb.stat_wifi WHERE YEAR(start_wifi) = {year} AND MONTH(start_wifi) = {month}\"\n",
    "wifi = pd.read_sql(query, db_conn)\n",
    "nb_wifi = len(wifi)\n",
    "print(nb_wifi)\n",
    "\n",
    "# même mois un an plus tôt\n",
    "query = f\"SELECT start_wifi FROM statdb.stat_wifi WHERE YEAR(start_wifi) = {year - 1} AND MONTH(start_wifi) = {month}\"\n",
    "wifi = pd.read_sql(query, db_conn)\n",
    "nb_wifi_prec = len(wifi)\n",
    "print(nb_wifi_prec)\n",
    "\n",
    "# évolution\n",
    "wifi_evolution = round((nb_wifi - nb_wifi_prec) / nb_wifi_prec * 100, 0)\n",
    "print(wifi_evolution)\n",
    "\n",
    "# retour wifi le 14/10"
   ]
  },
  {
   "cell_type": "code",
   "execution_count": 21,
   "id": "25f7f1b3",
   "metadata": {},
   "outputs": [
    {
     "name": "stdout",
     "output_type": "stream",
     "text": [
      "3578\n",
      "224\n",
      "2022-11-04\n",
      "4387\n",
      "-18.0\n"
     ]
    }
   ],
   "source": [
    "# réservations\n",
    "query = f\"SELECT reservedate FROM statdb.stat_reserves WHERE YEAR(reservedate) = {year} AND MONTH(reservedate) = {month}\"\n",
    "res = pd.read_sql(query, db_conn)\n",
    "res['reservedate'] = pd.to_datetime(res['reservedate'])\n",
    "nb_res = len(res)\n",
    "print(nb_res)\n",
    "max_res = res.groupby(res['reservedate'].dt.date).size().sort_values(ascending=False)\n",
    "max_res_nb = max_res.iloc[0]\n",
    "max_res_date = max_res.index[0]\n",
    "print(max_res_nb)\n",
    "print(max_res_date)\n",
    "\n",
    "# même mois un an plus tôt\n",
    "query = f\"SELECT reservedate FROM statdb.stat_reserves WHERE YEAR(reservedate) = {year - 1} AND MONTH(reservedate) = {month}\"\n",
    "res = pd.read_sql(query, db_conn)\n",
    "nb_res_prec = len(res)\n",
    "print(nb_res_prec)\n",
    "\n",
    "# évolution\n",
    "res_evolution = round((nb_res - nb_res_prec) / nb_res_prec * 100, 0)\n",
    "print(res_evolution)"
   ]
  },
  {
   "cell_type": "code",
   "execution_count": 22,
   "id": "56c85e0f",
   "metadata": {},
   "outputs": [
    {
     "name": "stdout",
     "output_type": "stream",
     "text": [
      "19931\n",
      "16892\n",
      "18.0\n"
     ]
    }
   ],
   "source": [
    "# site web\n",
    "query = f\"SELECT date, visites FROM statdb.stat_web2 WHERE YEAR(date) = {year} AND MONTH(date) = {month}\"\n",
    "web = pd.read_sql(query, db_conn)\n",
    "nb_web = web['visites'].sum()\n",
    "print(nb_web)\n",
    "\n",
    "\n",
    "# même mois un an plus tôt\n",
    "query = f\"SELECT date, visites FROM statdb.stat_web2 WHERE YEAR(date) = {year - 1} AND MONTH(date) = {month}\"\n",
    "web = pd.read_sql(query, db_conn)\n",
    "nb_web_prec = web['visites'].sum()\n",
    "print(nb_web_prec)\n",
    "\n",
    "# évolution\n",
    "web_evolution = round((nb_web - nb_web_prec) / nb_web_prec * 100, 0)\n",
    "print(web_evolution)"
   ]
  },
  {
   "cell_type": "code",
   "execution_count": 23,
   "id": "c78d034a",
   "metadata": {},
   "outputs": [
    {
     "name": "stdout",
     "output_type": "stream",
     "text": [
      "406\n",
      "329\n",
      "23.0\n"
     ]
    }
   ],
   "source": [
    "# salle étude\n",
    "query = f\"SELECT datetime_entree FROM statdb.stat_freq_etude WHERE YEAR(datetime_entree) = {year} AND MONTH(datetime_entree) = {month}\"\n",
    "etude = pd.read_sql(query, db_conn)\n",
    "nb_etude = len(etude)\n",
    "print(nb_etude)\n",
    "\n",
    "# même mois un an plus tôt\n",
    "query = f\"SELECT datetime_entree FROM statdb.stat_freq_etude WHERE YEAR(datetime_entree) = {year - 1} AND MONTH(datetime_entree) = {month}\"\n",
    "etude = pd.read_sql(query, db_conn)\n",
    "nb_etude_prec = len(etude)\n",
    "print(nb_etude_prec)\n",
    "\n",
    "# évolution\n",
    "etude_evolution = round((nb_etude - nb_etude_prec) / nb_etude_prec * 100, 0)\n",
    "print(etude_evolution)"
   ]
  },
  {
   "cell_type": "code",
   "execution_count": 25,
   "id": "534af550",
   "metadata": {},
   "outputs": [
    {
     "name": "stdout",
     "output_type": "stream",
     "text": [
      "12861 personnes inscrites (12 %).\n",
      "\n",
      "En moyenne, chaque jour (par rapport au même mois de l'année précédente) :\n",
      "\n",
      "870 entrées (92 %)\n",
      "\n",
      "1274 prêts (22 %)\n",
      "\n",
      "165 connexions aux ordinateurs (75 %)\n",
      "\n",
      "30 connexions Wifi (8 %)\n",
      "\n",
      "156 réservations (-18 %)\n",
      "\n",
      "867 visites du site internet (18 %)\n",
      "\n",
      "18 visites en salle d'études (23 %)\n",
      "\n",
      "\n",
      "\n",
      "Les tops :\n",
      "\n",
      "1520 entrées le 2022-11-18, 236 connexions le 2022-11-02, 224 réservations le 2022-11-04, 2322 prêts le 2022-11-12.\n"
     ]
    }
   ],
   "source": [
    "print(f\"{nb_inscrits} personnes inscrites ({int(inscrits_evolution)} %).\\n\")\n",
    "\n",
    "print(\"En moyenne, chaque jour (par rapport au même mois de l'année précédente) :\\n\")\n",
    "\n",
    "print(f\"{int(round(nb_entrees / days, 0))} entrées ({int(entrees_evolution)} %)\\n\")\n",
    "\n",
    "#XXX prêts (-XX%)\n",
    "print(f\"{int(round(nb_prets / days, 0))} prêts ({int(prets_evolution)} %)\\n\")\n",
    "\n",
    "#XXX connexions aux ordinateurs (+XX%)\n",
    "print(f\"{int(round(nb_conn / days, 0))} connexions aux ordinateurs ({int(conn_evolution)} %)\\n\")\n",
    "\n",
    "#XXX connexions Wifi (-XX%)\n",
    "print(f\"{int(round(nb_wifi / days, 0))} connexions Wifi ({int(wifi_evolution)} %)\\n\")\n",
    "\n",
    "#XXX réservations (-XX%)\n",
    "print(f\"{int(round(nb_res / days, 0))} réservations ({int(res_evolution)} %)\\n\")\n",
    "\n",
    "#XXX visites du site internet (-XX%)\n",
    "print(f\"{int(round(nb_web / days, 0))} visites du site internet ({int(web_evolution)} %)\\n\")\n",
    "\n",
    "#XX visites en salle d'études (-XX%)\n",
    "print(f\"{int(round(nb_etude / days, 0))} visites en salle d'études ({int(etude_evolution)} %)\\n\")\n",
    "\n",
    "print(\"\\n\")\n",
    "print(\"Les tops :\\n\")\n",
    "print(f\"{max_entrees_nb} entrées le {max_entrees_date}, {max_conn_nb} connexions le {max_conn_date}, {max_res_nb} réservations le {max_res_date}, {max_prets_nb} prêts le {max_prets_date}.\")"
   ]
  },
  {
   "cell_type": "code",
   "execution_count": null,
   "id": "5db38386",
   "metadata": {},
   "outputs": [],
   "source": []
  }
 ],
 "metadata": {
  "kernelspec": {
   "display_name": "Python 3 (ipykernel)",
   "language": "python",
   "name": "python3"
  },
  "language_info": {
   "codemirror_mode": {
    "name": "ipython",
    "version": 3
   },
   "file_extension": ".py",
   "mimetype": "text/x-python",
   "name": "python",
   "nbconvert_exporter": "python",
   "pygments_lexer": "ipython3",
   "version": "3.8.12"
  }
 },
 "nbformat": 4,
 "nbformat_minor": 5
}
