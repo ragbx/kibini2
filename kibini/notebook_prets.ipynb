{
 "cells": [
  {
   "cell_type": "code",
   "execution_count": 75,
   "id": "92ed5074",
   "metadata": {},
   "outputs": [],
   "source": [
    "import pandas as pd\n",
    "import numpy as np\n",
    "\n",
    "import matplotlib.pyplot as plt\n",
    "import seaborn as sns\n",
    "sns.set_style(\"darkgrid\")\n",
    "import datetime\n",
    "\n",
    "from kiblib.utils.db import DbConn"
   ]
  },
  {
   "cell_type": "code",
   "execution_count": 76,
   "id": "1e34ab67",
   "metadata": {},
   "outputs": [],
   "source": [
    "db_conn = DbConn().create_engine()"
   ]
  },
  {
   "cell_type": "code",
   "execution_count": 77,
   "id": "35cd7e58",
   "metadata": {},
   "outputs": [],
   "source": [
    "query = \"\"\"\n",
    "SELECT * FROM statdb.stat_issues\n",
    "WHERE location != 'MED0A' AND YEAR(issuedate) >= 2019\n",
    "\"\"\"\n",
    "prets = pd.read_sql(query, con=db_conn)"
   ]
  },
  {
   "cell_type": "code",
   "execution_count": 79,
   "id": "9ee8bd32",
   "metadata": {},
   "outputs": [
    {
     "data": {
      "text/plain": [
       "1152698"
      ]
     },
     "execution_count": 79,
     "metadata": {},
     "output_type": "execute_result"
    }
   ],
   "source": [
    "len(prets)"
   ]
  },
  {
   "cell_type": "code",
   "execution_count": 80,
   "id": "8f1b4330",
   "metadata": {},
   "outputs": [
    {
     "data": {
      "text/plain": [
       "Index(['issuedate', 'date_due', 'returndate', 'renewals', 'branch',\n",
       "       'arret_bus', 'borrowernumber', 'cardnumber', 'age', 'sexe', 'ville',\n",
       "       'id_ic2n', 'iris', 'branchcode', 'categorycode', 'fidelite',\n",
       "       'itemnumber', 'homebranch', 'location', 'ccode', 'ccode_old',\n",
       "       'itemcallnumber', 'itemtype', 'publicationyear', 'biblionumber',\n",
       "       'dateaccessioned', 'cle', 'timestamp', 'issue_id', 'returnbranch'],\n",
       "      dtype='object')"
      ]
     },
     "execution_count": 80,
     "metadata": {},
     "output_type": "execute_result"
    }
   ],
   "source": [
    "prets.columns"
   ]
  },
  {
   "cell_type": "code",
   "execution_count": 81,
   "id": "fe42644f",
   "metadata": {},
   "outputs": [],
   "source": [
    "for c in ['issuedate', 'date_due', 'returndate']:\n",
    "    prets[c] = pd.to_datetime(prets[c])"
   ]
  },
  {
   "cell_type": "code",
   "execution_count": 82,
   "id": "06123051",
   "metadata": {},
   "outputs": [],
   "source": [
    "prets['duree'] = prets['returndate'] - prets['issuedate']\n",
    "prets['duree'] = prets['duree'].dt.days\n",
    "prets['retard'] = prets['returndate'] - prets['date_due']\n",
    "prets['retard'] = prets['retard'].dt.days"
   ]
  },
  {
   "cell_type": "code",
   "execution_count": 83,
   "id": "9e2db1a6",
   "metadata": {},
   "outputs": [],
   "source": [
    "data = prets[prets['duree'] > 0]"
   ]
  },
  {
   "cell_type": "code",
   "execution_count": 84,
   "id": "d7497d15",
   "metadata": {},
   "outputs": [
    {
     "data": {
      "text/plain": [
       "1074428"
      ]
     },
     "execution_count": 84,
     "metadata": {},
     "output_type": "execute_result"
    }
   ],
   "source": [
    "len(data)"
   ]
  },
  {
   "cell_type": "code",
   "execution_count": 85,
   "id": "a9d715a1",
   "metadata": {
    "scrolled": true
   },
   "outputs": [
    {
     "name": "stderr",
     "output_type": "stream",
     "text": [
      "/home/kibini/miniconda3/envs/kibini/lib/python3.8/site-packages/seaborn/_decorators.py:36: FutureWarning: Pass the following variable as a keyword arg: x. From version 0.12, the only valid positional argument will be `data`, and passing other arguments without an explicit keyword will result in an error or misinterpretation.\n",
      "  warnings.warn(\n"
     ]
    },
    {
     "data": {
      "text/plain": [
       "<AxesSubplot:>"
      ]
     },
     "execution_count": 85,
     "metadata": {},
     "output_type": "execute_result"
    },
    {
     "data": {
      "image/png": "[encoded data removed]",
      "text/plain": [
       "<Figure size 432x288 with 1 Axes>"
      ]
     },
     "metadata": {},
     "output_type": "display_data"
    }
   ],
   "source": [
    "sns.boxplot(data['duree'].to_list(), showfliers=False)"
   ]
  },
  {
   "cell_type": "code",
   "execution_count": 86,
   "id": "9d7e80e2",
   "metadata": {},
   "outputs": [
    {
     "name": "stderr",
     "output_type": "stream",
     "text": [
      "/home/kibini/miniconda3/envs/kibini/lib/python3.8/site-packages/seaborn/_decorators.py:36: FutureWarning: Pass the following variable as a keyword arg: x. From version 0.12, the only valid positional argument will be `data`, and passing other arguments without an explicit keyword will result in an error or misinterpretation.\n",
      "  warnings.warn(\n"
     ]
    },
    {
     "data": {
      "text/plain": [
       "<AxesSubplot:>"
      ]
     },
     "execution_count": 86,
     "metadata": {},
     "output_type": "execute_result"
    },
    {
     "data": {
      "image/png": "[encoded data removed]",
      "text/plain": [
       "<Figure size 432x288 with 1 Axes>"
      ]
     },
     "metadata": {},
     "output_type": "display_data"
    }
   ],
   "source": [
    "sns.boxplot(data['retard'].to_list(), showfliers=False)"
   ]
  },
  {
   "cell_type": "code",
   "execution_count": 87,
   "id": "41c50a28",
   "metadata": {},
   "outputs": [],
   "source": [
    "prets['isretard'] = False\n",
    "prets.loc[prets['retard'] > 0, 'isretard'] = True"
   ]
  },
  {
   "cell_type": "code",
   "execution_count": 88,
   "id": "92abb14a",
   "metadata": {},
   "outputs": [
    {
     "data": {
      "text/plain": [
       "False    0.667881\n",
       "True     0.332119\n",
       "Name: isretard, dtype: float64"
      ]
     },
     "execution_count": 88,
     "metadata": {},
     "output_type": "execute_result"
    }
   ],
   "source": [
    "prets['isretard'].value_counts(normalize=True)"
   ]
  },
  {
   "cell_type": "code",
   "execution_count": 89,
   "id": "84845ccb",
   "metadata": {},
   "outputs": [
    {
     "name": "stderr",
     "output_type": "stream",
     "text": [
      "/tmp/ipykernel_32254/2292882429.py:2: SettingWithCopyWarning: \n",
      "A value is trying to be set on a copy of a slice from a DataFrame.\n",
      "Try using .loc[row_indexer,col_indexer] = value instead\n",
      "\n",
      "See the caveats in the documentation: https://pandas.pydata.org/pandas-docs/stable/user_guide/indexing.html#returning-a-view-versus-a-copy\n",
      "  prets_retard['annee'] = prets_retard['issuedate'].dt.year\n",
      "/tmp/ipykernel_32254/2292882429.py:3: SettingWithCopyWarning: \n",
      "A value is trying to be set on a copy of a slice from a DataFrame.\n",
      "Try using .loc[row_indexer,col_indexer] = value instead\n",
      "\n",
      "See the caveats in the documentation: https://pandas.pydata.org/pandas-docs/stable/user_guide/indexing.html#returning-a-view-versus-a-copy\n",
      "  prets_retard['annee'] = prets_retard['annee'].astype(str)\n"
     ]
    }
   ],
   "source": [
    "prets_retard = prets[prets['isretard'] == True]\n",
    "prets_retard['annee'] = prets_retard['issuedate'].dt.year\n",
    "prets_retard['annee'] = prets_retard['annee'].astype(str)"
   ]
  },
  {
   "cell_type": "code",
   "execution_count": 96,
   "id": "136ba690",
   "metadata": {},
   "outputs": [
    {
     "data": {
      "text/plain": [
       "<AxesSubplot:xlabel='retard', ylabel='annee'>"
      ]
     },
     "execution_count": 96,
     "metadata": {},
     "output_type": "execute_result"
    },
    {
     "data": {
      "image/png": "[encoded data removed]",
      "text/plain": [
       "<Figure size 432x288 with 1 Axes>"
      ]
     },
     "metadata": {},
     "output_type": "display_data"
    }
   ],
   "source": [
    "sns.boxplot(data=prets_retard, x='retard', y='annee', showfliers=False)"
   ]
  },
  {
   "cell_type": "code",
   "execution_count": 97,
   "id": "ef97b36d",
   "metadata": {},
   "outputs": [
    {
     "data": {
      "text/plain": [
       "<AxesSubplot:xlabel='retard'>"
      ]
     },
     "execution_count": 97,
     "metadata": {},
     "output_type": "execute_result"
    },
    {
     "data": {
      "image/png": "[encoded data removed]",
      "text/plain": [
       "<Figure size 432x288 with 1 Axes>"
      ]
     },
     "metadata": {},
     "output_type": "display_data"
    }
   ],
   "source": [
    "sns.boxplot(data=prets_retard, x='retard', showfliers=False)"
   ]
  },
  {
   "cell_type": "code",
   "execution_count": 100,
   "id": "47eee24e",
   "metadata": {},
   "outputs": [
    {
     "data": {
      "text/plain": [
       "<AxesSubplot:xlabel='retard', ylabel='Count'>"
      ]
     },
     "execution_count": 100,
     "metadata": {},
     "output_type": "execute_result"
    },
    {
     "data": {
      "image/png": "[encoded data removed]",
      "text/plain": [
       "<Figure size 432x288 with 1 Axes>"
      ]
     },
     "metadata": {},
     "output_type": "display_data"
    }
   ],
   "source": [
    "sns.histplot(data=prets_retard[prets_retard['retard'] < 60], x='retard')"
   ]
  },
  {
   "cell_type": "code",
   "execution_count": null,
   "id": "75d4dbd9",
   "metadata": {},
   "outputs": [],
   "source": []
  }
 ],
 "metadata": {
  "kernelspec": {
   "display_name": "Python 3 (ipykernel)",
   "language": "python",
   "name": "python3"
  },
  "language_info": {
   "codemirror_mode": {
    "name": "ipython",
    "version": 3
   },
   "file_extension": ".py",
   "mimetype": "text/x-python",
   "name": "python",
   "nbconvert_exporter": "python",
   "pygments_lexer": "ipython3",
   "version": "3.8.12"
  }
 },
 "nbformat": 4,
 "nbformat_minor": 5
}
