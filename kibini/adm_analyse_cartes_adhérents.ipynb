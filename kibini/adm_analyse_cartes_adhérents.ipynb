{
 "cells": [
  {
   "cell_type": "markdown",
   "id": "24f1c47c",
   "metadata": {},
   "source": [
    "# Introduction\n",
    "Ce notebook a pour objectif de réaliser diverses opérations sur les usagers de la médiathèque :"
   ]
  },
  {
   "cell_type": "code",
   "execution_count": 1,
   "id": "74fbaa45",
   "metadata": {},
   "outputs": [],
   "source": [
    "import pandas as pd\n",
    "from datetime import datetime\n",
    "\n",
    "from kiblib.utils.db import DbConn"
   ]
  },
  {
   "cell_type": "code",
   "execution_count": 2,
   "id": "d405d712",
   "metadata": {},
   "outputs": [],
   "source": [
    "db_conn = DbConn().create_engine()"
   ]
  },
  {
   "cell_type": "code",
   "execution_count": 3,
   "id": "f68ff17a",
   "metadata": {},
   "outputs": [],
   "source": [
    "query = \"\"\"SELECT * \n",
    "FROM koha_prod.borrowers b\"\"\""
   ]
  },
  {
   "cell_type": "code",
   "execution_count": 4,
   "id": "6e5281d3",
   "metadata": {},
   "outputs": [],
   "source": [
    "items = pd.read_sql(query, db_conn)"
   ]
  },
  {
   "cell_type": "code",
   "execution_count": 5,
   "id": "30057e36",
   "metadata": {},
   "outputs": [
    {
     "data": {
      "text/plain": [
       "Index(['borrowernumber', 'cardnumber', 'surname', 'firstname', 'title',\n",
       "       'othernames', 'initials', 'streetnumber', 'streettype', 'address',\n",
       "       'address2', 'city', 'state', 'zipcode', 'country', 'email', 'phone',\n",
       "       'mobile', 'fax', 'emailpro', 'phonepro', 'B_streetnumber',\n",
       "       'B_streettype', 'B_address', 'B_address2', 'B_city', 'B_state',\n",
       "       'B_zipcode', 'B_country', 'B_email', 'B_phone', 'dateofbirth',\n",
       "       'branchcode', 'categorycode', 'dateenrolled', 'dateexpiry',\n",
       "       'date_renewed', 'gonenoaddress', 'lost', 'debarred', 'debarredcomment',\n",
       "       'contactname', 'contactfirstname', 'contacttitle', 'borrowernotes',\n",
       "       'relationship', 'sex', 'password', 'flags', 'userid', 'opacnote',\n",
       "       'contactnote', 'sort1', 'sort2', 'altcontactfirstname',\n",
       "       'altcontactsurname', 'altcontactaddress1', 'altcontactaddress2',\n",
       "       'altcontactaddress3', 'altcontactstate', 'altcontactzipcode',\n",
       "       'altcontactcountry', 'altcontactphone', 'smsalertnumber',\n",
       "       'sms_provider_id', 'privacy', 'privacy_guarantor_fines',\n",
       "       'privacy_guarantor_checkouts', 'checkprevcheckout', 'updated_on',\n",
       "       'lastseen', 'lang', 'login_attempts', 'overdrive_auth_token',\n",
       "       'anonymized', 'autorenew_checkouts', 'primary_contact_method'],\n",
       "      dtype='object')"
      ]
     },
     "execution_count": 5,
     "metadata": {},
     "output_type": "execute_result"
    }
   ],
   "source": [
    "items.columns #avant la traduction"
   ]
  },
  {
   "cell_type": "code",
   "execution_count": 6,
   "id": "956964ca",
   "metadata": {},
   "outputs": [],
   "source": [
    "items = items.rename(columns={\"cardnumber\":\"numéro de carte\",\n",
    "                              \"surname\":\"nom de famille\",\n",
    "                              \"firstname\":\"prénom\",\n",
    "                              \"title\":\"civilité\",\n",
    "                              \"streetnumber\":\"numéro de rue\",\n",
    "                              \"streettype\":\"type de rue\",\n",
    "                              \"address\":\"adresse\",\n",
    "                              \"city\":\"ville\",\n",
    "                              \"state\":\"province\",\n",
    "                              \"country\":\"pays\",\n",
    "                              \"phone\":\"numéro de téléphone fixe\",\n",
    "                              \"mobile\":\"numéro de téléphone portable\",\n",
    "                              \"dateofbirth\":\"date de naissance\",\n",
    "                              \"branchcode\":\"site de rattachement\",\n",
    "                              \"categorycode\":\"type de carte\",\n",
    "                              \"dateenrolled\":\"date d'inscription\",\n",
    "                              \"dateexpiry\":\"date d'expiration\",\n",
    "                              \"date_renewed\":\"date de renouvellement\",\n",
    "                              \"gonenoaddress\":\"parti sans laisser d'adresse\",\n",
    "                              \"lost\":\"carte perdue\",\n",
    "                              \"debarred\":\"date de suspension\",\n",
    "                              \"flags\":\"permissions\",\n",
    "                              \"debarredcomment\":\"commentaire de suspension\",\n",
    "                              \"contactname\":\"nom du garant\",\n",
    "                              \"updated_on\":\"date dernier changement\",\n",
    "                              \"lastseen\":\"date dernière transaction\"})\n",
    "                              "
   ]
  },
  {
   "cell_type": "code",
   "execution_count": 7,
   "id": "f1de5bad",
   "metadata": {},
   "outputs": [
    {
     "data": {
      "text/plain": [
       "Index(['borrowernumber', 'numéro de carte', 'nom de famille', 'prénom',\n",
       "       'civilité', 'othernames', 'initials', 'numéro de rue', 'type de rue',\n",
       "       'adresse', 'address2', 'ville', 'province', 'zipcode', 'pays', 'email',\n",
       "       'numéro de téléphone fixe', 'numéro de téléphone portable', 'fax',\n",
       "       'emailpro', 'phonepro', 'B_streetnumber', 'B_streettype', 'B_address',\n",
       "       'B_address2', 'B_city', 'B_state', 'B_zipcode', 'B_country', 'B_email',\n",
       "       'B_phone', 'date de naissance', 'site de rattachement', 'type de carte',\n",
       "       'date d'inscription', 'date d'expiration', 'date de renouvellement',\n",
       "       'parti sans laisser d'adresse', 'carte perdue', 'date de suspension',\n",
       "       'commentaire de suspension', 'nom du garant', 'contactfirstname',\n",
       "       'contacttitle', 'borrowernotes', 'relationship', 'sex', 'password',\n",
       "       'permissions', 'userid', 'opacnote', 'contactnote', 'sort1', 'sort2',\n",
       "       'altcontactfirstname', 'altcontactsurname', 'altcontactaddress1',\n",
       "       'altcontactaddress2', 'altcontactaddress3', 'altcontactstate',\n",
       "       'altcontactzipcode', 'altcontactcountry', 'altcontactphone',\n",
       "       'smsalertnumber', 'sms_provider_id', 'privacy',\n",
       "       'privacy_guarantor_fines', 'privacy_guarantor_checkouts',\n",
       "       'checkprevcheckout', 'date dernier changement',\n",
       "       'date dernière transaction', 'lang', 'login_attempts',\n",
       "       'overdrive_auth_token', 'anonymized', 'autorenew_checkouts',\n",
       "       'primary_contact_method'],\n",
       "      dtype='object')"
      ]
     },
     "execution_count": 7,
     "metadata": {},
     "output_type": "execute_result"
    }
   ],
   "source": [
    "items.columns #après la traduction"
   ]
  },
  {
   "cell_type": "markdown",
   "id": "46363d14",
   "metadata": {},
   "source": [
    "# DÉFINITION DE QUELQUES VARIABLES IMPORTANTES\n",
    "## Transformation des colonnes au format `Date`"
   ]
  },
  {
   "cell_type": "code",
   "execution_count": 8,
   "id": "fda92624",
   "metadata": {},
   "outputs": [],
   "source": [
    "items[\"date de naissance\"] = pd.to_datetime(items[\"date de naissance\"])"
   ]
  },
  {
   "cell_type": "code",
   "execution_count": 9,
   "id": "3d4baf14",
   "metadata": {},
   "outputs": [],
   "source": [
    "items[\"date d'inscription\"] = pd.to_datetime(items[\"date d'inscription\"])"
   ]
  },
  {
   "cell_type": "code",
   "execution_count": 10,
   "id": "9d5193d7",
   "metadata": {},
   "outputs": [],
   "source": [
    "items[\"date d'expiration\"] = pd.to_datetime(items[\"date d'expiration\"])"
   ]
  },
  {
   "cell_type": "code",
   "execution_count": 11,
   "id": "c0f2dea4",
   "metadata": {},
   "outputs": [],
   "source": [
    "items[\"date de renouvellement\"] = pd.to_datetime(items[\"date de renouvellement\"])"
   ]
  },
  {
   "cell_type": "markdown",
   "id": "af6b396d",
   "metadata": {},
   "source": [
    "## Colonnes à exporter"
   ]
  },
  {
   "cell_type": "code",
   "execution_count": 12,
   "id": "5ba22b29",
   "metadata": {},
   "outputs": [],
   "source": [
    "colonnes_a_exporter = [\"numéro de carte\",\"nom de famille\",\"prénom\",\"civilité\",\"numéro de rue\",\"type de rue\",\"adresse\",\"ville\",\"province\",\"pays\",\"numéro de téléphone fixe\",\"numéro de téléphone portable\",\"email\",\"date de naissance\",\"site de rattachement\",\"type de carte\",\"date d'inscription\",\"date d'expiration\",\"date de renouvellement\",\"parti sans laisser d'adresse\",\"carte perdue\",\"date de suspension\",\"permissions\",\"commentaire de suspension\",\"nom du garant\",\"date dernier changement\",\"date dernière transaction\"]"
   ]
  },
  {
   "cell_type": "markdown",
   "id": "52b52d87",
   "metadata": {},
   "source": [
    "# ANALYSE DES ANOMALIES SUR LES CARTES D'ADHÉRENTS\n",
    "## Analyse sur les données manquantes\n"
   ]
  },
  {
   "cell_type": "markdown",
   "id": "46163088",
   "metadata": {},
   "source": [
    "Lors de l'inscription d'un adhérent, de nombreux champs sont à renseigner. Certains champs sont *obligatoires* et d'autres non. Ce sont sur les champs non-obligatoires que nous allons nous intéresser ici. En voici la liste : \n",
    "* [ ] prénom\n",
    "* [ ] nom de famille du garant (REQUÊTE SPÉCIALE !)\n",
    "* [ ] ni fixe, ni mobile, ni adresse mail\n",
    "* [ ] ...\n",
    "* [ ] ...\n",
    "* [ ] ...\n",
    "* [ ] ...\n",
    "* [ ] ..."
   ]
  },
  {
   "cell_type": "markdown",
   "id": "fedf1731",
   "metadata": {},
   "source": [
    "### Numéro de téléphone"
   ]
  },
  {
   "cell_type": "code",
   "execution_count": 21,
   "id": "05cb8daa",
   "metadata": {},
   "outputs": [],
   "source": [
    "telephone_ko = items[~items[\"numéro de téléphone fixe\"].isna()]\n",
    "telephone_ko = telephone_ko[~telephone_ko[\"numéro de téléphone portable\"].isna()] #on est obligé de passer par là, la fonction str.contains n'accepte pas les NaN"
   ]
  },
  {
   "cell_type": "code",
   "execution_count": 23,
   "id": "45c2e403",
   "metadata": {},
   "outputs": [],
   "source": [
    "telephone_ko = telephone_ko[(~telephone_ko[\"numéro de téléphone fixe\"].str.contains(\"\\w\",regex=True))]\n",
    "telephone_ko = telephone_ko[(~telephone_ko[\"numéro de téléphone portable\"].str.contains(\"\\w\",regex=True))]"
   ]
  },
  {
   "cell_type": "code",
   "execution_count": 24,
   "id": "f23d8f64",
   "metadata": {},
   "outputs": [
    {
     "data": {
      "text/plain": [
       "5338"
      ]
     },
     "execution_count": 24,
     "metadata": {},
     "output_type": "execute_result"
    }
   ],
   "source": [
    "len(telephone_ko)"
   ]
  },
  {
   "cell_type": "markdown",
   "id": "56df50e0",
   "metadata": {},
   "source": [
    "## Email"
   ]
  },
  {
   "cell_type": "code",
   "execution_count": 118,
   "id": "5ab555c3",
   "metadata": {},
   "outputs": [],
   "source": [
    "email_ko = items[~items[\"email\"].isna()]\n",
    "email_ko = email_ko[~email_ko[\"email\"].str.contains(\"\\w\",regex=True)]"
   ]
  }
 ],
 "metadata": {
  "kernelspec": {
   "display_name": "Python 3 (ipykernel)",
   "language": "python",
   "name": "python3"
  },
  "language_info": {
   "codemirror_mode": {
    "name": "ipython",
    "version": 3
   },
   "file_extension": ".py",
   "mimetype": "text/x-python",
   "name": "python",
   "nbconvert_exporter": "python",
   "pygments_lexer": "ipython3",
   "version": "3.8.12"
  }
 },
 "nbformat": 4,
 "nbformat_minor": 5
}
