{
 "cells": [
  {
   "cell_type": "markdown",
   "id": "ba5e939f",
   "metadata": {},
   "source": [
    "# INTRODUCTION\n",
    "Le but de ce notebook est de relever les anomalies présentes sur les notices d'exemplaire afin de pouvoir exporter des listes à destination des aquéreurs. Le script se compose des parties suivantes :\n",
    "1. Import de la table `items`\n",
    "2.Traduction des colonnes pour les rendre lisibles pour les collègues qui auront le tableau sous les yeux \n",
    "3. Import des tables de valeurs autorisées\n",
    "4. Une suite de requêtes sur concernant les différentes colonnes de notre dataframe nommé `items`\n",
    "\n",
    "# IMPORT DE LA TABLE `items`"
   ]
  },
  {
   "cell_type": "code",
   "execution_count": 1,
   "id": "8ccbcb5a",
   "metadata": {},
   "outputs": [],
   "source": [
    "import pandas as pd\n",
    "from datetime import datetime\n",
    "\n",
    "from kiblib.utils.db import DbConn"
   ]
  },
  {
   "cell_type": "code",
   "execution_count": 2,
   "id": "1986b117",
   "metadata": {},
   "outputs": [],
   "source": [
    "db_conn = DbConn().create_engine()"
   ]
  },
  {
   "cell_type": "markdown",
   "id": "c444bdd2",
   "metadata": {},
   "source": [
    "On définit la variable query comme une requête SQL dans laquelle aux champs de la table items on a ajouté le champs itemtype de la table biblioitems:"
   ]
  },
  {
   "cell_type": "code",
   "execution_count": 3,
   "id": "03c06d19",
   "metadata": {},
   "outputs": [],
   "source": [
    "query = \"\"\"SELECT i.itemnumber, i.biblionumber, i.biblioitemnumber, i.barcode, i.dateaccessioned, i.booksellerid, i.homebranch, i.price, i.replacementprice, i.replacementpricedate, i.datelastborrowed, i.datelastseen, i.stack, i.notforloan, i.damaged, i.damaged_on, i.itemlost, i.itemlost_on, i.withdrawn, i.withdrawn_on, i.itemcallnumber, i.coded_location_qualifier, i.issues, i.renewals, i.reserves, i.restricted, i.itemnotes, i.itemnotes_nonpublic, i.holdingbranch,i.timestamp, i.location, i.permanent_location, i.onloan, i.cn_source, i.cn_sort, i.ccode, i.materials, i.uri, i.itype, i.more_subfields_xml, i.enumchron, i.copynumber, i.stocknumber, i.new_status, i.exclude_from_local_holds_priority, bi.itemtype\n",
    "FROM koha_prod.items i\n",
    "JOIN koha_prod.biblioitems bi ON bi.biblionumber = i.biblionumber \"\"\""
   ]
  },
  {
   "cell_type": "code",
   "execution_count": 4,
   "id": "2fc74c8d",
   "metadata": {},
   "outputs": [],
   "source": [
    "items = pd.read_sql(query,db_conn)"
   ]
  },
  {
   "cell_type": "markdown",
   "id": "4a501b3e",
   "metadata": {},
   "source": [
    "# MODIFICATION DU DATAFRAME & AMÉLIORATION DE LA LISIBILITÉ"
   ]
  },
  {
   "cell_type": "code",
   "execution_count": 5,
   "id": "d5a4454e",
   "metadata": {},
   "outputs": [
    {
     "data": {
      "text/plain": [
       "Index(['itemnumber', 'biblionumber', 'biblioitemnumber', 'barcode',\n",
       "       'dateaccessioned', 'booksellerid', 'homebranch', 'price',\n",
       "       'replacementprice', 'replacementpricedate', 'datelastborrowed',\n",
       "       'datelastseen', 'stack', 'notforloan', 'damaged', 'damaged_on',\n",
       "       'itemlost', 'itemlost_on', 'withdrawn', 'withdrawn_on',\n",
       "       'itemcallnumber', 'coded_location_qualifier', 'issues', 'renewals',\n",
       "       'reserves', 'restricted', 'itemnotes', 'itemnotes_nonpublic',\n",
       "       'holdingbranch', 'timestamp', 'location', 'permanent_location',\n",
       "       'onloan', 'cn_source', 'cn_sort', 'ccode', 'materials', 'uri', 'itype',\n",
       "       'more_subfields_xml', 'enumchron', 'copynumber', 'stocknumber',\n",
       "       'new_status', 'exclude_from_local_holds_priority', 'itemtype'],\n",
       "      dtype='object')"
      ]
     },
     "execution_count": 5,
     "metadata": {},
     "output_type": "execute_result"
    }
   ],
   "source": [
    "items.columns # avant la traduction"
   ]
  },
  {
   "cell_type": "code",
   "execution_count": 6,
   "id": "bb177c86",
   "metadata": {},
   "outputs": [],
   "source": [
    "items = items.rename(columns={\"barcode\":\"code-barre\",\n",
    "                              \"dateaccessioned\":\"date d'acquisition\",\n",
    "                              \"homebranch\":\"site propriétaire\",\n",
    "                              \"holdingbranch\":\"site dépositaire\",\n",
    "                              \"price\":\"prix\",\n",
    "                              \"replacementprice\":\"coût de remplacement\",\n",
    "                              \"datelastborrowed\":\"date dernier emprunt\",\n",
    "                              \"datelastseen\":\"vu la dernière fois\",\n",
    "                              \"damaged_on\":\"abimé le\",\n",
    "                              \"itemlost_on\":\"perdu le\",\n",
    "                              \"withdrawn_on\":\"retiré de la circulation le\",\n",
    "                              \"itemcallnumber\":\"cote\",\n",
    "                              \"issues\":\"nombre de prêts\",\n",
    "                              \"timestamp\":\"date dernier changement\",\n",
    "                              \"permanent_location\":\"localisation permanente\",\n",
    "                              \"onloan\":\"retour prévu le\",\n",
    "                              \"itemnotes\":\"notes publiques\",\n",
    "                              \"itemnotes_nonpublic\":\"notes internes\"})"
   ]
  },
  {
   "cell_type": "code",
   "execution_count": 7,
   "id": "849dadef",
   "metadata": {},
   "outputs": [
    {
     "data": {
      "text/plain": [
       "Index(['itemnumber', 'biblionumber', 'biblioitemnumber', 'code-barre',\n",
       "       'date d'acquisition', 'booksellerid', 'site propriétaire', 'prix',\n",
       "       'coût de remplacement', 'replacementpricedate', 'date dernier emprunt',\n",
       "       'vu la dernière fois', 'stack', 'notforloan', 'damaged', 'abimé le',\n",
       "       'itemlost', 'perdu le', 'withdrawn', 'retiré de la circulation le',\n",
       "       'cote', 'coded_location_qualifier', 'nombre de prêts', 'renewals',\n",
       "       'reserves', 'restricted', 'notes publiques', 'notes internes',\n",
       "       'site dépositaire', 'date dernier changement', 'location',\n",
       "       'localisation permanente', 'retour prévu le', 'cn_source', 'cn_sort',\n",
       "       'ccode', 'materials', 'uri', 'itype', 'more_subfields_xml', 'enumchron',\n",
       "       'copynumber', 'stocknumber', 'new_status',\n",
       "       'exclude_from_local_holds_priority', 'itemtype'],\n",
       "      dtype='object')"
      ]
     },
     "execution_count": 7,
     "metadata": {},
     "output_type": "execute_result"
    }
   ],
   "source": [
    "items.columns #après la traduction"
   ]
  },
  {
   "cell_type": "markdown",
   "id": "9fc8984c",
   "metadata": {},
   "source": [
    "# Utiliser la jointure de tables pour remplacer les valeurs autorisées\n",
    "\n",
    "## Notforloan"
   ]
  },
  {
   "cell_type": "code",
   "execution_count": 8,
   "id": "7e52d302",
   "metadata": {},
   "outputs": [],
   "source": [
    "query2 = \"\"\"SELECT av.authorised_value,av.lib \n",
    "FROM koha_prod.authorised_values av\n",
    "WHERE category = 'etat'\"\"\""
   ]
  },
  {
   "cell_type": "code",
   "execution_count": 9,
   "id": "ee41e300",
   "metadata": {},
   "outputs": [],
   "source": [
    "va_notforloan = pd.read_sql(query2, db_conn)"
   ]
  },
  {
   "cell_type": "code",
   "execution_count": 10,
   "id": "0b07ab4c",
   "metadata": {},
   "outputs": [],
   "source": [
    "va_notforloan['authorised_value'] = va_notforloan['authorised_value'].astype(int)"
   ]
  },
  {
   "cell_type": "code",
   "execution_count": 11,
   "id": "428a27a7",
   "metadata": {},
   "outputs": [],
   "source": [
    "items = items.merge(va_notforloan,left_on=\"notforloan\",right_on=\"authorised_value\",how=\"left\")"
   ]
  },
  {
   "cell_type": "code",
   "execution_count": 12,
   "id": "8fc68b14",
   "metadata": {},
   "outputs": [],
   "source": [
    "items = items.rename(columns={\"authorised_value\": \"valeurs autorisées\", \"lib\": \"statut\"})"
   ]
  },
  {
   "cell_type": "code",
   "execution_count": 13,
   "id": "7380bc55",
   "metadata": {},
   "outputs": [],
   "source": [
    "items = items.drop(columns=['valeurs autorisées'])"
   ]
  },
  {
   "cell_type": "markdown",
   "id": "76891270",
   "metadata": {},
   "source": [
    "## Damaged"
   ]
  },
  {
   "cell_type": "code",
   "execution_count": 14,
   "id": "db845c52",
   "metadata": {},
   "outputs": [],
   "source": [
    "query3 = \"\"\"SELECT av.authorised_value,av.lib \n",
    "FROM koha_prod.authorised_values av\n",
    "WHERE category = 'damaged'\"\"\""
   ]
  },
  {
   "cell_type": "code",
   "execution_count": 15,
   "id": "a5572c7d",
   "metadata": {},
   "outputs": [],
   "source": [
    "va_damaged = pd.read_sql(query3, db_conn)"
   ]
  },
  {
   "cell_type": "code",
   "execution_count": 16,
   "id": "ebf33c07",
   "metadata": {},
   "outputs": [],
   "source": [
    "va_damaged['authorised_value'] = va_damaged['authorised_value'].astype(int)"
   ]
  },
  {
   "cell_type": "code",
   "execution_count": 17,
   "id": "e87e4a86",
   "metadata": {},
   "outputs": [],
   "source": [
    "items = items.merge(va_damaged,left_on=\"damaged\",right_on=\"authorised_value\",how=\"left\")"
   ]
  },
  {
   "cell_type": "code",
   "execution_count": 18,
   "id": "6ece7ad4",
   "metadata": {},
   "outputs": [],
   "source": [
    "items = items.rename(columns={\"lib\": \"abimé\"})"
   ]
  },
  {
   "cell_type": "code",
   "execution_count": 19,
   "id": "73b1b519",
   "metadata": {},
   "outputs": [],
   "source": [
    "items = items.drop(columns=[\"authorised_value\"])"
   ]
  },
  {
   "cell_type": "markdown",
   "id": "f9648eed",
   "metadata": {},
   "source": [
    "## itemlost"
   ]
  },
  {
   "cell_type": "code",
   "execution_count": 20,
   "id": "f68091e9",
   "metadata": {},
   "outputs": [],
   "source": [
    "query4 = \"\"\"SELECT av.authorised_value,av.lib \n",
    "FROM koha_prod.authorised_values av\n",
    "WHERE category = 'lost'\"\"\""
   ]
  },
  {
   "cell_type": "code",
   "execution_count": 21,
   "id": "818a102a",
   "metadata": {},
   "outputs": [],
   "source": [
    "va_itemlost = pd.read_sql(query4, db_conn)"
   ]
  },
  {
   "cell_type": "code",
   "execution_count": 22,
   "id": "55fdf2e2",
   "metadata": {},
   "outputs": [],
   "source": [
    "va_itemlost['authorised_value'] = va_itemlost['authorised_value'].astype(int)"
   ]
  },
  {
   "cell_type": "code",
   "execution_count": 23,
   "id": "fb53c513",
   "metadata": {},
   "outputs": [],
   "source": [
    "items = items.merge(va_itemlost,left_on=\"itemlost\",right_on=\"authorised_value\",how=\"left\")"
   ]
  },
  {
   "cell_type": "code",
   "execution_count": 24,
   "id": "94c0d09e",
   "metadata": {},
   "outputs": [],
   "source": [
    "items = items.rename(columns={\"lib\": \"perdu\"})"
   ]
  },
  {
   "cell_type": "code",
   "execution_count": 25,
   "id": "626fa6dd",
   "metadata": {},
   "outputs": [],
   "source": [
    "items = items.drop(columns=[\"authorised_value\"])"
   ]
  },
  {
   "cell_type": "markdown",
   "id": "b01bb421",
   "metadata": {},
   "source": [
    "## Withdrawn"
   ]
  },
  {
   "cell_type": "code",
   "execution_count": 26,
   "id": "e039d991",
   "metadata": {},
   "outputs": [],
   "source": [
    "query5 = \"\"\"SELECT av.authorised_value,av.lib \n",
    "FROM koha_prod.authorised_values av\n",
    "WHERE category = 'retirecoll'\"\"\""
   ]
  },
  {
   "cell_type": "code",
   "execution_count": 27,
   "id": "58ea4529",
   "metadata": {},
   "outputs": [],
   "source": [
    "va_withdrawn = pd.read_sql(query5, db_conn)"
   ]
  },
  {
   "cell_type": "code",
   "execution_count": 28,
   "id": "89809095",
   "metadata": {},
   "outputs": [],
   "source": [
    "va_withdrawn['authorised_value'] = va_withdrawn['authorised_value'].astype(int)"
   ]
  },
  {
   "cell_type": "code",
   "execution_count": 29,
   "id": "dfc2f6d1",
   "metadata": {},
   "outputs": [],
   "source": [
    "items = items.merge(va_withdrawn,left_on=\"withdrawn\",right_on=\"authorised_value\",how=\"left\")"
   ]
  },
  {
   "cell_type": "code",
   "execution_count": 30,
   "id": "5cdc90ea",
   "metadata": {},
   "outputs": [],
   "source": [
    "items = items.rename(columns={\"lib\": \"retiré de la circulation\"})"
   ]
  },
  {
   "cell_type": "code",
   "execution_count": 31,
   "id": "3ce54640",
   "metadata": {},
   "outputs": [],
   "source": [
    "items = items.drop(columns=[\"authorised_value\"])"
   ]
  },
  {
   "cell_type": "markdown",
   "id": "052cae71",
   "metadata": {},
   "source": [
    "## Ccode"
   ]
  },
  {
   "cell_type": "code",
   "execution_count": 32,
   "id": "748fedff",
   "metadata": {},
   "outputs": [],
   "source": [
    "query6 = \"\"\"SELECT av.authorised_value,av.lib \n",
    "FROM koha_prod.authorised_values av\n",
    "WHERE category = 'collection'\"\"\""
   ]
  },
  {
   "cell_type": "code",
   "execution_count": 33,
   "id": "c4c925e8",
   "metadata": {},
   "outputs": [],
   "source": [
    "va_collection = pd.read_sql(query6, db_conn)"
   ]
  },
  {
   "cell_type": "code",
   "execution_count": 34,
   "id": "3388ea97",
   "metadata": {},
   "outputs": [],
   "source": [
    "items = items.merge(va_collection,left_on=\"ccode\",right_on=\"authorised_value\",how=\"left\")"
   ]
  },
  {
   "cell_type": "code",
   "execution_count": 35,
   "id": "444d6cb8",
   "metadata": {},
   "outputs": [],
   "source": [
    "items = items.rename(columns={\"lib\": \"collection\"})"
   ]
  },
  {
   "cell_type": "code",
   "execution_count": 36,
   "id": "d8183752",
   "metadata": {},
   "outputs": [],
   "source": [
    "items = items.drop(columns=[\"authorised_value\"])"
   ]
  },
  {
   "cell_type": "markdown",
   "id": "f247e326",
   "metadata": {},
   "source": [
    "## location"
   ]
  },
  {
   "cell_type": "code",
   "execution_count": 37,
   "id": "9498e40a",
   "metadata": {},
   "outputs": [],
   "source": [
    "query7 = \"\"\"SELECT av.authorised_value,av.lib \n",
    "FROM koha_prod.authorised_values av\n",
    "WHERE category = 'loc'\"\"\""
   ]
  },
  {
   "cell_type": "code",
   "execution_count": 38,
   "id": "a507708a",
   "metadata": {},
   "outputs": [],
   "source": [
    "va_location = pd.read_sql(query7, db_conn)"
   ]
  },
  {
   "cell_type": "code",
   "execution_count": 39,
   "id": "7360ba16",
   "metadata": {},
   "outputs": [],
   "source": [
    "items = items.merge(va_location,left_on=\"location\",right_on=\"authorised_value\",how=\"left\")"
   ]
  },
  {
   "cell_type": "code",
   "execution_count": 40,
   "id": "e6111fe8",
   "metadata": {},
   "outputs": [],
   "source": [
    "items = items.rename(columns={\"lib\": \"localisation\"})"
   ]
  },
  {
   "cell_type": "code",
   "execution_count": 41,
   "id": "b29b4914",
   "metadata": {},
   "outputs": [],
   "source": [
    "items = items.drop(columns=[\"authorised_value\"])"
   ]
  },
  {
   "cell_type": "markdown",
   "id": "9b8d62b2",
   "metadata": {},
   "source": [
    "## itemtype"
   ]
  },
  {
   "cell_type": "code",
   "execution_count": 42,
   "id": "434fe8f9",
   "metadata": {},
   "outputs": [],
   "source": [
    "query8 = \"\"\"SELECT av.authorised_value,av.lib \n",
    "FROM koha_prod.authorised_values av\n",
    "WHERE category = 'typedoc'\"\"\""
   ]
  },
  {
   "cell_type": "code",
   "execution_count": 43,
   "id": "a4fb8ea5",
   "metadata": {},
   "outputs": [],
   "source": [
    "va_itemtype = pd.read_sql(query8, db_conn)"
   ]
  },
  {
   "cell_type": "code",
   "execution_count": 44,
   "id": "7ea8d226",
   "metadata": {},
   "outputs": [],
   "source": [
    "items = items.merge(va_itemtype,left_on=\"itemtype\",right_on=\"authorised_value\",how=\"left\")"
   ]
  },
  {
   "cell_type": "code",
   "execution_count": 45,
   "id": "3cd1f9f0",
   "metadata": {},
   "outputs": [],
   "source": [
    "items = items.rename(columns={\"lib\": \"type de support\"})"
   ]
  },
  {
   "cell_type": "code",
   "execution_count": 46,
   "id": "d1a0ca76",
   "metadata": {},
   "outputs": [],
   "source": [
    "items = items.drop(columns=[\"authorised_value\"])"
   ]
  },
  {
   "cell_type": "markdown",
   "id": "f72280e3",
   "metadata": {},
   "source": [
    "items.columns\n",
    "\n",
    "* [x] notforloan / statut \n",
    "* [x] damaged / abimé\n",
    "* [x] itemlost / perdu\n",
    "* [x] withdrawn / retiré de la circulation\n",
    "* [x] ccode / code collection\n",
    "* [x] location / localisation"
   ]
  },
  {
   "cell_type": "markdown",
   "id": "3f47297a",
   "metadata": {},
   "source": [
    "\n",
    "# DÉFINITION DE QUELQUES VARIABLES IMPORTANTES\n",
    "\n",
    "## Les colonnes à exporter"
   ]
  },
  {
   "cell_type": "code",
   "execution_count": 47,
   "id": "1f1b43da",
   "metadata": {},
   "outputs": [],
   "source": [
    "colonnes_a_exporter = [\"code-barre\",\n",
    "                       \"date d'acquisition\",\n",
    "                       \"site propriétaire\",\n",
    "                       \"site dépositaire\",\n",
    "                       \"prix\",\n",
    "                       \"coût de remplacement\",\n",
    "                       \"date dernier emprunt\",\n",
    "                       \"vu la dernière fois\",\n",
    "                       \"statut\",\n",
    "                       \"abimé\",\n",
    "                       \"abimé le\",\n",
    "                       \"perdu\",\n",
    "                       \"perdu le\",\n",
    "                       \"retiré de la circulation\",\n",
    "                       \"type de support\",\n",
    "                       \"collection\",\n",
    "                       \"cote\",\n",
    "                       \"nombre de prêts\",\n",
    "                       \"date dernier changement\",\n",
    "                       \"localisation\",\n",
    "                       \"localisation permanente\",\n",
    "                       \"notes publiques\",\n",
    "                       \"notes internes\"\n",
    "                      ]"
   ]
  },
  {
   "cell_type": "markdown",
   "id": "58c689f7",
   "metadata": {},
   "source": [
    "## Transformation des colonnes au format `date`"
   ]
  },
  {
   "cell_type": "code",
   "execution_count": 48,
   "id": "0a6ff2ec",
   "metadata": {},
   "outputs": [],
   "source": [
    "items[\"date d'acquisition\"] = pd.to_datetime(items[\"date d'acquisition\"])"
   ]
  },
  {
   "cell_type": "code",
   "execution_count": 49,
   "id": "c53f5e40",
   "metadata": {},
   "outputs": [],
   "source": [
    "items[\"date dernier emprunt\"] = pd.to_datetime(items[\"date dernier emprunt\"])"
   ]
  },
  {
   "cell_type": "code",
   "execution_count": 50,
   "id": "e8d30ed7",
   "metadata": {},
   "outputs": [],
   "source": [
    "items[\"vu la dernière fois\"] = pd.to_datetime(items[\"vu la dernière fois\"])"
   ]
  },
  {
   "cell_type": "code",
   "execution_count": 51,
   "id": "c941a34b",
   "metadata": {},
   "outputs": [],
   "source": [
    "items[\"abimé le\"] = pd.to_datetime(items[\"abimé le\"])"
   ]
  },
  {
   "cell_type": "code",
   "execution_count": 52,
   "id": "002110f5",
   "metadata": {},
   "outputs": [],
   "source": [
    "items[\"perdu le\"] = pd.to_datetime(items[\"perdu le\"])"
   ]
  },
  {
   "cell_type": "code",
   "execution_count": 53,
   "id": "da079a98",
   "metadata": {},
   "outputs": [],
   "source": [
    "items[\"date dernier changement\"] = pd.to_datetime(items[\"date dernier changement\"])"
   ]
  },
  {
   "cell_type": "markdown",
   "id": "706ab03f",
   "metadata": {},
   "source": [
    "## Les deadlines"
   ]
  },
  {
   "cell_type": "code",
   "execution_count": 54,
   "id": "536478cb",
   "metadata": {},
   "outputs": [
    {
     "data": {
      "text/plain": [
       "Timestamp('2022-06-14 03:08:08.115045')"
      ]
     },
     "execution_count": 54,
     "metadata": {},
     "output_type": "execute_result"
    }
   ],
   "source": [
    "deadline_6_mois = pd.to_datetime(\"today\") - pd.Timedelta(365/2, unit='D')\n",
    "deadline_6_mois"
   ]
  },
  {
   "cell_type": "code",
   "execution_count": 55,
   "id": "5c76d0b4",
   "metadata": {},
   "outputs": [
    {
     "data": {
      "text/plain": [
       "Timestamp('2021-12-13 15:08:08.148761')"
      ]
     },
     "execution_count": 55,
     "metadata": {},
     "output_type": "execute_result"
    }
   ],
   "source": [
    "deadline_1_an = pd.to_datetime(\"today\") - pd.Timedelta(365, unit='D')\n",
    "deadline_1_an"
   ]
  },
  {
   "cell_type": "code",
   "execution_count": 56,
   "id": "5b0f99dd",
   "metadata": {},
   "outputs": [],
   "source": [
    "deadline_2_ans = pd.to_datetime(\"today\") - pd.Timedelta(365*2, unit='D')"
   ]
  },
  {
   "cell_type": "markdown",
   "id": "14d148c0",
   "metadata": {},
   "source": [
    "# ANALYSE DES ANOMALIES\n",
    "## Analyse sur les données incohérentes"
   ]
  },
  {
   "cell_type": "markdown",
   "id": "fe815618",
   "metadata": {},
   "source": [
    "### Site propriétaire vs localisation interne\n",
    "Il existe 3 sites propriétaires pour la médiathèque de Roubaix : `MED`,`BUS` et `MUS`. Voici une traduction des requêtes effectuées ci-dessous : \n",
    "* `anomalies_loc_incoherente_med` : documents dont le site propriétaire est MED et dont le code de localisation ne commence pas par MED\n",
    "* `anomalies_loc_incoherente_bus` : documents dont le site propriétaire est BUS et donc le code de localisation est différent de BUS."
   ]
  },
  {
   "cell_type": "code",
   "execution_count": 57,
   "id": "362a517b",
   "metadata": {},
   "outputs": [
    {
     "data": {
      "text/plain": [
       "localisation\n",
       "1er étage                           75240\n",
       "2e étage -  Jeunesse                38106\n",
       "2e étage - Salle d'étude             1953\n",
       "3e étage                            19599\n",
       "Espace Périodiques                      3\n",
       "Mag Bibliothèque professionnelle     2120\n",
       "Mag Patrimoine                       4420\n",
       "Mag Patrimoine BR 4                  3574\n",
       "Mag Patrimoine BR 8                  3383\n",
       "Mag Patrimoine Plan                    77\n",
       "Mag Patrimoine RES                    391\n",
       "Mag Patrimoine RES 4                 1663\n",
       "Mag Patrimoine RES 8                 1829\n",
       "Mag Patrimoine RES Fol                223\n",
       "Mag Patrimoine RES Plano               19\n",
       "Mag Patrimoine fol.                  1346\n",
       "Mag Patrimoine °4                    5922\n",
       "Mag Patrimoine °8                   13696\n",
       "Mag Pôle adultes BD                   961\n",
       "Mag Pôle adultes fol                 1014\n",
       "Mag Pôle adultes °4                   613\n",
       "Mag Pôle adultes °8                 24837\n",
       "Magasin collectivités               33559\n",
       "Magasin disco 2e étage              12623\n",
       "Magasin disco 3e étage              16413\n",
       "Magasin jeunesse                      785\n",
       "Musée La Piscine                     7299\n",
       "Quarantaine                             7\n",
       "Rez-de-chaussée                     13280\n",
       "Zèbre                                3575\n",
       "dtype: int64"
      ]
     },
     "execution_count": 57,
     "metadata": {},
     "output_type": "execute_result"
    }
   ],
   "source": [
    "items.groupby(\"localisation\").size()"
   ]
  },
  {
   "cell_type": "code",
   "execution_count": 58,
   "id": "95db06fb",
   "metadata": {},
   "outputs": [],
   "source": [
    "anomalies_loc_incoherente_med = items[(items['site propriétaire'] == 'MED') & (items['location'].str[0:3] != 'MED')&(~items['location'].isna())]"
   ]
  },
  {
   "cell_type": "code",
   "execution_count": 59,
   "id": "5103a613",
   "metadata": {},
   "outputs": [
    {
     "data": {
      "text/plain": [
       "site propriétaire  localisation    \n",
       "MED                Musée La Piscine    7\n",
       "                   Quarantaine         7\n",
       "                   Zèbre               5\n",
       "dtype: int64"
      ]
     },
     "execution_count": 59,
     "metadata": {},
     "output_type": "execute_result"
    }
   ],
   "source": [
    "anomalies_loc_incoherente_med.groupby([\"site propriétaire\",\"localisation\"]).size()"
   ]
  },
  {
   "cell_type": "code",
   "execution_count": 60,
   "id": "a885fa58",
   "metadata": {},
   "outputs": [],
   "source": [
    "anomalies_loc_incoherente_bus = items[(items[\"site propriétaire\"] == \"BUS\") & (items[\"location\"] != \"BUS1A\")]"
   ]
  },
  {
   "cell_type": "code",
   "execution_count": 61,
   "id": "39c0af08",
   "metadata": {},
   "outputs": [
    {
     "data": {
      "text/plain": [
       "site propriétaire  localisation         \n",
       "BUS                1er étage                2\n",
       "                   2e étage -  Jeunesse     1\n",
       "                   Magasin collectivités    1\n",
       "                   Rez-de-chaussée          6\n",
       "dtype: int64"
      ]
     },
     "execution_count": 61,
     "metadata": {},
     "output_type": "execute_result"
    }
   ],
   "source": [
    "anomalies_loc_incoherente_bus.groupby([\"site propriétaire\",\"localisation\"]).size()"
   ]
  },
  {
   "cell_type": "code",
   "execution_count": 62,
   "id": "fc350b44",
   "metadata": {},
   "outputs": [],
   "source": [
    "anomalies_loc_incoherente_med[colonnes_a_exporter].to_excel(\"../data/liste_anomalies_localisation_incoherente_med.xlsx\",index=False)"
   ]
  },
  {
   "cell_type": "code",
   "execution_count": 63,
   "id": "1443e827",
   "metadata": {},
   "outputs": [],
   "source": [
    "anomalies_loc_incoherente_med[colonnes_a_exporter].to_excel(\"../data/liste_anomalies_localisation_incoherente_bus.xlsx\",index=False)"
   ]
  },
  {
   "cell_type": "markdown",
   "id": "e996a218",
   "metadata": {},
   "source": [
    "## Anomalies sur les données manquantes\n",
    "### Code-barre manquant\n",
    "Voici une description de la méthode employée pour la liste des anomalies de code-barre manquant : \n",
    "* J'ai sélectionné tous les documents dont le code-barre est manquant via la fonction `.isna()`\n",
    "* J'ai ensuite exclu de la requête les documents *En commande* et *En traitement* \n",
    "* Ne restent dans les anomalies de code-barre que les documents sans code-barre avec un statut problématique."
   ]
  },
  {
   "cell_type": "code",
   "execution_count": 64,
   "id": "993b4fbd",
   "metadata": {},
   "outputs": [],
   "source": [
    "codebarre_ko = items[items[\"code-barre\"].isna()]"
   ]
  },
  {
   "cell_type": "code",
   "execution_count": 65,
   "id": "f2ab37f2",
   "metadata": {},
   "outputs": [
    {
     "data": {
      "text/plain": [
       "statut             localisation          \n",
       "1 - En commande    1er étage                 260\n",
       "                   Rez-de-chaussée            39\n",
       "2 - En traitement  1er étage                   1\n",
       "                   2e étage -  Jeunesse        8\n",
       "                   3e étage                    1\n",
       "                   Magasin collectivités       2\n",
       "                   Magasin disco 2e étage      1\n",
       "3 - Empruntable    1er étage                   3\n",
       "                   2e étage -  Jeunesse        2\n",
       "                   3e étage                    1\n",
       "                   Magasin collectivités       1\n",
       "6 -  En retrait    1er étage                   1\n",
       "dtype: int64"
      ]
     },
     "execution_count": 65,
     "metadata": {},
     "output_type": "execute_result"
    }
   ],
   "source": [
    "codebarre_ko.groupby([\"statut\",\"localisation\"]).size()"
   ]
  },
  {
   "cell_type": "code",
   "execution_count": 66,
   "id": "7b4e823b",
   "metadata": {},
   "outputs": [],
   "source": [
    "anomalies_docs_codebarre_ko = codebarre_ko[~codebarre_ko[\"notforloan\"].isin([-2,-1])]"
   ]
  },
  {
   "cell_type": "code",
   "execution_count": 67,
   "id": "505e1d4e",
   "metadata": {},
   "outputs": [
    {
     "data": {
      "text/plain": [
       "statut\n",
       "3 - Empruntable      12\n",
       "5 - En réparation     4\n",
       "6 -  En retrait       2\n",
       "dtype: int64"
      ]
     },
     "execution_count": 67,
     "metadata": {},
     "output_type": "execute_result"
    }
   ],
   "source": [
    "anomalies_docs_codebarre_ko.groupby([\"statut\"]).size()"
   ]
  },
  {
   "cell_type": "code",
   "execution_count": 68,
   "id": "b7556287",
   "metadata": {},
   "outputs": [],
   "source": [
    "anomalies_docs_codebarre_ko[colonnes_a_exporter].to_excel('../data/liste_anomalies_exemplaires_codebarre_ko.xlsx',index=False)"
   ]
  },
  {
   "cell_type": "markdown",
   "id": "381390b9",
   "metadata": {},
   "source": [
    "### Site propriétaire manquant"
   ]
  },
  {
   "cell_type": "code",
   "execution_count": 69,
   "id": "44493ccf",
   "metadata": {},
   "outputs": [
    {
     "data": {
      "text/html": [
       "<div>\n",
       "<style scoped>\n",
       "    .dataframe tbody tr th:only-of-type {\n",
       "        vertical-align: middle;\n",
       "    }\n",
       "\n",
       "    .dataframe tbody tr th {\n",
       "        vertical-align: top;\n",
       "    }\n",
       "\n",
       "    .dataframe thead th {\n",
       "        text-align: right;\n",
       "    }\n",
       "</style>\n",
       "<table border=\"1\" class=\"dataframe\">\n",
       "  <thead>\n",
       "    <tr style=\"text-align: right;\">\n",
       "      <th></th>\n",
       "      <th>itemnumber</th>\n",
       "      <th>biblionumber</th>\n",
       "      <th>biblioitemnumber</th>\n",
       "      <th>code-barre</th>\n",
       "      <th>date d'acquisition</th>\n",
       "      <th>booksellerid</th>\n",
       "      <th>site propriétaire</th>\n",
       "      <th>prix</th>\n",
       "      <th>coût de remplacement</th>\n",
       "      <th>replacementpricedate</th>\n",
       "      <th>...</th>\n",
       "      <th>new_status</th>\n",
       "      <th>exclude_from_local_holds_priority</th>\n",
       "      <th>itemtype</th>\n",
       "      <th>statut</th>\n",
       "      <th>abimé</th>\n",
       "      <th>perdu</th>\n",
       "      <th>retiré de la circulation</th>\n",
       "      <th>collection</th>\n",
       "      <th>localisation</th>\n",
       "      <th>type de support</th>\n",
       "    </tr>\n",
       "  </thead>\n",
       "  <tbody>\n",
       "  </tbody>\n",
       "</table>\n",
       "<p>0 rows × 53 columns</p>\n",
       "</div>"
      ],
      "text/plain": [
       "Empty DataFrame\n",
       "Columns: [itemnumber, biblionumber, biblioitemnumber, code-barre, date d'acquisition, booksellerid, site propriétaire, prix, coût de remplacement, replacementpricedate, date dernier emprunt, vu la dernière fois, stack, notforloan, damaged, abimé le, itemlost, perdu le, withdrawn, retiré de la circulation le, cote, coded_location_qualifier, nombre de prêts, renewals, reserves, restricted, notes publiques, notes internes, site dépositaire, date dernier changement, location, localisation permanente, retour prévu le, cn_source, cn_sort, ccode, materials, uri, itype, more_subfields_xml, enumchron, copynumber, stocknumber, new_status, exclude_from_local_holds_priority, itemtype, statut, abimé, perdu, retiré de la circulation, collection, localisation, type de support]\n",
       "Index: []\n",
       "\n",
       "[0 rows x 53 columns]"
      ]
     },
     "execution_count": 69,
     "metadata": {},
     "output_type": "execute_result"
    }
   ],
   "source": [
    "site_proprietaire_ko = items[items[\"site propriétaire\"].isna()]\n",
    "site_proprietaire_ko"
   ]
  },
  {
   "cell_type": "markdown",
   "id": "13ee6697",
   "metadata": {},
   "source": [
    "### Localisation manquante "
   ]
  },
  {
   "cell_type": "code",
   "execution_count": 70,
   "id": "dccb008e",
   "metadata": {},
   "outputs": [
    {
     "data": {
      "text/html": [
       "<div>\n",
       "<style scoped>\n",
       "    .dataframe tbody tr th:only-of-type {\n",
       "        vertical-align: middle;\n",
       "    }\n",
       "\n",
       "    .dataframe tbody tr th {\n",
       "        vertical-align: top;\n",
       "    }\n",
       "\n",
       "    .dataframe thead th {\n",
       "        text-align: right;\n",
       "    }\n",
       "</style>\n",
       "<table border=\"1\" class=\"dataframe\">\n",
       "  <thead>\n",
       "    <tr style=\"text-align: right;\">\n",
       "      <th></th>\n",
       "      <th>itemnumber</th>\n",
       "      <th>biblionumber</th>\n",
       "      <th>biblioitemnumber</th>\n",
       "      <th>code-barre</th>\n",
       "      <th>date d'acquisition</th>\n",
       "      <th>booksellerid</th>\n",
       "      <th>site propriétaire</th>\n",
       "      <th>prix</th>\n",
       "      <th>coût de remplacement</th>\n",
       "      <th>replacementpricedate</th>\n",
       "      <th>...</th>\n",
       "      <th>new_status</th>\n",
       "      <th>exclude_from_local_holds_priority</th>\n",
       "      <th>itemtype</th>\n",
       "      <th>statut</th>\n",
       "      <th>abimé</th>\n",
       "      <th>perdu</th>\n",
       "      <th>retiré de la circulation</th>\n",
       "      <th>collection</th>\n",
       "      <th>localisation</th>\n",
       "      <th>type de support</th>\n",
       "    </tr>\n",
       "  </thead>\n",
       "  <tbody>\n",
       "    <tr>\n",
       "      <th>9748</th>\n",
       "      <td>452997</td>\n",
       "      <td>14495</td>\n",
       "      <td>14495</td>\n",
       "      <td>C3500017279</td>\n",
       "      <td>2022-11-25</td>\n",
       "      <td>None</td>\n",
       "      <td>BUS</td>\n",
       "      <td>NaN</td>\n",
       "      <td>9.20</td>\n",
       "      <td>2022-11-25</td>\n",
       "      <td>...</td>\n",
       "      <td>None</td>\n",
       "      <td>NaN</td>\n",
       "      <td>LI</td>\n",
       "      <td>2 - En traitement</td>\n",
       "      <td>Non</td>\n",
       "      <td>Non</td>\n",
       "      <td>Non</td>\n",
       "      <td>JAB - Albums petits enfants</td>\n",
       "      <td>NaN</td>\n",
       "      <td>Livre</td>\n",
       "    </tr>\n",
       "    <tr>\n",
       "      <th>15148</th>\n",
       "      <td>338456</td>\n",
       "      <td>22404</td>\n",
       "      <td>22404</td>\n",
       "      <td>C0005930319</td>\n",
       "      <td>2016-03-23</td>\n",
       "      <td>None</td>\n",
       "      <td>MED</td>\n",
       "      <td>13.57</td>\n",
       "      <td>13.57</td>\n",
       "      <td>2016-03-23</td>\n",
       "      <td>...</td>\n",
       "      <td>None</td>\n",
       "      <td>NaN</td>\n",
       "      <td>LI</td>\n",
       "      <td>4 - Réservé à la consultation sur place</td>\n",
       "      <td>Non</td>\n",
       "      <td>Non</td>\n",
       "      <td>Non</td>\n",
       "      <td>PPE - Patrimoine écrit - fonds général</td>\n",
       "      <td>NaN</td>\n",
       "      <td>Livre</td>\n",
       "    </tr>\n",
       "    <tr>\n",
       "      <th>15327</th>\n",
       "      <td>452909</td>\n",
       "      <td>22764</td>\n",
       "      <td>22764</td>\n",
       "      <td>C3500017297</td>\n",
       "      <td>2022-11-24</td>\n",
       "      <td>None</td>\n",
       "      <td>BUS</td>\n",
       "      <td>NaN</td>\n",
       "      <td>13.00</td>\n",
       "      <td>2022-11-24</td>\n",
       "      <td>...</td>\n",
       "      <td>None</td>\n",
       "      <td>NaN</td>\n",
       "      <td>LI</td>\n",
       "      <td>2 - En traitement</td>\n",
       "      <td>Non</td>\n",
       "      <td>Non</td>\n",
       "      <td>Non</td>\n",
       "      <td>JAB - Albums petits enfants</td>\n",
       "      <td>NaN</td>\n",
       "      <td>Livre</td>\n",
       "    </tr>\n",
       "    <tr>\n",
       "      <th>15958</th>\n",
       "      <td>28306</td>\n",
       "      <td>23762</td>\n",
       "      <td>23762</td>\n",
       "      <td>C0000012659</td>\n",
       "      <td>2005-03-23</td>\n",
       "      <td>None</td>\n",
       "      <td>MED</td>\n",
       "      <td>10.00</td>\n",
       "      <td>10.00</td>\n",
       "      <td>None</td>\n",
       "      <td>...</td>\n",
       "      <td>None</td>\n",
       "      <td>NaN</td>\n",
       "      <td>K7</td>\n",
       "      <td>3 - Empruntable</td>\n",
       "      <td>Non</td>\n",
       "      <td>Non</td>\n",
       "      <td>Non</td>\n",
       "      <td>PEN - FLRS</td>\n",
       "      <td>NaN</td>\n",
       "      <td>Cassette audio</td>\n",
       "    </tr>\n",
       "    <tr>\n",
       "      <th>43112</th>\n",
       "      <td>76166</td>\n",
       "      <td>67056</td>\n",
       "      <td>67056</td>\n",
       "      <td>C0002142581</td>\n",
       "      <td>2005-03-24</td>\n",
       "      <td>None</td>\n",
       "      <td>MED</td>\n",
       "      <td>4.29</td>\n",
       "      <td>4.29</td>\n",
       "      <td>None</td>\n",
       "      <td>...</td>\n",
       "      <td>None</td>\n",
       "      <td>NaN</td>\n",
       "      <td>LI</td>\n",
       "      <td>6 -  En retrait</td>\n",
       "      <td>Non</td>\n",
       "      <td>Non</td>\n",
       "      <td>Non</td>\n",
       "      <td>JAB - Contes pour enfants</td>\n",
       "      <td>NaN</td>\n",
       "      <td>Livre</td>\n",
       "    </tr>\n",
       "    <tr>\n",
       "      <th>...</th>\n",
       "      <td>...</td>\n",
       "      <td>...</td>\n",
       "      <td>...</td>\n",
       "      <td>...</td>\n",
       "      <td>...</td>\n",
       "      <td>...</td>\n",
       "      <td>...</td>\n",
       "      <td>...</td>\n",
       "      <td>...</td>\n",
       "      <td>...</td>\n",
       "      <td>...</td>\n",
       "      <td>...</td>\n",
       "      <td>...</td>\n",
       "      <td>...</td>\n",
       "      <td>...</td>\n",
       "      <td>...</td>\n",
       "      <td>...</td>\n",
       "      <td>...</td>\n",
       "      <td>...</td>\n",
       "      <td>...</td>\n",
       "      <td>...</td>\n",
       "    </tr>\n",
       "    <tr>\n",
       "      <th>287795</th>\n",
       "      <td>451682</td>\n",
       "      <td>350695</td>\n",
       "      <td>350695</td>\n",
       "      <td>None</td>\n",
       "      <td>2022-11-02</td>\n",
       "      <td>None</td>\n",
       "      <td>MED</td>\n",
       "      <td>NaN</td>\n",
       "      <td>NaN</td>\n",
       "      <td>2022-11-02</td>\n",
       "      <td>...</td>\n",
       "      <td>None</td>\n",
       "      <td>NaN</td>\n",
       "      <td>VD</td>\n",
       "      <td>3 - Empruntable</td>\n",
       "      <td>Non</td>\n",
       "      <td>Non</td>\n",
       "      <td>Non</td>\n",
       "      <td>NaN</td>\n",
       "      <td>NaN</td>\n",
       "      <td>DVD</td>\n",
       "    </tr>\n",
       "    <tr>\n",
       "      <th>288145</th>\n",
       "      <td>452243</td>\n",
       "      <td>351079</td>\n",
       "      <td>351079</td>\n",
       "      <td>C3500016919</td>\n",
       "      <td>2022-11-12</td>\n",
       "      <td>None</td>\n",
       "      <td>BUS</td>\n",
       "      <td>NaN</td>\n",
       "      <td>7.95</td>\n",
       "      <td>2022-11-12</td>\n",
       "      <td>...</td>\n",
       "      <td>None</td>\n",
       "      <td>NaN</td>\n",
       "      <td>LI</td>\n",
       "      <td>3 - Empruntable</td>\n",
       "      <td>Non</td>\n",
       "      <td>Non</td>\n",
       "      <td>Non</td>\n",
       "      <td>JDT - 700 Activités manuelles / Arts</td>\n",
       "      <td>NaN</td>\n",
       "      <td>Livre</td>\n",
       "    </tr>\n",
       "    <tr>\n",
       "      <th>288160</th>\n",
       "      <td>452248</td>\n",
       "      <td>351094</td>\n",
       "      <td>351094</td>\n",
       "      <td>C3500016821</td>\n",
       "      <td>2022-11-12</td>\n",
       "      <td>None</td>\n",
       "      <td>BUS</td>\n",
       "      <td>NaN</td>\n",
       "      <td>12.90</td>\n",
       "      <td>2022-11-12</td>\n",
       "      <td>...</td>\n",
       "      <td>None</td>\n",
       "      <td>NaN</td>\n",
       "      <td>LI</td>\n",
       "      <td>3 - Empruntable</td>\n",
       "      <td>Non</td>\n",
       "      <td>Non</td>\n",
       "      <td>Non</td>\n",
       "      <td>JBD - E BD</td>\n",
       "      <td>NaN</td>\n",
       "      <td>Livre</td>\n",
       "    </tr>\n",
       "    <tr>\n",
       "      <th>288529</th>\n",
       "      <td>452937</td>\n",
       "      <td>351539</td>\n",
       "      <td>351539</td>\n",
       "      <td>C3500017269</td>\n",
       "      <td>2022-11-24</td>\n",
       "      <td>None</td>\n",
       "      <td>BUS</td>\n",
       "      <td>NaN</td>\n",
       "      <td>6.80</td>\n",
       "      <td>2022-11-24</td>\n",
       "      <td>...</td>\n",
       "      <td>None</td>\n",
       "      <td>NaN</td>\n",
       "      <td>LI</td>\n",
       "      <td>2 - En traitement</td>\n",
       "      <td>Non</td>\n",
       "      <td>Non</td>\n",
       "      <td>Non</td>\n",
       "      <td>JAB - Albums petits enfants</td>\n",
       "      <td>NaN</td>\n",
       "      <td>Livre</td>\n",
       "    </tr>\n",
       "    <tr>\n",
       "      <th>288817</th>\n",
       "      <td>453057</td>\n",
       "      <td>351879</td>\n",
       "      <td>351879</td>\n",
       "      <td>C3500017325</td>\n",
       "      <td>2022-11-25</td>\n",
       "      <td>None</td>\n",
       "      <td>BUS</td>\n",
       "      <td>NaN</td>\n",
       "      <td>13.10</td>\n",
       "      <td>2022-11-25</td>\n",
       "      <td>...</td>\n",
       "      <td>None</td>\n",
       "      <td>NaN</td>\n",
       "      <td>LI</td>\n",
       "      <td>2 - En traitement</td>\n",
       "      <td>Non</td>\n",
       "      <td>Non</td>\n",
       "      <td>Non</td>\n",
       "      <td>JAB - Contes petits enfants</td>\n",
       "      <td>NaN</td>\n",
       "      <td>Livre</td>\n",
       "    </tr>\n",
       "  </tbody>\n",
       "</table>\n",
       "<p>746 rows × 53 columns</p>\n",
       "</div>"
      ],
      "text/plain": [
       "        itemnumber  biblionumber  biblioitemnumber   code-barre  \\\n",
       "9748        452997         14495             14495  C3500017279   \n",
       "15148       338456         22404             22404  C0005930319   \n",
       "15327       452909         22764             22764  C3500017297   \n",
       "15958        28306         23762             23762  C0000012659   \n",
       "43112        76166         67056             67056  C0002142581   \n",
       "...            ...           ...               ...          ...   \n",
       "287795      451682        350695            350695         None   \n",
       "288145      452243        351079            351079  C3500016919   \n",
       "288160      452248        351094            351094  C3500016821   \n",
       "288529      452937        351539            351539  C3500017269   \n",
       "288817      453057        351879            351879  C3500017325   \n",
       "\n",
       "       date d'acquisition booksellerid site propriétaire   prix  \\\n",
       "9748           2022-11-25         None               BUS    NaN   \n",
       "15148          2016-03-23         None               MED  13.57   \n",
       "15327          2022-11-24         None               BUS    NaN   \n",
       "15958          2005-03-23         None               MED  10.00   \n",
       "43112          2005-03-24         None               MED   4.29   \n",
       "...                   ...          ...               ...    ...   \n",
       "287795         2022-11-02         None               MED    NaN   \n",
       "288145         2022-11-12         None               BUS    NaN   \n",
       "288160         2022-11-12         None               BUS    NaN   \n",
       "288529         2022-11-24         None               BUS    NaN   \n",
       "288817         2022-11-25         None               BUS    NaN   \n",
       "\n",
       "        coût de remplacement replacementpricedate  ... new_status  \\\n",
       "9748                    9.20           2022-11-25  ...       None   \n",
       "15148                  13.57           2016-03-23  ...       None   \n",
       "15327                  13.00           2022-11-24  ...       None   \n",
       "15958                  10.00                 None  ...       None   \n",
       "43112                   4.29                 None  ...       None   \n",
       "...                      ...                  ...  ...        ...   \n",
       "287795                   NaN           2022-11-02  ...       None   \n",
       "288145                  7.95           2022-11-12  ...       None   \n",
       "288160                 12.90           2022-11-12  ...       None   \n",
       "288529                  6.80           2022-11-24  ...       None   \n",
       "288817                 13.10           2022-11-25  ...       None   \n",
       "\n",
       "       exclude_from_local_holds_priority itemtype  \\\n",
       "9748                                 NaN       LI   \n",
       "15148                                NaN       LI   \n",
       "15327                                NaN       LI   \n",
       "15958                                NaN       K7   \n",
       "43112                                NaN       LI   \n",
       "...                                  ...      ...   \n",
       "287795                               NaN       VD   \n",
       "288145                               NaN       LI   \n",
       "288160                               NaN       LI   \n",
       "288529                               NaN       LI   \n",
       "288817                               NaN       LI   \n",
       "\n",
       "                                         statut  abimé perdu  \\\n",
       "9748                          2 - En traitement    Non   Non   \n",
       "15148   4 - Réservé à la consultation sur place    Non   Non   \n",
       "15327                         2 - En traitement    Non   Non   \n",
       "15958                           3 - Empruntable    Non   Non   \n",
       "43112                           6 -  En retrait    Non   Non   \n",
       "...                                         ...    ...   ...   \n",
       "287795                          3 - Empruntable    Non   Non   \n",
       "288145                          3 - Empruntable    Non   Non   \n",
       "288160                          3 - Empruntable    Non   Non   \n",
       "288529                        2 - En traitement    Non   Non   \n",
       "288817                        2 - En traitement    Non   Non   \n",
       "\n",
       "        retiré de la circulation                              collection  \\\n",
       "9748                         Non             JAB - Albums petits enfants   \n",
       "15148                        Non  PPE - Patrimoine écrit - fonds général   \n",
       "15327                        Non             JAB - Albums petits enfants   \n",
       "15958                        Non                              PEN - FLRS   \n",
       "43112                        Non               JAB - Contes pour enfants   \n",
       "...                          ...                                     ...   \n",
       "287795                       Non                                     NaN   \n",
       "288145                       Non    JDT - 700 Activités manuelles / Arts   \n",
       "288160                       Non                              JBD - E BD   \n",
       "288529                       Non             JAB - Albums petits enfants   \n",
       "288817                       Non             JAB - Contes petits enfants   \n",
       "\n",
       "        localisation type de support  \n",
       "9748             NaN           Livre  \n",
       "15148            NaN           Livre  \n",
       "15327            NaN           Livre  \n",
       "15958            NaN  Cassette audio  \n",
       "43112            NaN           Livre  \n",
       "...              ...             ...  \n",
       "287795           NaN             DVD  \n",
       "288145           NaN           Livre  \n",
       "288160           NaN           Livre  \n",
       "288529           NaN           Livre  \n",
       "288817           NaN           Livre  \n",
       "\n",
       "[746 rows x 53 columns]"
      ]
     },
     "execution_count": 70,
     "metadata": {},
     "output_type": "execute_result"
    }
   ],
   "source": [
    "localisation_ko = items[items[\"localisation\"].isna()]\n",
    "localisation_ko"
   ]
  },
  {
   "cell_type": "code",
   "execution_count": 71,
   "id": "7ae288ec",
   "metadata": {},
   "outputs": [
    {
     "data": {
      "text/plain": [
       "statut                                   notforloan\n",
       "1 - En commande                          -1              6\n",
       "2 - En traitement                        -2             96\n",
       "3 - Empruntable                           0            485\n",
       "4 - Réservé à la consultation sur place   2            102\n",
       "5 - En réparation                        -4             13\n",
       "6 -  En retrait                          -3             10\n",
       "8 - Sorti des collections                 4             34\n",
       "dtype: int64"
      ]
     },
     "execution_count": 71,
     "metadata": {},
     "output_type": "execute_result"
    }
   ],
   "source": [
    "localisation_ko.groupby([\"statut\",\"notforloan\"]).size()"
   ]
  },
  {
   "cell_type": "code",
   "execution_count": 72,
   "id": "58305653",
   "metadata": {},
   "outputs": [
    {
     "data": {
      "text/html": [
       "<div>\n",
       "<style scoped>\n",
       "    .dataframe tbody tr th:only-of-type {\n",
       "        vertical-align: middle;\n",
       "    }\n",
       "\n",
       "    .dataframe tbody tr th {\n",
       "        vertical-align: top;\n",
       "    }\n",
       "\n",
       "    .dataframe thead th {\n",
       "        text-align: right;\n",
       "    }\n",
       "</style>\n",
       "<table border=\"1\" class=\"dataframe\">\n",
       "  <thead>\n",
       "    <tr style=\"text-align: right;\">\n",
       "      <th></th>\n",
       "      <th>itemnumber</th>\n",
       "      <th>biblionumber</th>\n",
       "      <th>biblioitemnumber</th>\n",
       "      <th>code-barre</th>\n",
       "      <th>date d'acquisition</th>\n",
       "      <th>booksellerid</th>\n",
       "      <th>site propriétaire</th>\n",
       "      <th>prix</th>\n",
       "      <th>coût de remplacement</th>\n",
       "      <th>replacementpricedate</th>\n",
       "      <th>...</th>\n",
       "      <th>new_status</th>\n",
       "      <th>exclude_from_local_holds_priority</th>\n",
       "      <th>itemtype</th>\n",
       "      <th>statut</th>\n",
       "      <th>abimé</th>\n",
       "      <th>perdu</th>\n",
       "      <th>retiré de la circulation</th>\n",
       "      <th>collection</th>\n",
       "      <th>localisation</th>\n",
       "      <th>type de support</th>\n",
       "    </tr>\n",
       "  </thead>\n",
       "  <tbody>\n",
       "    <tr>\n",
       "      <th>15148</th>\n",
       "      <td>338456</td>\n",
       "      <td>22404</td>\n",
       "      <td>22404</td>\n",
       "      <td>C0005930319</td>\n",
       "      <td>2016-03-23</td>\n",
       "      <td>None</td>\n",
       "      <td>MED</td>\n",
       "      <td>13.57</td>\n",
       "      <td>13.57</td>\n",
       "      <td>2016-03-23</td>\n",
       "      <td>...</td>\n",
       "      <td>None</td>\n",
       "      <td>NaN</td>\n",
       "      <td>LI</td>\n",
       "      <td>4 - Réservé à la consultation sur place</td>\n",
       "      <td>Non</td>\n",
       "      <td>Non</td>\n",
       "      <td>Non</td>\n",
       "      <td>PPE - Patrimoine écrit - fonds général</td>\n",
       "      <td>NaN</td>\n",
       "      <td>Livre</td>\n",
       "    </tr>\n",
       "    <tr>\n",
       "      <th>15958</th>\n",
       "      <td>28306</td>\n",
       "      <td>23762</td>\n",
       "      <td>23762</td>\n",
       "      <td>C0000012659</td>\n",
       "      <td>2005-03-23</td>\n",
       "      <td>None</td>\n",
       "      <td>MED</td>\n",
       "      <td>10.00</td>\n",
       "      <td>10.00</td>\n",
       "      <td>None</td>\n",
       "      <td>...</td>\n",
       "      <td>None</td>\n",
       "      <td>NaN</td>\n",
       "      <td>K7</td>\n",
       "      <td>3 - Empruntable</td>\n",
       "      <td>Non</td>\n",
       "      <td>Non</td>\n",
       "      <td>Non</td>\n",
       "      <td>PEN - FLRS</td>\n",
       "      <td>NaN</td>\n",
       "      <td>Cassette audio</td>\n",
       "    </tr>\n",
       "    <tr>\n",
       "      <th>43112</th>\n",
       "      <td>76166</td>\n",
       "      <td>67056</td>\n",
       "      <td>67056</td>\n",
       "      <td>C0002142581</td>\n",
       "      <td>2005-03-24</td>\n",
       "      <td>None</td>\n",
       "      <td>MED</td>\n",
       "      <td>4.29</td>\n",
       "      <td>4.29</td>\n",
       "      <td>None</td>\n",
       "      <td>...</td>\n",
       "      <td>None</td>\n",
       "      <td>NaN</td>\n",
       "      <td>LI</td>\n",
       "      <td>6 -  En retrait</td>\n",
       "      <td>Non</td>\n",
       "      <td>Non</td>\n",
       "      <td>Non</td>\n",
       "      <td>JAB - Contes pour enfants</td>\n",
       "      <td>NaN</td>\n",
       "      <td>Livre</td>\n",
       "    </tr>\n",
       "    <tr>\n",
       "      <th>48662</th>\n",
       "      <td>85386</td>\n",
       "      <td>75351</td>\n",
       "      <td>75351</td>\n",
       "      <td>C0005555277</td>\n",
       "      <td>2012-09-26</td>\n",
       "      <td>None</td>\n",
       "      <td>BUS</td>\n",
       "      <td>11.50</td>\n",
       "      <td>11.50</td>\n",
       "      <td>None</td>\n",
       "      <td>...</td>\n",
       "      <td>None</td>\n",
       "      <td>NaN</td>\n",
       "      <td>LI</td>\n",
       "      <td>5 - En réparation</td>\n",
       "      <td>Abimé</td>\n",
       "      <td>Non</td>\n",
       "      <td>Non</td>\n",
       "      <td>JAB - Contes petits enfants</td>\n",
       "      <td>NaN</td>\n",
       "      <td>Livre</td>\n",
       "    </tr>\n",
       "    <tr>\n",
       "      <th>55287</th>\n",
       "      <td>432377</td>\n",
       "      <td>84901</td>\n",
       "      <td>84901</td>\n",
       "      <td>None</td>\n",
       "      <td>2021-09-18</td>\n",
       "      <td>None</td>\n",
       "      <td>MED</td>\n",
       "      <td>NaN</td>\n",
       "      <td>NaN</td>\n",
       "      <td>2021-09-18</td>\n",
       "      <td>...</td>\n",
       "      <td>None</td>\n",
       "      <td>NaN</td>\n",
       "      <td>PA</td>\n",
       "      <td>6 -  En retrait</td>\n",
       "      <td>Non</td>\n",
       "      <td>Non</td>\n",
       "      <td>Non</td>\n",
       "      <td>NaN</td>\n",
       "      <td>NaN</td>\n",
       "      <td>Partition</td>\n",
       "    </tr>\n",
       "    <tr>\n",
       "      <th>...</th>\n",
       "      <td>...</td>\n",
       "      <td>...</td>\n",
       "      <td>...</td>\n",
       "      <td>...</td>\n",
       "      <td>...</td>\n",
       "      <td>...</td>\n",
       "      <td>...</td>\n",
       "      <td>...</td>\n",
       "      <td>...</td>\n",
       "      <td>...</td>\n",
       "      <td>...</td>\n",
       "      <td>...</td>\n",
       "      <td>...</td>\n",
       "      <td>...</td>\n",
       "      <td>...</td>\n",
       "      <td>...</td>\n",
       "      <td>...</td>\n",
       "      <td>...</td>\n",
       "      <td>...</td>\n",
       "      <td>...</td>\n",
       "      <td>...</td>\n",
       "    </tr>\n",
       "    <tr>\n",
       "      <th>287628</th>\n",
       "      <td>450234</td>\n",
       "      <td>350547</td>\n",
       "      <td>350547</td>\n",
       "      <td>C3500016800</td>\n",
       "      <td>2022-10-07</td>\n",
       "      <td>None</td>\n",
       "      <td>BUS</td>\n",
       "      <td>NaN</td>\n",
       "      <td>NaN</td>\n",
       "      <td>2022-10-07</td>\n",
       "      <td>...</td>\n",
       "      <td>None</td>\n",
       "      <td>NaN</td>\n",
       "      <td>VD</td>\n",
       "      <td>3 - Empruntable</td>\n",
       "      <td>Non</td>\n",
       "      <td>Non</td>\n",
       "      <td>Non</td>\n",
       "      <td>JCI - Films pour enfants - à partir de 6 ans</td>\n",
       "      <td>NaN</td>\n",
       "      <td>DVD</td>\n",
       "    </tr>\n",
       "    <tr>\n",
       "      <th>287770</th>\n",
       "      <td>450645</td>\n",
       "      <td>350667</td>\n",
       "      <td>350667</td>\n",
       "      <td>C3500016875</td>\n",
       "      <td>2022-10-12</td>\n",
       "      <td>None</td>\n",
       "      <td>BUS</td>\n",
       "      <td>NaN</td>\n",
       "      <td>NaN</td>\n",
       "      <td>2022-10-12</td>\n",
       "      <td>...</td>\n",
       "      <td>None</td>\n",
       "      <td>NaN</td>\n",
       "      <td>VD</td>\n",
       "      <td>3 - Empruntable</td>\n",
       "      <td>Non</td>\n",
       "      <td>Non</td>\n",
       "      <td>Non</td>\n",
       "      <td>JCI - Dessins animés - Enfants</td>\n",
       "      <td>NaN</td>\n",
       "      <td>DVD</td>\n",
       "    </tr>\n",
       "    <tr>\n",
       "      <th>287795</th>\n",
       "      <td>451682</td>\n",
       "      <td>350695</td>\n",
       "      <td>350695</td>\n",
       "      <td>None</td>\n",
       "      <td>2022-11-02</td>\n",
       "      <td>None</td>\n",
       "      <td>MED</td>\n",
       "      <td>NaN</td>\n",
       "      <td>NaN</td>\n",
       "      <td>2022-11-02</td>\n",
       "      <td>...</td>\n",
       "      <td>None</td>\n",
       "      <td>NaN</td>\n",
       "      <td>VD</td>\n",
       "      <td>3 - Empruntable</td>\n",
       "      <td>Non</td>\n",
       "      <td>Non</td>\n",
       "      <td>Non</td>\n",
       "      <td>NaN</td>\n",
       "      <td>NaN</td>\n",
       "      <td>DVD</td>\n",
       "    </tr>\n",
       "    <tr>\n",
       "      <th>288145</th>\n",
       "      <td>452243</td>\n",
       "      <td>351079</td>\n",
       "      <td>351079</td>\n",
       "      <td>C3500016919</td>\n",
       "      <td>2022-11-12</td>\n",
       "      <td>None</td>\n",
       "      <td>BUS</td>\n",
       "      <td>NaN</td>\n",
       "      <td>7.95</td>\n",
       "      <td>2022-11-12</td>\n",
       "      <td>...</td>\n",
       "      <td>None</td>\n",
       "      <td>NaN</td>\n",
       "      <td>LI</td>\n",
       "      <td>3 - Empruntable</td>\n",
       "      <td>Non</td>\n",
       "      <td>Non</td>\n",
       "      <td>Non</td>\n",
       "      <td>JDT - 700 Activités manuelles / Arts</td>\n",
       "      <td>NaN</td>\n",
       "      <td>Livre</td>\n",
       "    </tr>\n",
       "    <tr>\n",
       "      <th>288160</th>\n",
       "      <td>452248</td>\n",
       "      <td>351094</td>\n",
       "      <td>351094</td>\n",
       "      <td>C3500016821</td>\n",
       "      <td>2022-11-12</td>\n",
       "      <td>None</td>\n",
       "      <td>BUS</td>\n",
       "      <td>NaN</td>\n",
       "      <td>12.90</td>\n",
       "      <td>2022-11-12</td>\n",
       "      <td>...</td>\n",
       "      <td>None</td>\n",
       "      <td>NaN</td>\n",
       "      <td>LI</td>\n",
       "      <td>3 - Empruntable</td>\n",
       "      <td>Non</td>\n",
       "      <td>Non</td>\n",
       "      <td>Non</td>\n",
       "      <td>JBD - E BD</td>\n",
       "      <td>NaN</td>\n",
       "      <td>Livre</td>\n",
       "    </tr>\n",
       "  </tbody>\n",
       "</table>\n",
       "<p>610 rows × 53 columns</p>\n",
       "</div>"
      ],
      "text/plain": [
       "        itemnumber  biblionumber  biblioitemnumber   code-barre  \\\n",
       "15148       338456         22404             22404  C0005930319   \n",
       "15958        28306         23762             23762  C0000012659   \n",
       "43112        76166         67056             67056  C0002142581   \n",
       "48662        85386         75351             75351  C0005555277   \n",
       "55287       432377         84901             84901         None   \n",
       "...            ...           ...               ...          ...   \n",
       "287628      450234        350547            350547  C3500016800   \n",
       "287770      450645        350667            350667  C3500016875   \n",
       "287795      451682        350695            350695         None   \n",
       "288145      452243        351079            351079  C3500016919   \n",
       "288160      452248        351094            351094  C3500016821   \n",
       "\n",
       "       date d'acquisition booksellerid site propriétaire   prix  \\\n",
       "15148          2016-03-23         None               MED  13.57   \n",
       "15958          2005-03-23         None               MED  10.00   \n",
       "43112          2005-03-24         None               MED   4.29   \n",
       "48662          2012-09-26         None               BUS  11.50   \n",
       "55287          2021-09-18         None               MED    NaN   \n",
       "...                   ...          ...               ...    ...   \n",
       "287628         2022-10-07         None               BUS    NaN   \n",
       "287770         2022-10-12         None               BUS    NaN   \n",
       "287795         2022-11-02         None               MED    NaN   \n",
       "288145         2022-11-12         None               BUS    NaN   \n",
       "288160         2022-11-12         None               BUS    NaN   \n",
       "\n",
       "        coût de remplacement replacementpricedate  ... new_status  \\\n",
       "15148                  13.57           2016-03-23  ...       None   \n",
       "15958                  10.00                 None  ...       None   \n",
       "43112                   4.29                 None  ...       None   \n",
       "48662                  11.50                 None  ...       None   \n",
       "55287                    NaN           2021-09-18  ...       None   \n",
       "...                      ...                  ...  ...        ...   \n",
       "287628                   NaN           2022-10-07  ...       None   \n",
       "287770                   NaN           2022-10-12  ...       None   \n",
       "287795                   NaN           2022-11-02  ...       None   \n",
       "288145                  7.95           2022-11-12  ...       None   \n",
       "288160                 12.90           2022-11-12  ...       None   \n",
       "\n",
       "       exclude_from_local_holds_priority itemtype  \\\n",
       "15148                                NaN       LI   \n",
       "15958                                NaN       K7   \n",
       "43112                                NaN       LI   \n",
       "48662                                NaN       LI   \n",
       "55287                                NaN       PA   \n",
       "...                                  ...      ...   \n",
       "287628                               NaN       VD   \n",
       "287770                               NaN       VD   \n",
       "287795                               NaN       VD   \n",
       "288145                               NaN       LI   \n",
       "288160                               NaN       LI   \n",
       "\n",
       "                                         statut  abimé perdu  \\\n",
       "15148   4 - Réservé à la consultation sur place    Non   Non   \n",
       "15958                           3 - Empruntable    Non   Non   \n",
       "43112                           6 -  En retrait    Non   Non   \n",
       "48662                         5 - En réparation  Abimé   Non   \n",
       "55287                           6 -  En retrait    Non   Non   \n",
       "...                                         ...    ...   ...   \n",
       "287628                          3 - Empruntable    Non   Non   \n",
       "287770                          3 - Empruntable    Non   Non   \n",
       "287795                          3 - Empruntable    Non   Non   \n",
       "288145                          3 - Empruntable    Non   Non   \n",
       "288160                          3 - Empruntable    Non   Non   \n",
       "\n",
       "        retiré de la circulation  \\\n",
       "15148                        Non   \n",
       "15958                        Non   \n",
       "43112                        Non   \n",
       "48662                        Non   \n",
       "55287                        Non   \n",
       "...                          ...   \n",
       "287628                       Non   \n",
       "287770                       Non   \n",
       "287795                       Non   \n",
       "288145                       Non   \n",
       "288160                       Non   \n",
       "\n",
       "                                          collection  localisation  \\\n",
       "15148         PPE - Patrimoine écrit - fonds général           NaN   \n",
       "15958                                     PEN - FLRS           NaN   \n",
       "43112                      JAB - Contes pour enfants           NaN   \n",
       "48662                    JAB - Contes petits enfants           NaN   \n",
       "55287                                            NaN           NaN   \n",
       "...                                              ...           ...   \n",
       "287628  JCI - Films pour enfants - à partir de 6 ans           NaN   \n",
       "287770                JCI - Dessins animés - Enfants           NaN   \n",
       "287795                                           NaN           NaN   \n",
       "288145          JDT - 700 Activités manuelles / Arts           NaN   \n",
       "288160                                    JBD - E BD           NaN   \n",
       "\n",
       "       type de support  \n",
       "15148            Livre  \n",
       "15958   Cassette audio  \n",
       "43112            Livre  \n",
       "48662            Livre  \n",
       "55287        Partition  \n",
       "...                ...  \n",
       "287628             DVD  \n",
       "287770             DVD  \n",
       "287795             DVD  \n",
       "288145           Livre  \n",
       "288160           Livre  \n",
       "\n",
       "[610 rows x 53 columns]"
      ]
     },
     "execution_count": 72,
     "metadata": {},
     "output_type": "execute_result"
    }
   ],
   "source": [
    "anomalies_localisation_ko = localisation_ko[~localisation_ko[\"notforloan\"].isin([-1,-2,4])]\n",
    "anomalies_localisation_ko"
   ]
  },
  {
   "cell_type": "code",
   "execution_count": 73,
   "id": "88135496",
   "metadata": {},
   "outputs": [],
   "source": [
    "anomalies_localisation_ko[colonnes_a_exporter].to_excel(\"../data/liste_anomalies_exemplaires_localisation_ko.xlsx\",index=False)"
   ]
  },
  {
   "cell_type": "markdown",
   "id": "ec835734",
   "metadata": {},
   "source": [
    "### Prix manquant\n",
    "\n",
    "Voici une description de la méthode employée pour générer la liste des anomalies d'exemplaires sans prix :\n",
    "* J'ai défini la variable `prix_ko` comme la liste des exemplaires sans code-barre renseigné\n",
    "* J'ai ensuite exclu de cette liste les documents du magasin, ainsi que les périodiques (défini par la variable `anomalies_prix_ko_coll`\n",
    "* Grâce à un `groupby` et `.dt.year`, j'ai généré une liste du total de documents sans prix par an.\n",
    "* On constate que c'est **à partir de 2020 que les documents sans prix augmentent**\n",
    "* J'ai donc redéfini ma variable `anomalies_prix_ko_coll` comme la liste des exemplaires acheté il y a moins de 3 ans\n",
    "\n",
    "> * [ ] Il faudrait voir à filtrer et exclure de la liste les docs du Musée (il y en a que 2) et du Zèbre"
   ]
  },
  {
   "cell_type": "code",
   "execution_count": 74,
   "id": "e925c1e3",
   "metadata": {},
   "outputs": [
    {
     "name": "stderr",
     "output_type": "stream",
     "text": [
      "/tmp/ipykernel_1967/3213706575.py:2: SettingWithCopyWarning: \n",
      "A value is trying to be set on a copy of a slice from a DataFrame.\n",
      "Try using .loc[row_indexer,col_indexer] = value instead\n",
      "\n",
      "See the caveats in the documentation: https://pandas.pydata.org/pandas-docs/stable/user_guide/indexing.html#returning-a-view-versus-a-copy\n",
      "  prix_ko[\"localisation\"] = prix_ko[\"localisation\"].astype(str)\n"
     ]
    }
   ],
   "source": [
    "prix_ko = items[items[\"prix\"].isna()]\n",
    "prix_ko[\"localisation\"] = prix_ko[\"localisation\"].astype(str)"
   ]
  },
  {
   "cell_type": "code",
   "execution_count": 75,
   "id": "50ba1190",
   "metadata": {},
   "outputs": [],
   "source": [
    "anomalies_prix_ko_coll = prix_ko[~prix_ko[\"localisation\"].str.contains('Mag')]"
   ]
  },
  {
   "cell_type": "code",
   "execution_count": 76,
   "id": "846498b7",
   "metadata": {},
   "outputs": [],
   "source": [
    "anomalies_prix_ko_coll = anomalies_prix_ko_coll[~anomalies_prix_ko_coll.localisation.str.contains('Pé')]"
   ]
  },
  {
   "cell_type": "code",
   "execution_count": 77,
   "id": "173ea276",
   "metadata": {
    "scrolled": true
   },
   "outputs": [
    {
     "data": {
      "text/plain": [
       "date d'acquisition\n",
       "2005    4374\n",
       "2006       3\n",
       "2007       2\n",
       "2008     189\n",
       "2009     284\n",
       "2010     606\n",
       "2011     136\n",
       "2012       5\n",
       "2013       4\n",
       "2014      25\n",
       "2015      19\n",
       "2016     226\n",
       "2017     434\n",
       "2018     582\n",
       "2019    1129\n",
       "2020    1743\n",
       "2021    3646\n",
       "2022    4918\n",
       "dtype: int64"
      ]
     },
     "execution_count": 77,
     "metadata": {},
     "output_type": "execute_result"
    }
   ],
   "source": [
    "anomalies_prix_ko_coll.groupby([anomalies_prix_ko_coll[\"date d'acquisition\"].dt.year]).size()"
   ]
  },
  {
   "cell_type": "code",
   "execution_count": 78,
   "id": "4947910d",
   "metadata": {},
   "outputs": [],
   "source": [
    "anomalies_prix_ko_coll = anomalies_prix_ko_coll[anomalies_prix_ko_coll[\"date d'acquisition\"].dt.year >= 2020]"
   ]
  },
  {
   "cell_type": "code",
   "execution_count": 79,
   "id": "fd02399c",
   "metadata": {},
   "outputs": [
    {
     "data": {
      "text/plain": [
       "localisation  collection                                        \n",
       "1er étage     AAP - Arts plastiques                                 233\n",
       "              AAP - Bande dessinée                                   15\n",
       "              AAP - Dessin animé et animation (documentaires)        11\n",
       "              AAP - Documentaires sur le cinéma et la télévision    100\n",
       "              AAP - Documentaires sur les jeux vidéo                 96\n",
       "                                                                   ... \n",
       "nan           JRO - Premiers romans                                  17\n",
       "              JRO - Romans policiers pour enfants                     2\n",
       "              JRO - Romans pour enfants                              26\n",
       "              PPE - Patrimoine écrit - fonds général                  2\n",
       "              PPE - Périodiques patrimonaiux                          3\n",
       "Length: 169, dtype: int64"
      ]
     },
     "execution_count": 79,
     "metadata": {},
     "output_type": "execute_result"
    }
   ],
   "source": [
    "anomalies_prix_ko_coll.groupby([\"localisation\",\"collection\"]).size()"
   ]
  },
  {
   "cell_type": "code",
   "execution_count": 80,
   "id": "8919db08",
   "metadata": {},
   "outputs": [],
   "source": [
    "anomalies_prix_ko_coll[colonnes_a_exporter].to_excel(\"../data/liste_anomalies_exemplaires_prix_ko_coll.xlsx\",index=False)"
   ]
  },
  {
   "cell_type": "markdown",
   "id": "0ee94110",
   "metadata": {},
   "source": [
    "### Collection manquante"
   ]
  },
  {
   "cell_type": "code",
   "execution_count": 81,
   "id": "9a3b7314",
   "metadata": {},
   "outputs": [],
   "source": [
    "collection_ko = items[items[\"collection\"].isna()]"
   ]
  },
  {
   "cell_type": "code",
   "execution_count": 82,
   "id": "c77e4f0a",
   "metadata": {},
   "outputs": [],
   "source": [
    "anomalies_collection_ko = collection_ko[~collection_ko[\"notforloan\"].isin([-1,-2,3,4])]"
   ]
  },
  {
   "cell_type": "code",
   "execution_count": 83,
   "id": "47c5233b",
   "metadata": {},
   "outputs": [
    {
     "data": {
      "text/plain": [
       "notforloan  statut                                 \n",
       "-4          5 - En réparation                            13\n",
       "-3          6 -  En retrait                              96\n",
       " 0          3 - Empruntable                            2214\n",
       " 2          4 - Réservé à la consultation sur place    6448\n",
       " 5          7 - En reliure                                1\n",
       "dtype: int64"
      ]
     },
     "execution_count": 83,
     "metadata": {},
     "output_type": "execute_result"
    }
   ],
   "source": [
    "anomalies_collection_ko.groupby([\"notforloan\",\"statut\"]).size()"
   ]
  },
  {
   "cell_type": "code",
   "execution_count": 84,
   "id": "6058ab20",
   "metadata": {},
   "outputs": [],
   "source": [
    "anomalies_collection_ko[colonnes_a_exporter].to_excel(\"../data/liste_anomalies_exemplaires_collection_ko.xlsx\",index=False)"
   ]
  },
  {
   "cell_type": "markdown",
   "id": "fa4bea71",
   "metadata": {},
   "source": [
    "### Côte manquante"
   ]
  },
  {
   "cell_type": "code",
   "execution_count": 85,
   "id": "3de0c3b1",
   "metadata": {},
   "outputs": [
    {
     "data": {
      "text/plain": [
       "statut                                   notforloan\n",
       "1 - En commande                          -1            301\n",
       "2 - En traitement                        -2             76\n",
       "3 - Empruntable                           0             82\n",
       "4 - Réservé à la consultation sur place   2             73\n",
       "5 - En réparation                        -4              4\n",
       "6 -  En retrait                          -3              5\n",
       "8 - Sorti des collections                 4              3\n",
       "9 - Consultable au musée                  3              1\n",
       "dtype: int64"
      ]
     },
     "execution_count": 85,
     "metadata": {},
     "output_type": "execute_result"
    }
   ],
   "source": [
    "cote_ko = items[items[\"cote\"].isna()]\n",
    "cote_ko.groupby([\"statut\",\"notforloan\"]).size()"
   ]
  },
  {
   "cell_type": "code",
   "execution_count": 86,
   "id": "ed84ce53",
   "metadata": {},
   "outputs": [
    {
     "data": {
      "text/plain": [
       "localisation\n",
       "1er étage                           31\n",
       "2e étage -  Jeunesse                 9\n",
       "2e étage - Salle d'étude             7\n",
       "3e étage                             5\n",
       "Mag Bibliothèque professionnelle     1\n",
       "Mag Patrimoine                       1\n",
       "Mag Patrimoine BR 8                  3\n",
       "Mag Patrimoine °4                    3\n",
       "Mag Patrimoine °8                    7\n",
       "Mag Pôle adultes °8                 24\n",
       "Magasin disco 2e étage               1\n",
       "Magasin disco 3e étage              40\n",
       "Musée La Piscine                    16\n",
       "Rez-de-chaussée                      2\n",
       "Zèbre                                1\n",
       "dtype: int64"
      ]
     },
     "execution_count": 86,
     "metadata": {},
     "output_type": "execute_result"
    }
   ],
   "source": [
    "anomalies_cote_ko = cote_ko[~cote_ko[\"notforloan\"].isin([-1,-2,4])]\n",
    "anomalies_cote_ko.groupby(\"localisation\").size()"
   ]
  },
  {
   "cell_type": "code",
   "execution_count": 87,
   "id": "5ad688c7",
   "metadata": {},
   "outputs": [],
   "source": [
    "anomalies_cote_ko[colonnes_a_exporter].to_excel('../data/liste_anomalies__exemplaires_docs_cote_ko.xlsx',index=False)"
   ]
  },
  {
   "cell_type": "markdown",
   "id": "31c6b7cc",
   "metadata": {},
   "source": [
    "### Type de support manquant"
   ]
  },
  {
   "cell_type": "code",
   "execution_count": 88,
   "id": "a07748dc",
   "metadata": {},
   "outputs": [
    {
     "data": {
      "text/plain": [
       "statut\n",
       "3 - Empruntable                            122\n",
       "4 - Réservé à la consultation sur place      5\n",
       "dtype: int64"
      ]
     },
     "execution_count": 88,
     "metadata": {},
     "output_type": "execute_result"
    }
   ],
   "source": [
    "anomalies_type_support_ko = items[items[\"type de support\"].isna()]\n",
    "anomalies_type_support_ko.groupby([\"statut\"]).size()"
   ]
  },
  {
   "cell_type": "code",
   "execution_count": 89,
   "id": "e2c1d2a5",
   "metadata": {},
   "outputs": [],
   "source": [
    "anomalies_type_support_ko[colonnes_a_exporter].to_excel(\"../data/liste_anomalies_exemplaires_type_support_ko.xlsx\",index=False)"
   ]
  },
  {
   "cell_type": "markdown",
   "id": "f60644b7",
   "metadata": {},
   "source": [
    "## Anomalies sur les statuts"
   ]
  },
  {
   "cell_type": "code",
   "execution_count": 90,
   "id": "9a5a857f",
   "metadata": {},
   "outputs": [
    {
     "data": {
      "text/plain": [
       "notforloan  statut                                 \n",
       "-4          5 - En réparation                             909\n",
       "-3          6 -  En retrait                              1970\n",
       "-2          2 - En traitement                            1614\n",
       "-1          1 - En commande                               305\n",
       " 0          3 - Empruntable                            218794\n",
       " 2          4 - Réservé à la consultation sur place     55479\n",
       " 3          9 - Consultable au musée                      595\n",
       " 4          8 - Sorti des collections                    9504\n",
       " 5          7 - En reliure                                106\n",
       "dtype: int64"
      ]
     },
     "execution_count": 90,
     "metadata": {},
     "output_type": "execute_result"
    }
   ],
   "source": [
    "items.groupby([\"notforloan\",\"statut\"]).size()"
   ]
  },
  {
   "cell_type": "markdown",
   "id": "d422da7a",
   "metadata": {},
   "source": [
    "### Documents abimés\n",
    "\n",
    "Voici une description de la méthode employée pour générer la liste des anomalies d'exemplaires abimés : \n",
    "* J'ai d'abord affiché une liste des valeurs pour la colonne `abimé` (cela servira pour les requêtes)\n",
    "* J'ai ensuite défini la variable `docs_abimés` comme la liste des documents marqués en `Abimé`\n",
    "* J'ai ensuite défini la variable `anomalies_docs_abimes`comme la liste des docs abimés ayant été marqué en abimé depuis plus d'un an (grâce à la variable `deadline_1_an`)\n",
    "* J'ai ensuit utilisé la fonction `groupby` afin d'afficher la liste des docs abimés par statut\n",
    "* J'ai pu filtrer et générer deux listes différentes grâce àa la fonction `.localisation.str.contains` : \n",
    " - la première comprends les anomalies localisées ailleurs que dans les magasins `anomalies_docs_abimes_coll`\n",
    " - La seconde liste concerne les anomalies localisées dans les différents magasins `anomalies_docs_abimes_mag` \n",
    "* **On a comme résultat une liste des documents marqués comme abimés depuis plus d'un an et qui ne sont ni sortis des collections ni des documents localisés au magasin**"
   ]
  },
  {
   "cell_type": "code",
   "execution_count": 91,
   "id": "0e25fbca",
   "metadata": {},
   "outputs": [
    {
     "data": {
      "text/plain": [
       "Non               285834\n",
       "Abimé               3384\n",
       "Prétendu rendu        58\n",
       "Name: abimé, dtype: int64"
      ]
     },
     "execution_count": 91,
     "metadata": {},
     "output_type": "execute_result"
    }
   ],
   "source": [
    "items[\"abimé\"].value_counts()"
   ]
  },
  {
   "cell_type": "code",
   "execution_count": 92,
   "id": "bf3fbf2e",
   "metadata": {},
   "outputs": [],
   "source": [
    "docs_abimes = items[items[\"abimé\"]==\"Abimé\"]"
   ]
  },
  {
   "cell_type": "code",
   "execution_count": 93,
   "id": "005083a9",
   "metadata": {},
   "outputs": [],
   "source": [
    "anomalies_docs_abimes = docs_abimes[docs_abimes[\"abimé le\"]<deadline_1_an]"
   ]
  },
  {
   "cell_type": "code",
   "execution_count": 94,
   "id": "4f881b25",
   "metadata": {},
   "outputs": [
    {
     "data": {
      "text/plain": [
       "statut\n",
       "2 - En traitement              1\n",
       "3 - Empruntable              248\n",
       "5 - En réparation             63\n",
       "6 -  En retrait                8\n",
       "8 - Sorti des collections    127\n",
       "dtype: int64"
      ]
     },
     "execution_count": 94,
     "metadata": {},
     "output_type": "execute_result"
    }
   ],
   "source": [
    "anomalies_docs_abimes.groupby(\"statut\").size()"
   ]
  },
  {
   "cell_type": "code",
   "execution_count": 95,
   "id": "8023fef9",
   "metadata": {},
   "outputs": [],
   "source": [
    "anomalies_docs_abimes = anomalies_docs_abimes[~anomalies_docs_abimes[\"notforloan\"].isin([4])]"
   ]
  },
  {
   "cell_type": "code",
   "execution_count": 96,
   "id": "68b20d6c",
   "metadata": {},
   "outputs": [],
   "source": [
    "anomalies_docs_abimes[\"localisation\"] = anomalies_docs_abimes[\"localisation\"].astype(str)"
   ]
  },
  {
   "cell_type": "code",
   "execution_count": 97,
   "id": "d996549e",
   "metadata": {},
   "outputs": [],
   "source": [
    "anomalies_docs_abimes_coll = anomalies_docs_abimes[~anomalies_docs_abimes.localisation.str.contains('Mag')]"
   ]
  },
  {
   "cell_type": "code",
   "execution_count": 98,
   "id": "4898ae34",
   "metadata": {},
   "outputs": [],
   "source": [
    "anomalies_docs_abimes_mag = anomalies_docs_abimes[anomalies_docs_abimes.localisation.str.contains('Magasin')]"
   ]
  },
  {
   "cell_type": "code",
   "execution_count": 99,
   "id": "4a04c639",
   "metadata": {},
   "outputs": [
    {
     "data": {
      "text/plain": [
       "statut             localisation          \n",
       "2 - En traitement  1er étage                   1\n",
       "3 - Empruntable    1er étage                  50\n",
       "                   2e étage -  Jeunesse       61\n",
       "                   3e étage                    9\n",
       "                   Mag Pôle adultes °4         1\n",
       "                   Mag Pôle adultes °8         1\n",
       "                   Magasin collectivités     105\n",
       "                   Magasin disco 3e étage      1\n",
       "                   Magasin jeunesse            2\n",
       "                   Rez-de-chaussée             9\n",
       "                   Zèbre                       9\n",
       "5 - En réparation  1er étage                   5\n",
       "                   2e étage -  Jeunesse       32\n",
       "                   3e étage                    2\n",
       "                   Mag Pôle adultes BD         1\n",
       "                   Magasin collectivités       7\n",
       "                   Rez-de-chaussée             1\n",
       "                   Zèbre                      14\n",
       "                   nan                         1\n",
       "6 -  En retrait    1er étage                   4\n",
       "                   2e étage -  Jeunesse        4\n",
       "dtype: int64"
      ]
     },
     "execution_count": 99,
     "metadata": {},
     "output_type": "execute_result"
    }
   ],
   "source": [
    "anomalies_docs_abimes.groupby([\"statut\",\"localisation\"]).size()"
   ]
  },
  {
   "cell_type": "code",
   "execution_count": 100,
   "id": "88ebbdd7",
   "metadata": {},
   "outputs": [
    {
     "data": {
      "text/plain": [
       "statut             localisation          \n",
       "3 - Empruntable    Magasin collectivités     105\n",
       "                   Magasin disco 3e étage      1\n",
       "                   Magasin jeunesse            2\n",
       "5 - En réparation  Magasin collectivités       7\n",
       "dtype: int64"
      ]
     },
     "execution_count": 100,
     "metadata": {},
     "output_type": "execute_result"
    }
   ],
   "source": [
    "anomalies_docs_abimes_mag.groupby([\"statut\",\"localisation\"]).size()"
   ]
  },
  {
   "cell_type": "markdown",
   "id": "4db55902",
   "metadata": {},
   "source": [
    "On obtient ici la liste des exemplaires passés en abimé depuis plus d'un an (sont exclus de cette liste les exemplaires sortis des collections)."
   ]
  },
  {
   "cell_type": "code",
   "execution_count": 101,
   "id": "9435f38d",
   "metadata": {},
   "outputs": [],
   "source": [
    "anomalies_docs_abimes_coll[colonnes_a_exporter].to_excel('../data/liste_anomalies_exemplaires_abimes_coll.xlsx',index=False)"
   ]
  },
  {
   "cell_type": "code",
   "execution_count": 102,
   "id": "2c53d71b",
   "metadata": {},
   "outputs": [],
   "source": [
    "anomalies_docs_abimes_coll[colonnes_a_exporter].to_excel('../data/liste_anomalies_exemplaires_abimes_mag.xlsx',index=False)"
   ]
  },
  {
   "cell_type": "markdown",
   "id": "36b18bd3",
   "metadata": {},
   "source": [
    "### Documents perdus\n",
    "Les documents perdus font déjà l'objet d'un traitement. Toutes les 1, 3 et 5 semaines, François a mis en place un script qui génère une liste des documents perdus.\n",
    "> Réfléchir peut-être à une requête du style : docs marqué en perdu depuis plus d'un an et qui ont été bipé il y a moins de 5 semaine (grâce à `timestamp|`)"
   ]
  },
  {
   "cell_type": "markdown",
   "id": "a8a66f04",
   "metadata": {},
   "source": [
    "### Documents en retrait"
   ]
  },
  {
   "cell_type": "code",
   "execution_count": 103,
   "id": "148f1424",
   "metadata": {},
   "outputs": [
    {
     "data": {
      "text/html": [
       "<div>\n",
       "<style scoped>\n",
       "    .dataframe tbody tr th:only-of-type {\n",
       "        vertical-align: middle;\n",
       "    }\n",
       "\n",
       "    .dataframe tbody tr th {\n",
       "        vertical-align: top;\n",
       "    }\n",
       "\n",
       "    .dataframe thead th {\n",
       "        text-align: right;\n",
       "    }\n",
       "</style>\n",
       "<table border=\"1\" class=\"dataframe\">\n",
       "  <thead>\n",
       "    <tr style=\"text-align: right;\">\n",
       "      <th></th>\n",
       "      <th>itemnumber</th>\n",
       "      <th>biblionumber</th>\n",
       "      <th>biblioitemnumber</th>\n",
       "      <th>code-barre</th>\n",
       "      <th>date d'acquisition</th>\n",
       "      <th>booksellerid</th>\n",
       "      <th>site propriétaire</th>\n",
       "      <th>prix</th>\n",
       "      <th>coût de remplacement</th>\n",
       "      <th>replacementpricedate</th>\n",
       "      <th>...</th>\n",
       "      <th>new_status</th>\n",
       "      <th>exclude_from_local_holds_priority</th>\n",
       "      <th>itemtype</th>\n",
       "      <th>statut</th>\n",
       "      <th>abimé</th>\n",
       "      <th>perdu</th>\n",
       "      <th>retiré de la circulation</th>\n",
       "      <th>collection</th>\n",
       "      <th>localisation</th>\n",
       "      <th>type de support</th>\n",
       "    </tr>\n",
       "  </thead>\n",
       "  <tbody>\n",
       "    <tr>\n",
       "      <th>55287</th>\n",
       "      <td>432377</td>\n",
       "      <td>84901</td>\n",
       "      <td>84901</td>\n",
       "      <td>None</td>\n",
       "      <td>2021-09-18</td>\n",
       "      <td>None</td>\n",
       "      <td>MED</td>\n",
       "      <td>NaN</td>\n",
       "      <td>NaN</td>\n",
       "      <td>2021-09-18</td>\n",
       "      <td>...</td>\n",
       "      <td>None</td>\n",
       "      <td>NaN</td>\n",
       "      <td>PA</td>\n",
       "      <td>6 -  En retrait</td>\n",
       "      <td>Non</td>\n",
       "      <td>Non</td>\n",
       "      <td>Non</td>\n",
       "      <td>NaN</td>\n",
       "      <td>NaN</td>\n",
       "      <td>Partition</td>\n",
       "    </tr>\n",
       "    <tr>\n",
       "      <th>279686</th>\n",
       "      <td>436666</td>\n",
       "      <td>343364</td>\n",
       "      <td>343364</td>\n",
       "      <td>None</td>\n",
       "      <td>2021-12-14</td>\n",
       "      <td>None</td>\n",
       "      <td>MED</td>\n",
       "      <td>NaN</td>\n",
       "      <td>NaN</td>\n",
       "      <td>2021-12-14</td>\n",
       "      <td>...</td>\n",
       "      <td>None</td>\n",
       "      <td>NaN</td>\n",
       "      <td>LS</td>\n",
       "      <td>6 -  En retrait</td>\n",
       "      <td>Non</td>\n",
       "      <td>Non</td>\n",
       "      <td>Non</td>\n",
       "      <td>ALT - Livres audio</td>\n",
       "      <td>1er étage</td>\n",
       "      <td>Livre audio</td>\n",
       "    </tr>\n",
       "  </tbody>\n",
       "</table>\n",
       "<p>2 rows × 53 columns</p>\n",
       "</div>"
      ],
      "text/plain": [
       "        itemnumber  biblionumber  biblioitemnumber code-barre  \\\n",
       "55287       432377         84901             84901       None   \n",
       "279686      436666        343364            343364       None   \n",
       "\n",
       "       date d'acquisition booksellerid site propriétaire  prix  \\\n",
       "55287          2021-09-18         None               MED   NaN   \n",
       "279686         2021-12-14         None               MED   NaN   \n",
       "\n",
       "        coût de remplacement replacementpricedate  ... new_status  \\\n",
       "55287                    NaN           2021-09-18  ...       None   \n",
       "279686                   NaN           2021-12-14  ...       None   \n",
       "\n",
       "       exclude_from_local_holds_priority itemtype           statut  abimé  \\\n",
       "55287                                NaN       PA  6 -  En retrait    Non   \n",
       "279686                               NaN       LS  6 -  En retrait    Non   \n",
       "\n",
       "       perdu  retiré de la circulation          collection  localisation  \\\n",
       "55287    Non                       Non                 NaN           NaN   \n",
       "279686   Non                       Non  ALT - Livres audio     1er étage   \n",
       "\n",
       "       type de support  \n",
       "55287        Partition  \n",
       "279686     Livre audio  \n",
       "\n",
       "[2 rows x 53 columns]"
      ]
     },
     "execution_count": 103,
     "metadata": {},
     "output_type": "execute_result"
    }
   ],
   "source": [
    "docs_en_retrait = items[items['notforloan'].isin([-3])]\n",
    "docs_en_retrait_codebarre_ko = docs_en_retrait[docs_en_retrait[\"code-barre\"].isna()]\n",
    "docs_en_retrait_codebarre_ko"
   ]
  },
  {
   "cell_type": "code",
   "execution_count": 104,
   "id": "9cb7e567",
   "metadata": {},
   "outputs": [
    {
     "data": {
      "text/plain": [
       "localisation     collection                                        \n",
       "1er étage        AAP - Arts plastiques                                  2\n",
       "                 AAP - Dessin animé et animation                        3\n",
       "                 AAP - Documentaires sur le cinéma et la télévision     4\n",
       "                 AAP - Films                                            3\n",
       "                 AAP - PL - Cuisine et bricolage                        3\n",
       "                                                                       ..\n",
       "Rez-de-chaussée  PRR - FLRS de prêt                                     1\n",
       "                 PRR - Région                                          32\n",
       "Zèbre            ALT - Romans policiers                                 1\n",
       "                 JAB - Contes pour enfants                              1\n",
       "                 JCI - Dessins animés - Enfants                         1\n",
       "Length: 120, dtype: int64"
      ]
     },
     "execution_count": 104,
     "metadata": {},
     "output_type": "execute_result"
    }
   ],
   "source": [
    "anomalies_docs_en_retrait = docs_en_retrait[docs_en_retrait[\"date dernier changement\"] < deadline_1_an]\n",
    "anomalies_docs_en_retrait.groupby(['localisation',\"collection\"]).size()"
   ]
  },
  {
   "cell_type": "code",
   "execution_count": 105,
   "id": "92065465",
   "metadata": {},
   "outputs": [],
   "source": [
    "anomalies_docs_en_retrait[colonnes_a_exporter].to_excel('../data/liste_anomalies_exemplaires_docs_en_retrait.xlsx',index=False)"
   ]
  },
  {
   "cell_type": "markdown",
   "id": "132edbcc",
   "metadata": {},
   "source": [
    "### Documents en commande"
   ]
  },
  {
   "cell_type": "markdown",
   "id": "ec2f6ef8",
   "metadata": {},
   "source": [
    "> J'ai décidé arbitrairement de considérer comme des anomalies les documents en commande depuis 6 mois ou plus. À voir avec François"
   ]
  },
  {
   "cell_type": "code",
   "execution_count": 106,
   "id": "0cc2c40f",
   "metadata": {},
   "outputs": [],
   "source": [
    "docs_en_commande = items[items['notforloan'].isin([-1])]"
   ]
  },
  {
   "cell_type": "code",
   "execution_count": 107,
   "id": "74c53495",
   "metadata": {},
   "outputs": [],
   "source": [
    "anomalies_docs_en_commande = docs_en_commande[docs_en_commande['date dernier changement'] < deadline_6_mois]"
   ]
  },
  {
   "cell_type": "code",
   "execution_count": 108,
   "id": "e4d7ac0f",
   "metadata": {},
   "outputs": [
    {
     "data": {
      "text/plain": [
       "location\n",
       "MED0C    36\n",
       "MED1A    24\n",
       "dtype: int64"
      ]
     },
     "execution_count": 108,
     "metadata": {},
     "output_type": "execute_result"
    }
   ],
   "source": [
    "anomalies_docs_en_commande.groupby(items['location']).size()"
   ]
  },
  {
   "cell_type": "code",
   "execution_count": 109,
   "id": "93f9b066",
   "metadata": {},
   "outputs": [],
   "source": [
    "anomalies_docs_en_commande[colonnes_a_exporter].to_excel('../data/liste_anomalies_exemplaires_docs_en_commande.xlsx',index=False)"
   ]
  },
  {
   "cell_type": "markdown",
   "id": "49e2b6ce",
   "metadata": {},
   "source": [
    "### Documents en réparation"
   ]
  },
  {
   "cell_type": "code",
   "execution_count": 110,
   "id": "78c8e355",
   "metadata": {},
   "outputs": [
    {
     "data": {
      "text/plain": [
       "localisation\n",
       "1er étage                  40\n",
       "2e étage -  Jeunesse      242\n",
       "3e étage                   36\n",
       "Mag Patrimoine °8           3\n",
       "Mag Pôle adultes BD       127\n",
       "Mag Pôle adultes fol        6\n",
       "Mag Pôle adultes °8        35\n",
       "Magasin collectivités     281\n",
       "Magasin disco 3e étage      1\n",
       "Magasin jeunesse            2\n",
       "Rez-de-chaussée            80\n",
       "Zèbre                      43\n",
       "dtype: int64"
      ]
     },
     "execution_count": 110,
     "metadata": {},
     "output_type": "execute_result"
    }
   ],
   "source": [
    "docs_en_reparation = items[items['notforloan'].isin([-4])]\n",
    "docs_en_reparation.groupby(\"localisation\").size()"
   ]
  },
  {
   "cell_type": "code",
   "execution_count": 111,
   "id": "9e24aef2",
   "metadata": {},
   "outputs": [
    {
     "data": {
      "text/plain": [
       "localisation\n",
       "1er étage                 20\n",
       "2e étage -  Jeunesse      53\n",
       "3e étage                   8\n",
       "Mag Patrimoine °8          2\n",
       "Mag Pôle adultes BD        2\n",
       "Mag Pôle adultes fol       2\n",
       "Mag Pôle adultes °8        2\n",
       "Magasin collectivités    113\n",
       "Rez-de-chaussée           10\n",
       "Zèbre                     19\n",
       "dtype: int64"
      ]
     },
     "execution_count": 111,
     "metadata": {},
     "output_type": "execute_result"
    }
   ],
   "source": [
    "anomalies_docs_en_reparation = docs_en_reparation[docs_en_reparation[\"date dernier changement\"] < deadline_1_an]\n",
    "anomalies_docs_en_reparation.groupby(\"localisation\").size()"
   ]
  },
  {
   "cell_type": "code",
   "execution_count": 112,
   "id": "3a00ee00",
   "metadata": {},
   "outputs": [],
   "source": [
    "# Réfléchir à une deadline pour les Collectivités. Agnès me disait que les filles réparent l'hiver."
   ]
  },
  {
   "cell_type": "code",
   "execution_count": 113,
   "id": "8619aa2c",
   "metadata": {},
   "outputs": [],
   "source": [
    "anomalies_docs_en_reparation[colonnes_a_exporter].to_excel('../data/liste_anomalies_exemplaires_docs_en_reparation.xlsx',index=False)"
   ]
  },
  {
   "cell_type": "markdown",
   "id": "f1ebf89d",
   "metadata": {},
   "source": [
    "### Documents en reliure"
   ]
  },
  {
   "cell_type": "code",
   "execution_count": 114,
   "id": "61781ce7",
   "metadata": {},
   "outputs": [
    {
     "data": {
      "text/plain": [
       "localisation\n",
       "1er étage                1\n",
       "2e étage -  Jeunesse     1\n",
       "Mag Patrimoine RES 4     1\n",
       "Mag Pôle adultes fol    93\n",
       "Rez-de-chaussée         10\n",
       "dtype: int64"
      ]
     },
     "execution_count": 114,
     "metadata": {},
     "output_type": "execute_result"
    }
   ],
   "source": [
    "docs_en_reliure = items[items[\"notforloan\"]== 5]\n",
    "docs_en_reliure.groupby(\"localisation\").size()"
   ]
  },
  {
   "cell_type": "code",
   "execution_count": 115,
   "id": "e10a2d76",
   "metadata": {},
   "outputs": [],
   "source": [
    "docs_en_reliure[colonnes_a_exporter].to_excel('../data/liste_anomalies_exemplaires_docs_en_reliure.xlsx',index=False)"
   ]
  }
 ],
 "metadata": {
  "kernelspec": {
   "display_name": "Python 3 (ipykernel)",
   "language": "python",
   "name": "python3"
  },
  "language_info": {
   "codemirror_mode": {
    "name": "ipython",
    "version": 3
   },
   "file_extension": ".py",
   "mimetype": "text/x-python",
   "name": "python",
   "nbconvert_exporter": "python",
   "pygments_lexer": "ipython3",
   "version": "3.8.12"
  }
 },
 "nbformat": 4,
 "nbformat_minor": 5
}
