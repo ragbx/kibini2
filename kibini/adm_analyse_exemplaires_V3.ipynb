{
 "cells": [
  {
   "cell_type": "markdown",
   "id": "ba5e939f",
   "metadata": {},
   "source": [
    "# INTRODUCTION\n",
    "Le but de ce notebook est de relever les anomalies présentes sur les notices d'exemplaire afin de pouvoir exporter des listes à destination des aquéreurs. Le script se compose des parties suivantes :\n",
    "1. Import de la table `items`\n",
    "2.Traduction des colonnes pour les rendre lisibles pour les collègues qui auront le tableau sous les yeux \n",
    "3. Import des tables de valeurs autorisées\n",
    "4. Une suite de requêtes sur concernant les différentes colonnes de notre dataframe nommé `items`\n",
    "\n",
    "# IMPORT DE LA TABLE `items`"
   ]
  },
  {
   "cell_type": "code",
   "execution_count": 1,
   "id": "8ccbcb5a",
   "metadata": {},
   "outputs": [],
   "source": [
    "import pandas as pd\n",
    "from datetime import datetime\n",
    "\n",
    "from kiblib.utils.db import DbConn"
   ]
  },
  {
   "cell_type": "code",
   "execution_count": 2,
   "id": "1986b117",
   "metadata": {},
   "outputs": [],
   "source": [
    "db_conn = DbConn().create_engine()"
   ]
  },
  {
   "cell_type": "markdown",
   "id": "c444bdd2",
   "metadata": {},
   "source": [
    "On définit la variable query comme une requête SQL dans laquelle aux champs de la table items on a ajouté le champs itemtype de la table biblioitems:"
   ]
  },
  {
   "cell_type": "code",
   "execution_count": 3,
   "id": "03c06d19",
   "metadata": {},
   "outputs": [],
   "source": [
    "query = \"\"\"SELECT i.itemnumber, i.biblionumber, i.biblioitemnumber, i.barcode, i.dateaccessioned, i.booksellerid, i.homebranch, i.price, i.replacementprice, i.replacementpricedate, i.datelastborrowed, i.datelastseen, i.stack, i.notforloan, i.damaged, i.damaged_on, i.itemlost, i.itemlost_on, i.withdrawn, i.withdrawn_on, i.itemcallnumber, i.coded_location_qualifier, i.issues, i.renewals, i.reserves, i.restricted, i.itemnotes, i.itemnotes_nonpublic, i.holdingbranch,i.timestamp, i.location, i.permanent_location, i.onloan, i.cn_source, i.cn_sort, i.ccode, i.materials, i.uri, i.itype, i.more_subfields_xml, i.enumchron, i.copynumber, i.stocknumber, i.new_status, i.exclude_from_local_holds_priority, bi.itemtype\n",
    "FROM koha_prod.items i\n",
    "JOIN koha_prod.biblioitems bi ON bi.biblionumber = i.biblionumber \"\"\""
   ]
  },
  {
   "cell_type": "code",
   "execution_count": 4,
   "id": "2fc74c8d",
   "metadata": {},
   "outputs": [],
   "source": [
    "items = pd.read_sql(query,db_conn)"
   ]
  },
  {
   "cell_type": "markdown",
   "id": "4a501b3e",
   "metadata": {},
   "source": [
    "# MODIFICATION DU DATAFRAME & AMÉLIORATION DE LA LISIBILITÉ"
   ]
  },
  {
   "cell_type": "code",
   "execution_count": 5,
   "id": "d5a4454e",
   "metadata": {},
   "outputs": [
    {
     "data": {
      "text/plain": [
       "Index(['itemnumber', 'biblionumber', 'biblioitemnumber', 'barcode',\n",
       "       'dateaccessioned', 'booksellerid', 'homebranch', 'price',\n",
       "       'replacementprice', 'replacementpricedate', 'datelastborrowed',\n",
       "       'datelastseen', 'stack', 'notforloan', 'damaged', 'damaged_on',\n",
       "       'itemlost', 'itemlost_on', 'withdrawn', 'withdrawn_on',\n",
       "       'itemcallnumber', 'coded_location_qualifier', 'issues', 'renewals',\n",
       "       'reserves', 'restricted', 'itemnotes', 'itemnotes_nonpublic',\n",
       "       'holdingbranch', 'timestamp', 'location', 'permanent_location',\n",
       "       'onloan', 'cn_source', 'cn_sort', 'ccode', 'materials', 'uri', 'itype',\n",
       "       'more_subfields_xml', 'enumchron', 'copynumber', 'stocknumber',\n",
       "       'new_status', 'exclude_from_local_holds_priority', 'itemtype'],\n",
       "      dtype='object')"
      ]
     },
     "execution_count": 5,
     "metadata": {},
     "output_type": "execute_result"
    }
   ],
   "source": [
    "items.columns # avant la traduction"
   ]
  },
  {
   "cell_type": "code",
   "execution_count": 263,
   "id": "bb177c86",
   "metadata": {},
   "outputs": [],
   "source": [
    "items = items.rename(columns={\"barcode\":\"code-barre\",\n",
    "                              \"dateaccessioned\":\"date d'acquisition\",\n",
    "                              \"homebranch\":\"site propriétaire\",\n",
    "                              \"holdingbranch\":\"site dépositaire\",\n",
    "                              \"price\":\"prix\",\n",
    "                              \"replacementprice\":\"coût de remplacement\",\n",
    "                              \"datelastborrowed\":\"date dernier emprunt\",\n",
    "                              \"datelastseen\":\"vu la dernière fois\",\n",
    "                              \"damaged_on\":\"abimé le\",\n",
    "                              \"itemlost_on\":\"perdu le\",\n",
    "                              \"withdrawn_on\":\"retiré de la circulation le\",\n",
    "                              \"itemcallnumber\":\"cote\",\n",
    "                              \"issues\":\"nombre de prêts\",\n",
    "                              \"timestamp\":\"date dernier changement\",\n",
    "                              \"permanent_location\":\"localisation permanente\",\n",
    "                              \"onloan\":\"retour prévu le\",\n",
    "                              \"itemnotes\":\"notes publiques\",\n",
    "                              \"itemnotes_nonpublic\":\"notes internes\"})"
   ]
  },
  {
   "cell_type": "code",
   "execution_count": 7,
   "id": "849dadef",
   "metadata": {},
   "outputs": [
    {
     "data": {
      "text/plain": [
       "Index(['itemnumber', 'biblionumber', 'biblioitemnumber', 'code-barre',\n",
       "       'date d'acquisition', 'booksellerid', 'site propriétaire', 'prix',\n",
       "       'coût de remplacement', 'replacementpricedate', 'date dernier emprunt',\n",
       "       'vu la dernière fois', 'stack', 'notforloan', 'damaged', 'abimé le',\n",
       "       'itemlost', 'perdu le', 'withdrawn', 'retiré de la circulation le',\n",
       "       'cote', 'coded_location_qualifier', 'nombre de prêts', 'renewals',\n",
       "       'reserves', 'restricted', 'notes publiques', 'notes internes',\n",
       "       'site dépositaire', 'date dernier changement', 'location',\n",
       "       'localisation permanente', 'retour prévu le', 'cn_source', 'cn_sort',\n",
       "       'ccode', 'materials', 'uri', 'itype', 'more_subfields_xml', 'enumchron',\n",
       "       'copynumber', 'stocknumber', 'new_status',\n",
       "       'exclude_from_local_holds_priority', 'itemtype'],\n",
       "      dtype='object')"
      ]
     },
     "execution_count": 7,
     "metadata": {},
     "output_type": "execute_result"
    }
   ],
   "source": [
    "items.columns #après la traduction"
   ]
  },
  {
   "cell_type": "markdown",
   "id": "9fc8984c",
   "metadata": {},
   "source": [
    "# Utiliser la jointure de tables pour remplacer les valeurs autorisées\n",
    "\n",
    "## Notforloan"
   ]
  },
  {
   "cell_type": "code",
   "execution_count": 8,
   "id": "7e52d302",
   "metadata": {},
   "outputs": [],
   "source": [
    "query2 = \"\"\"SELECT av.authorised_value,av.lib \n",
    "FROM koha_prod.authorised_values av\n",
    "WHERE category = 'etat'\"\"\""
   ]
  },
  {
   "cell_type": "code",
   "execution_count": 9,
   "id": "ee41e300",
   "metadata": {},
   "outputs": [],
   "source": [
    "va_notforloan = pd.read_sql(query2, db_conn)"
   ]
  },
  {
   "cell_type": "code",
   "execution_count": 10,
   "id": "0b07ab4c",
   "metadata": {},
   "outputs": [],
   "source": [
    "va_notforloan['authorised_value'] = va_notforloan['authorised_value'].astype(int)"
   ]
  },
  {
   "cell_type": "code",
   "execution_count": 11,
   "id": "428a27a7",
   "metadata": {},
   "outputs": [
    {
     "data": {
      "text/plain": [
       "Index(['itemnumber', 'biblionumber', 'biblioitemnumber', 'code-barre',\n",
       "       'date d'acquisition', 'booksellerid', 'site propriétaire', 'prix',\n",
       "       'coût de remplacement', 'replacementpricedate', 'date dernier emprunt',\n",
       "       'vu la dernière fois', 'stack', 'notforloan', 'damaged', 'abimé le',\n",
       "       'itemlost', 'perdu le', 'withdrawn', 'retiré de la circulation le',\n",
       "       'cote', 'coded_location_qualifier', 'nombre de prêts', 'renewals',\n",
       "       'reserves', 'restricted', 'notes publiques', 'notes internes',\n",
       "       'site dépositaire', 'date dernier changement', 'location',\n",
       "       'localisation permanente', 'retour prévu le', 'cn_source', 'cn_sort',\n",
       "       'ccode', 'materials', 'uri', 'itype', 'more_subfields_xml', 'enumchron',\n",
       "       'copynumber', 'stocknumber', 'new_status',\n",
       "       'exclude_from_local_holds_priority', 'itemtype', 'authorised_value',\n",
       "       'lib'],\n",
       "      dtype='object')"
      ]
     },
     "execution_count": 11,
     "metadata": {},
     "output_type": "execute_result"
    }
   ],
   "source": [
    "items = items.merge(va_notforloan,left_on=\"notforloan\",right_on=\"authorised_value\")\n",
    "items.columns"
   ]
  },
  {
   "cell_type": "code",
   "execution_count": 12,
   "id": "8fc68b14",
   "metadata": {},
   "outputs": [],
   "source": [
    "items = items.rename(columns={\"authorised_value\": \"valeurs autorisées\", \"lib\": \"statut\"})"
   ]
  },
  {
   "cell_type": "code",
   "execution_count": 13,
   "id": "7380bc55",
   "metadata": {},
   "outputs": [],
   "source": [
    "items = items.drop(columns=['valeurs autorisées'])"
   ]
  },
  {
   "cell_type": "code",
   "execution_count": 14,
   "id": "db845c52",
   "metadata": {},
   "outputs": [],
   "source": [
    "query3 = \"\"\"SELECT av.authorised_value,av.lib \n",
    "FROM koha_prod.authorised_values av\n",
    "WHERE category = 'damaged'\"\"\""
   ]
  },
  {
   "cell_type": "code",
   "execution_count": 15,
   "id": "a5572c7d",
   "metadata": {},
   "outputs": [],
   "source": [
    "va_damaged = pd.read_sql(query3, db_conn)"
   ]
  },
  {
   "cell_type": "code",
   "execution_count": 16,
   "id": "ebf33c07",
   "metadata": {},
   "outputs": [],
   "source": [
    "va_damaged['authorised_value'] = va_damaged['authorised_value'].astype(int)"
   ]
  },
  {
   "cell_type": "code",
   "execution_count": 17,
   "id": "e87e4a86",
   "metadata": {},
   "outputs": [],
   "source": [
    "items = items.merge(va_damaged,left_on=\"damaged\",right_on=\"authorised_value\")"
   ]
  },
  {
   "cell_type": "code",
   "execution_count": 18,
   "id": "6ece7ad4",
   "metadata": {},
   "outputs": [],
   "source": [
    "items = items.rename(columns={\"lib\": \"abimé\"})"
   ]
  },
  {
   "cell_type": "code",
   "execution_count": 19,
   "id": "73b1b519",
   "metadata": {},
   "outputs": [],
   "source": [
    "items = items.drop(columns=[\"authorised_value\"])"
   ]
  },
  {
   "cell_type": "code",
   "execution_count": 20,
   "id": "9bb8d135",
   "metadata": {},
   "outputs": [
    {
     "data": {
      "text/plain": [
       "Index(['itemnumber', 'biblionumber', 'biblioitemnumber', 'code-barre',\n",
       "       'date d'acquisition', 'booksellerid', 'site propriétaire', 'prix',\n",
       "       'coût de remplacement', 'replacementpricedate', 'date dernier emprunt',\n",
       "       'vu la dernière fois', 'stack', 'notforloan', 'damaged', 'abimé le',\n",
       "       'itemlost', 'perdu le', 'withdrawn', 'retiré de la circulation le',\n",
       "       'cote', 'coded_location_qualifier', 'nombre de prêts', 'renewals',\n",
       "       'reserves', 'restricted', 'notes publiques', 'notes internes',\n",
       "       'site dépositaire', 'date dernier changement', 'location',\n",
       "       'localisation permanente', 'retour prévu le', 'cn_source', 'cn_sort',\n",
       "       'ccode', 'materials', 'uri', 'itype', 'more_subfields_xml', 'enumchron',\n",
       "       'copynumber', 'stocknumber', 'new_status',\n",
       "       'exclude_from_local_holds_priority', 'itemtype', 'statut', 'abimé'],\n",
       "      dtype='object')"
      ]
     },
     "execution_count": 20,
     "metadata": {},
     "output_type": "execute_result"
    }
   ],
   "source": [
    "items.columns"
   ]
  },
  {
   "cell_type": "markdown",
   "id": "f9648eed",
   "metadata": {},
   "source": [
    "## itemlost"
   ]
  },
  {
   "cell_type": "code",
   "execution_count": 21,
   "id": "f68091e9",
   "metadata": {},
   "outputs": [],
   "source": [
    "query4 = \"\"\"SELECT av.authorised_value,av.lib \n",
    "FROM koha_prod.authorised_values av\n",
    "WHERE category = 'lost'\"\"\""
   ]
  },
  {
   "cell_type": "code",
   "execution_count": 22,
   "id": "818a102a",
   "metadata": {},
   "outputs": [],
   "source": [
    "va_itemlost = pd.read_sql(query4, db_conn)"
   ]
  },
  {
   "cell_type": "code",
   "execution_count": 23,
   "id": "55fdf2e2",
   "metadata": {},
   "outputs": [],
   "source": [
    "va_itemlost['authorised_value'] = va_itemlost['authorised_value'].astype(int)"
   ]
  },
  {
   "cell_type": "code",
   "execution_count": 24,
   "id": "fb53c513",
   "metadata": {},
   "outputs": [],
   "source": [
    "items = items.merge(va_itemlost,left_on=\"itemlost\",right_on=\"authorised_value\")"
   ]
  },
  {
   "cell_type": "code",
   "execution_count": 25,
   "id": "94c0d09e",
   "metadata": {},
   "outputs": [],
   "source": [
    "items = items.rename(columns={\"lib\": \"perdu\"})"
   ]
  },
  {
   "cell_type": "code",
   "execution_count": 26,
   "id": "626fa6dd",
   "metadata": {},
   "outputs": [],
   "source": [
    "items = items.drop(columns=[\"authorised_value\"])"
   ]
  },
  {
   "cell_type": "code",
   "execution_count": 27,
   "id": "04eabb3e",
   "metadata": {},
   "outputs": [
    {
     "data": {
      "text/plain": [
       "Index(['itemnumber', 'biblionumber', 'biblioitemnumber', 'code-barre',\n",
       "       'date d'acquisition', 'booksellerid', 'site propriétaire', 'prix',\n",
       "       'coût de remplacement', 'replacementpricedate', 'date dernier emprunt',\n",
       "       'vu la dernière fois', 'stack', 'notforloan', 'damaged', 'abimé le',\n",
       "       'itemlost', 'perdu le', 'withdrawn', 'retiré de la circulation le',\n",
       "       'cote', 'coded_location_qualifier', 'nombre de prêts', 'renewals',\n",
       "       'reserves', 'restricted', 'notes publiques', 'notes internes',\n",
       "       'site dépositaire', 'date dernier changement', 'location',\n",
       "       'localisation permanente', 'retour prévu le', 'cn_source', 'cn_sort',\n",
       "       'ccode', 'materials', 'uri', 'itype', 'more_subfields_xml', 'enumchron',\n",
       "       'copynumber', 'stocknumber', 'new_status',\n",
       "       'exclude_from_local_holds_priority', 'itemtype', 'statut', 'abimé',\n",
       "       'perdu'],\n",
       "      dtype='object')"
      ]
     },
     "execution_count": 27,
     "metadata": {},
     "output_type": "execute_result"
    }
   ],
   "source": [
    "items.columns"
   ]
  },
  {
   "cell_type": "markdown",
   "id": "b01bb421",
   "metadata": {},
   "source": [
    "## Withdrawn"
   ]
  },
  {
   "cell_type": "code",
   "execution_count": 28,
   "id": "e039d991",
   "metadata": {},
   "outputs": [],
   "source": [
    "query5 = \"\"\"SELECT av.authorised_value,av.lib \n",
    "FROM koha_prod.authorised_values av\n",
    "WHERE category = 'retirecoll'\"\"\""
   ]
  },
  {
   "cell_type": "code",
   "execution_count": 29,
   "id": "58ea4529",
   "metadata": {},
   "outputs": [],
   "source": [
    "va_withdrawn = pd.read_sql(query5, db_conn)"
   ]
  },
  {
   "cell_type": "code",
   "execution_count": 30,
   "id": "89809095",
   "metadata": {},
   "outputs": [],
   "source": [
    "va_withdrawn['authorised_value'] = va_withdrawn['authorised_value'].astype(int)"
   ]
  },
  {
   "cell_type": "code",
   "execution_count": 31,
   "id": "dfc2f6d1",
   "metadata": {},
   "outputs": [],
   "source": [
    "items = items.merge(va_withdrawn,left_on=\"withdrawn\",right_on=\"authorised_value\")"
   ]
  },
  {
   "cell_type": "code",
   "execution_count": 32,
   "id": "5cdc90ea",
   "metadata": {},
   "outputs": [],
   "source": [
    "items = items.rename(columns={\"lib\": \"retiré de la circulation\"})"
   ]
  },
  {
   "cell_type": "code",
   "execution_count": 33,
   "id": "3ce54640",
   "metadata": {},
   "outputs": [],
   "source": [
    "items = items.drop(columns=[\"authorised_value\"])"
   ]
  },
  {
   "cell_type": "code",
   "execution_count": 34,
   "id": "59b0df52",
   "metadata": {},
   "outputs": [
    {
     "data": {
      "text/plain": [
       "Index(['itemnumber', 'biblionumber', 'biblioitemnumber', 'code-barre',\n",
       "       'date d'acquisition', 'booksellerid', 'site propriétaire', 'prix',\n",
       "       'coût de remplacement', 'replacementpricedate', 'date dernier emprunt',\n",
       "       'vu la dernière fois', 'stack', 'notforloan', 'damaged', 'abimé le',\n",
       "       'itemlost', 'perdu le', 'withdrawn', 'retiré de la circulation le',\n",
       "       'cote', 'coded_location_qualifier', 'nombre de prêts', 'renewals',\n",
       "       'reserves', 'restricted', 'notes publiques', 'notes internes',\n",
       "       'site dépositaire', 'date dernier changement', 'location',\n",
       "       'localisation permanente', 'retour prévu le', 'cn_source', 'cn_sort',\n",
       "       'ccode', 'materials', 'uri', 'itype', 'more_subfields_xml', 'enumchron',\n",
       "       'copynumber', 'stocknumber', 'new_status',\n",
       "       'exclude_from_local_holds_priority', 'itemtype', 'statut', 'abimé',\n",
       "       'perdu', 'retiré de la circulation'],\n",
       "      dtype='object')"
      ]
     },
     "execution_count": 34,
     "metadata": {},
     "output_type": "execute_result"
    }
   ],
   "source": [
    "items.columns"
   ]
  },
  {
   "cell_type": "markdown",
   "id": "052cae71",
   "metadata": {},
   "source": [
    "## Ccode"
   ]
  },
  {
   "cell_type": "code",
   "execution_count": 35,
   "id": "748fedff",
   "metadata": {},
   "outputs": [],
   "source": [
    "query6 = \"\"\"SELECT av.authorised_value,av.lib \n",
    "FROM koha_prod.authorised_values av\n",
    "WHERE category = 'collection'\"\"\""
   ]
  },
  {
   "cell_type": "code",
   "execution_count": 36,
   "id": "c4c925e8",
   "metadata": {},
   "outputs": [],
   "source": [
    "va_collection = pd.read_sql(query6, db_conn)"
   ]
  },
  {
   "cell_type": "code",
   "execution_count": 37,
   "id": "3388ea97",
   "metadata": {},
   "outputs": [],
   "source": [
    "items = items.merge(va_collection,left_on=\"ccode\",right_on=\"authorised_value\")"
   ]
  },
  {
   "cell_type": "code",
   "execution_count": 38,
   "id": "444d6cb8",
   "metadata": {},
   "outputs": [],
   "source": [
    "items = items.rename(columns={\"lib\": \"collection\"})"
   ]
  },
  {
   "cell_type": "code",
   "execution_count": 39,
   "id": "d8183752",
   "metadata": {},
   "outputs": [],
   "source": [
    "items = items.drop(columns=[\"authorised_value\"])"
   ]
  },
  {
   "cell_type": "code",
   "execution_count": 40,
   "id": "4961294b",
   "metadata": {},
   "outputs": [
    {
     "data": {
      "text/plain": [
       "Index(['itemnumber', 'biblionumber', 'biblioitemnumber', 'code-barre',\n",
       "       'date d'acquisition', 'booksellerid', 'site propriétaire', 'prix',\n",
       "       'coût de remplacement', 'replacementpricedate', 'date dernier emprunt',\n",
       "       'vu la dernière fois', 'stack', 'notforloan', 'damaged', 'abimé le',\n",
       "       'itemlost', 'perdu le', 'withdrawn', 'retiré de la circulation le',\n",
       "       'cote', 'coded_location_qualifier', 'nombre de prêts', 'renewals',\n",
       "       'reserves', 'restricted', 'notes publiques', 'notes internes',\n",
       "       'site dépositaire', 'date dernier changement', 'location',\n",
       "       'localisation permanente', 'retour prévu le', 'cn_source', 'cn_sort',\n",
       "       'ccode', 'materials', 'uri', 'itype', 'more_subfields_xml', 'enumchron',\n",
       "       'copynumber', 'stocknumber', 'new_status',\n",
       "       'exclude_from_local_holds_priority', 'itemtype', 'statut', 'abimé',\n",
       "       'perdu', 'retiré de la circulation', 'collection'],\n",
       "      dtype='object')"
      ]
     },
     "execution_count": 40,
     "metadata": {},
     "output_type": "execute_result"
    }
   ],
   "source": [
    "items.columns"
   ]
  },
  {
   "cell_type": "markdown",
   "id": "f247e326",
   "metadata": {},
   "source": [
    "## location"
   ]
  },
  {
   "cell_type": "code",
   "execution_count": 41,
   "id": "9498e40a",
   "metadata": {},
   "outputs": [],
   "source": [
    "query7 = \"\"\"SELECT av.authorised_value,av.lib \n",
    "FROM koha_prod.authorised_values av\n",
    "WHERE category = 'loc'\"\"\""
   ]
  },
  {
   "cell_type": "code",
   "execution_count": 42,
   "id": "a507708a",
   "metadata": {},
   "outputs": [],
   "source": [
    "va_location = pd.read_sql(query7, db_conn)"
   ]
  },
  {
   "cell_type": "code",
   "execution_count": 43,
   "id": "7360ba16",
   "metadata": {},
   "outputs": [],
   "source": [
    "items = items.merge(va_location,left_on=\"location\",right_on=\"authorised_value\")"
   ]
  },
  {
   "cell_type": "code",
   "execution_count": 44,
   "id": "e6111fe8",
   "metadata": {},
   "outputs": [],
   "source": [
    "items = items.rename(columns={\"lib\": \"localisation\"})"
   ]
  },
  {
   "cell_type": "code",
   "execution_count": 45,
   "id": "b29b4914",
   "metadata": {},
   "outputs": [],
   "source": [
    "items = items.drop(columns=[\"authorised_value\"])"
   ]
  },
  {
   "cell_type": "code",
   "execution_count": 46,
   "id": "26250e56",
   "metadata": {},
   "outputs": [
    {
     "data": {
      "text/plain": [
       "Index(['itemnumber', 'biblionumber', 'biblioitemnumber', 'code-barre',\n",
       "       'date d'acquisition', 'booksellerid', 'site propriétaire', 'prix',\n",
       "       'coût de remplacement', 'replacementpricedate', 'date dernier emprunt',\n",
       "       'vu la dernière fois', 'stack', 'notforloan', 'damaged', 'abimé le',\n",
       "       'itemlost', 'perdu le', 'withdrawn', 'retiré de la circulation le',\n",
       "       'cote', 'coded_location_qualifier', 'nombre de prêts', 'renewals',\n",
       "       'reserves', 'restricted', 'notes publiques', 'notes internes',\n",
       "       'site dépositaire', 'date dernier changement', 'location',\n",
       "       'localisation permanente', 'retour prévu le', 'cn_source', 'cn_sort',\n",
       "       'ccode', 'materials', 'uri', 'itype', 'more_subfields_xml', 'enumchron',\n",
       "       'copynumber', 'stocknumber', 'new_status',\n",
       "       'exclude_from_local_holds_priority', 'itemtype', 'statut', 'abimé',\n",
       "       'perdu', 'retiré de la circulation', 'collection', 'localisation'],\n",
       "      dtype='object')"
      ]
     },
     "execution_count": 46,
     "metadata": {},
     "output_type": "execute_result"
    }
   ],
   "source": [
    "items.columns"
   ]
  },
  {
   "cell_type": "markdown",
   "id": "9b8d62b2",
   "metadata": {},
   "source": [
    "## itemtype"
   ]
  },
  {
   "cell_type": "code",
   "execution_count": 47,
   "id": "434fe8f9",
   "metadata": {},
   "outputs": [],
   "source": [
    "query8 = \"\"\"SELECT av.authorised_value,av.lib \n",
    "FROM koha_prod.authorised_values av\n",
    "WHERE category = 'typedoc'\"\"\""
   ]
  },
  {
   "cell_type": "code",
   "execution_count": 48,
   "id": "a4fb8ea5",
   "metadata": {},
   "outputs": [],
   "source": [
    "va_itemtype = pd.read_sql(query8, db_conn)"
   ]
  },
  {
   "cell_type": "code",
   "execution_count": 49,
   "id": "7ea8d226",
   "metadata": {},
   "outputs": [],
   "source": [
    "items = items.merge(va_itemtype,left_on=\"itemtype\",right_on=\"authorised_value\")"
   ]
  },
  {
   "cell_type": "code",
   "execution_count": 50,
   "id": "3cd1f9f0",
   "metadata": {},
   "outputs": [],
   "source": [
    "items = items.rename(columns={\"lib\": \"type de support\"})"
   ]
  },
  {
   "cell_type": "code",
   "execution_count": 51,
   "id": "d1a0ca76",
   "metadata": {},
   "outputs": [],
   "source": [
    "items = items.drop(columns=[\"authorised_value\"])"
   ]
  },
  {
   "cell_type": "code",
   "execution_count": 52,
   "id": "c54a2e2b",
   "metadata": {},
   "outputs": [
    {
     "data": {
      "text/plain": [
       "Index(['itemnumber', 'biblionumber', 'biblioitemnumber', 'code-barre',\n",
       "       'date d'acquisition', 'booksellerid', 'site propriétaire', 'prix',\n",
       "       'coût de remplacement', 'replacementpricedate', 'date dernier emprunt',\n",
       "       'vu la dernière fois', 'stack', 'notforloan', 'damaged', 'abimé le',\n",
       "       'itemlost', 'perdu le', 'withdrawn', 'retiré de la circulation le',\n",
       "       'cote', 'coded_location_qualifier', 'nombre de prêts', 'renewals',\n",
       "       'reserves', 'restricted', 'notes publiques', 'notes internes',\n",
       "       'site dépositaire', 'date dernier changement', 'location',\n",
       "       'localisation permanente', 'retour prévu le', 'cn_source', 'cn_sort',\n",
       "       'ccode', 'materials', 'uri', 'itype', 'more_subfields_xml', 'enumchron',\n",
       "       'copynumber', 'stocknumber', 'new_status',\n",
       "       'exclude_from_local_holds_priority', 'itemtype', 'statut', 'abimé',\n",
       "       'perdu', 'retiré de la circulation', 'collection', 'localisation',\n",
       "       'type de support'],\n",
       "      dtype='object')"
      ]
     },
     "execution_count": 52,
     "metadata": {},
     "output_type": "execute_result"
    }
   ],
   "source": [
    "items.columns"
   ]
  },
  {
   "cell_type": "markdown",
   "id": "f72280e3",
   "metadata": {},
   "source": [
    "items.columns\n",
    "\n",
    "* [x] notforloan / statut \n",
    "* [x] damaged / abimé\n",
    "* [x] itemlost / perdu\n",
    "* [x] withdrawn / retiré de la circulation\n",
    "* [x] ccode / code collection\n",
    "* [x] location / localisation"
   ]
  },
  {
   "cell_type": "markdown",
   "id": "3f47297a",
   "metadata": {},
   "source": [
    "\n",
    "# DÉFINITION DE QUELQUES VARIABLES IMPORTANTES\n",
    "\n",
    "## Les colonnes à exporter"
   ]
  },
  {
   "cell_type": "code",
   "execution_count": 53,
   "id": "1f1b43da",
   "metadata": {},
   "outputs": [],
   "source": [
    "colonnes_a_exporter = [\"code-barre\",\n",
    "                       \"date d'acquisition\",\n",
    "                       \"site propriétaire\",\n",
    "                       \"site dépositaire\",\n",
    "                       \"prix\",\n",
    "                       \"coût de remplacement\",\n",
    "                       \"date dernier emprunt\",\n",
    "                       \"vu la dernière fois\",\n",
    "                       \"statut\",\n",
    "                       \"abimé\",\n",
    "                       \"abimé le\",\n",
    "                       \"perdu\",\n",
    "                       \"perdu le\",\n",
    "                       \"retiré de la circulation\",\n",
    "                       \"type de support\",\n",
    "                       \"collection\",\n",
    "                       \"cote\",\n",
    "                       \"nombre de prêts\",\n",
    "                       \"date dernier changement\",\n",
    "                       \"localisation\",\n",
    "                       \"localisation permanente\",\n",
    "                       \"notes publiques\",\n",
    "                       \"notes internes\"\n",
    "                      ]"
   ]
  },
  {
   "cell_type": "markdown",
   "id": "58c689f7",
   "metadata": {},
   "source": [
    "## Transformation des colonnes au format `date`"
   ]
  },
  {
   "cell_type": "code",
   "execution_count": 54,
   "id": "0a6ff2ec",
   "metadata": {},
   "outputs": [],
   "source": [
    "items[\"date d'acquisition\"] = pd.to_datetime(items[\"date d'acquisition\"])"
   ]
  },
  {
   "cell_type": "code",
   "execution_count": 55,
   "id": "c53f5e40",
   "metadata": {},
   "outputs": [],
   "source": [
    "items[\"date dernier emprunt\"] = pd.to_datetime(items[\"date dernier emprunt\"])"
   ]
  },
  {
   "cell_type": "code",
   "execution_count": 56,
   "id": "e8d30ed7",
   "metadata": {},
   "outputs": [],
   "source": [
    "items[\"vu la dernière fois\"] = pd.to_datetime(items[\"vu la dernière fois\"])"
   ]
  },
  {
   "cell_type": "code",
   "execution_count": 57,
   "id": "c941a34b",
   "metadata": {},
   "outputs": [],
   "source": [
    "items[\"abimé le\"] = pd.to_datetime(items[\"abimé le\"])"
   ]
  },
  {
   "cell_type": "code",
   "execution_count": 58,
   "id": "002110f5",
   "metadata": {},
   "outputs": [],
   "source": [
    "items[\"perdu le\"] = pd.to_datetime(items[\"perdu le\"])"
   ]
  },
  {
   "cell_type": "code",
   "execution_count": 59,
   "id": "da079a98",
   "metadata": {},
   "outputs": [],
   "source": [
    "items[\"date dernier changement\"] = pd.to_datetime(items[\"date dernier changement\"])"
   ]
  },
  {
   "cell_type": "markdown",
   "id": "706ab03f",
   "metadata": {},
   "source": [
    "## Les deadlines"
   ]
  },
  {
   "cell_type": "code",
   "execution_count": 60,
   "id": "5c76d0b4",
   "metadata": {},
   "outputs": [
    {
     "data": {
      "text/plain": [
       "Timestamp('2021-11-19 09:16:30.936651')"
      ]
     },
     "execution_count": 60,
     "metadata": {},
     "output_type": "execute_result"
    }
   ],
   "source": [
    "deadline_1_an = pd.to_datetime(\"today\") - pd.Timedelta(365, unit='D')\n",
    "deadline_1_an"
   ]
  },
  {
   "cell_type": "code",
   "execution_count": 247,
   "id": "5b0f99dd",
   "metadata": {},
   "outputs": [],
   "source": [
    "deadline_2_ans = pd.to_datetime(\"today\") - pd.Timedelta(365*2, unit='D')"
   ]
  },
  {
   "cell_type": "markdown",
   "id": "e996a218",
   "metadata": {},
   "source": [
    "# ANALYSE DES ANOMALIES\n",
    "## Anomalies sur les données manquantes\n",
    "### Code-barre manquant"
   ]
  },
  {
   "cell_type": "code",
   "execution_count": 154,
   "id": "993b4fbd",
   "metadata": {},
   "outputs": [],
   "source": [
    "codebarre_ko = items[items[\"code-barre\"].isna()]"
   ]
  },
  {
   "cell_type": "code",
   "execution_count": 153,
   "id": "f2ab37f2",
   "metadata": {},
   "outputs": [
    {
     "data": {
      "text/plain": [
       "statut             localisation          \n",
       "1 - En commande    Rez-de-chaussée           39\n",
       "2 - En traitement  1er étage                  1\n",
       "                   2e étage -  Jeunesse       8\n",
       "                   3e étage                   1\n",
       "                   Magasin collectivités      1\n",
       "                   Magasin disco 2e étage     1\n",
       "3 - Empruntable    1er étage                  2\n",
       "                   2e étage -  Jeunesse       1\n",
       "                   3e étage                   1\n",
       "                   Magasin collectivités      1\n",
       "                   Zèbre                      1\n",
       "6 -  En retrait    1er étage                  1\n",
       "dtype: int64"
      ]
     },
     "execution_count": 153,
     "metadata": {},
     "output_type": "execute_result"
    }
   ],
   "source": [
    "codebarre_ko.groupby([\"statut\",\"localisation\"]).size()"
   ]
  },
  {
   "cell_type": "code",
   "execution_count": 157,
   "id": "7b4e823b",
   "metadata": {},
   "outputs": [],
   "source": [
    "anomalies_docs_codebarre_ko = codebarre_ko[~codebarre_ko[\"notforloan\"].isin([-2,-1])]"
   ]
  },
  {
   "cell_type": "code",
   "execution_count": 159,
   "id": "505e1d4e",
   "metadata": {},
   "outputs": [
    {
     "data": {
      "text/plain": [
       "statut\n",
       "3 - Empruntable    6\n",
       "6 -  En retrait    1\n",
       "dtype: int64"
      ]
     },
     "execution_count": 159,
     "metadata": {},
     "output_type": "execute_result"
    }
   ],
   "source": [
    "anomalies_docs_codebarre_ko.groupby([\"statut\"]).size()"
   ]
  },
  {
   "cell_type": "code",
   "execution_count": 160,
   "id": "b7556287",
   "metadata": {},
   "outputs": [],
   "source": [
    "anomalies_docs_codebarre_ko[colonnes_a_exporter].to_excel('../data/liste_anomalies_exemplaires_codebarre_ko.xlsx',index=False)"
   ]
  },
  {
   "cell_type": "markdown",
   "id": "381390b9",
   "metadata": {},
   "source": [
    "### Site propriétaire manquant"
   ]
  },
  {
   "cell_type": "code",
   "execution_count": 162,
   "id": "44493ccf",
   "metadata": {},
   "outputs": [
    {
     "data": {
      "text/html": [
       "<div>\n",
       "<style scoped>\n",
       "    .dataframe tbody tr th:only-of-type {\n",
       "        vertical-align: middle;\n",
       "    }\n",
       "\n",
       "    .dataframe tbody tr th {\n",
       "        vertical-align: top;\n",
       "    }\n",
       "\n",
       "    .dataframe thead th {\n",
       "        text-align: right;\n",
       "    }\n",
       "</style>\n",
       "<table border=\"1\" class=\"dataframe\">\n",
       "  <thead>\n",
       "    <tr style=\"text-align: right;\">\n",
       "      <th></th>\n",
       "      <th>itemnumber</th>\n",
       "      <th>biblionumber</th>\n",
       "      <th>biblioitemnumber</th>\n",
       "      <th>code-barre</th>\n",
       "      <th>date d'acquisition</th>\n",
       "      <th>booksellerid</th>\n",
       "      <th>site propriétaire</th>\n",
       "      <th>prix</th>\n",
       "      <th>coût de remplacement</th>\n",
       "      <th>replacementpricedate</th>\n",
       "      <th>...</th>\n",
       "      <th>new_status</th>\n",
       "      <th>exclude_from_local_holds_priority</th>\n",
       "      <th>itemtype</th>\n",
       "      <th>statut</th>\n",
       "      <th>abimé</th>\n",
       "      <th>perdu</th>\n",
       "      <th>retiré de la circulation</th>\n",
       "      <th>collection</th>\n",
       "      <th>localisation</th>\n",
       "      <th>type de support</th>\n",
       "    </tr>\n",
       "  </thead>\n",
       "  <tbody>\n",
       "  </tbody>\n",
       "</table>\n",
       "<p>0 rows × 53 columns</p>\n",
       "</div>"
      ],
      "text/plain": [
       "Empty DataFrame\n",
       "Columns: [itemnumber, biblionumber, biblioitemnumber, code-barre, date d'acquisition, booksellerid, site propriétaire, prix, coût de remplacement, replacementpricedate, date dernier emprunt, vu la dernière fois, stack, notforloan, damaged, abimé le, itemlost, perdu le, withdrawn, retiré de la circulation le, cote, coded_location_qualifier, nombre de prêts, renewals, reserves, restricted, notes publiques, notes internes, site dépositaire, date dernier changement, location, localisation permanente, retour prévu le, cn_source, cn_sort, ccode, materials, uri, itype, more_subfields_xml, enumchron, copynumber, stocknumber, new_status, exclude_from_local_holds_priority, itemtype, statut, abimé, perdu, retiré de la circulation, collection, localisation, type de support]\n",
       "Index: []\n",
       "\n",
       "[0 rows x 53 columns]"
      ]
     },
     "execution_count": 162,
     "metadata": {},
     "output_type": "execute_result"
    }
   ],
   "source": [
    "site_proprietaire_ko = items[items[\"site propriétaire\"].isna()]\n",
    "site_proprietaire_ko"
   ]
  },
  {
   "cell_type": "markdown",
   "id": "ec835734",
   "metadata": {},
   "source": [
    "### Prix manquant\n",
    "\n",
    "Voici une description de la méthode employée pour générer la liste des anomalies d'exemplaires sans prix :\n",
    "* J'ai défini la variable `prix_ko` comme la liste des exemplaires sans code-barre renseigné\n",
    "* J'ai ensuite exclu de cette liste les documents du magasin, ainsi que les périodiques (défini par la variable `anomalies_prix_ko_coll`\n",
    "* Grâce à un `groupby` et `.dt.year`, j'ai généré une liste du total de documents sans prix par an.\n",
    "* On constate que c'est **à partir de 2020 que les documents sans prix augmentent**\n",
    "* J'ai donc redéfini ma variable `anomalies_prix_ko_coll` comme la liste des exemplaires acheté il y a moins de 3 ans\n",
    "\n",
    "> * [ ] Il faudrait voir à filtrer et exclure de la liste les docs du Musée (il y en a que 2) et du Zèbre"
   ]
  },
  {
   "cell_type": "code",
   "execution_count": 219,
   "id": "e925c1e3",
   "metadata": {},
   "outputs": [],
   "source": [
    "prix_ko = items[items[\"prix\"].isna()]"
   ]
  },
  {
   "cell_type": "code",
   "execution_count": 209,
   "id": "50ba1190",
   "metadata": {},
   "outputs": [],
   "source": [
    "anomalies_prix_ko_coll = prix_ko[~prix_ko.localisation.str.contains('Mag')]\n",
    "anomalies_prix_ko_coll = anomalies_prix_ko_coll[~anomalies_prix_ko_coll.localisation.str.contains('Pé')]"
   ]
  },
  {
   "cell_type": "code",
   "execution_count": 211,
   "id": "173ea276",
   "metadata": {},
   "outputs": [
    {
     "data": {
      "text/plain": [
       "date d'acquisition\n",
       "2005       2\n",
       "2006       1\n",
       "2009       2\n",
       "2010       2\n",
       "2011       2\n",
       "2012       4\n",
       "2013       3\n",
       "2014      25\n",
       "2015      16\n",
       "2016      91\n",
       "2017     374\n",
       "2018     492\n",
       "2019     986\n",
       "2020    1516\n",
       "2021    3093\n",
       "2022    3458\n",
       "dtype: int64"
      ]
     },
     "execution_count": 211,
     "metadata": {},
     "output_type": "execute_result"
    }
   ],
   "source": [
    "anomalies_prix_ko_coll.groupby([anomalies_prix_ko[\"date d'acquisition\"].dt.year]).size()"
   ]
  },
  {
   "cell_type": "code",
   "execution_count": 207,
   "id": "4947910d",
   "metadata": {},
   "outputs": [],
   "source": [
    "anomalies_prix_ko_coll = anomalies_prix_ko_coll[anomalies_prix_ko_coll[\"date d'acquisition\"].dt.year >= 2020]"
   ]
  },
  {
   "cell_type": "code",
   "execution_count": 222,
   "id": "fd02399c",
   "metadata": {},
   "outputs": [
    {
     "data": {
      "text/plain": [
       "localisation  collection                                        \n",
       "1er étage     AAP - Arts plastiques                                 260\n",
       "              AAP - Bande dessinée                                   16\n",
       "              AAP - Dessin animé et animation                         4\n",
       "              AAP - Dessin animé et animation (documentaires)        23\n",
       "              AAP - Documentaires sur le cinéma et la télévision    115\n",
       "                                                                   ... \n",
       "Zèbre         JDT - 700 Activités manuelles / Arts                   14\n",
       "              JDT - 900 Géographie / Histoire                         6\n",
       "              JRO - Premiers romans                                  31\n",
       "              JRO - Romans policiers pour enfants                     2\n",
       "              JRO - Romans pour enfants                              10\n",
       "Length: 162, dtype: int64"
      ]
     },
     "execution_count": 222,
     "metadata": {},
     "output_type": "execute_result"
    }
   ],
   "source": [
    "anomalies_prix_ko_coll.groupby([\"localisation\",\"collection\"]).size()"
   ]
  },
  {
   "cell_type": "code",
   "execution_count": 218,
   "id": "8919db08",
   "metadata": {},
   "outputs": [],
   "source": [
    "anomalies_prix_ko_coll[colonnes_a_exporter].to_excel(\"../data/liste_anomalies_exemplaires_prix_ko_coll.xlsx\",index=False)"
   ]
  },
  {
   "cell_type": "markdown",
   "id": "fa4bea71",
   "metadata": {},
   "source": [
    "### Côte manquante"
   ]
  },
  {
   "cell_type": "code",
   "execution_count": 265,
   "id": "3de0c3b1",
   "metadata": {},
   "outputs": [
    {
     "name": "stderr",
     "output_type": "stream",
     "text": [
      "/tmp/ipykernel_19565/1681895464.py:1: FutureWarning: reindexing with a non-unique Index is deprecated and will raise in a future version.\n",
      "  cotes_ko = items[items[\"cote\"].isna()]\n"
     ]
    },
    {
     "ename": "ValueError",
     "evalue": "cannot reindex on an axis with duplicate labels",
     "output_type": "error",
     "traceback": [
      "\u001b[0;31m---------------------------------------------------------------------------\u001b[0m",
      "\u001b[0;31mValueError\u001b[0m                                Traceback (most recent call last)",
      "\u001b[0;32m/tmp/ipykernel_19565/1681895464.py\u001b[0m in \u001b[0;36m<module>\u001b[0;34m\u001b[0m\n\u001b[0;32m----> 1\u001b[0;31m \u001b[0mcotes_ko\u001b[0m \u001b[0;34m=\u001b[0m \u001b[0mitems\u001b[0m\u001b[0;34m[\u001b[0m\u001b[0mitems\u001b[0m\u001b[0;34m[\u001b[0m\u001b[0;34m\"cote\"\u001b[0m\u001b[0;34m]\u001b[0m\u001b[0;34m.\u001b[0m\u001b[0misna\u001b[0m\u001b[0;34m(\u001b[0m\u001b[0;34m)\u001b[0m\u001b[0;34m]\u001b[0m\u001b[0;34m\u001b[0m\u001b[0;34m\u001b[0m\u001b[0m\n\u001b[0m",
      "\u001b[0;32m~/miniconda3/envs/kibini/lib/python3.8/site-packages/pandas/core/frame.py\u001b[0m in \u001b[0;36m__getitem__\u001b[0;34m(self, key)\u001b[0m\n\u001b[1;32m   3490\u001b[0m         \u001b[0;31m# Do we have a (boolean) DataFrame?\u001b[0m\u001b[0;34m\u001b[0m\u001b[0;34m\u001b[0m\u001b[0;34m\u001b[0m\u001b[0m\n\u001b[1;32m   3491\u001b[0m         \u001b[0;32mif\u001b[0m \u001b[0misinstance\u001b[0m\u001b[0;34m(\u001b[0m\u001b[0mkey\u001b[0m\u001b[0;34m,\u001b[0m \u001b[0mDataFrame\u001b[0m\u001b[0;34m)\u001b[0m\u001b[0;34m:\u001b[0m\u001b[0;34m\u001b[0m\u001b[0;34m\u001b[0m\u001b[0m\n\u001b[0;32m-> 3492\u001b[0;31m             \u001b[0;32mreturn\u001b[0m \u001b[0mself\u001b[0m\u001b[0;34m.\u001b[0m\u001b[0mwhere\u001b[0m\u001b[0;34m(\u001b[0m\u001b[0mkey\u001b[0m\u001b[0;34m)\u001b[0m\u001b[0;34m\u001b[0m\u001b[0;34m\u001b[0m\u001b[0m\n\u001b[0m\u001b[1;32m   3493\u001b[0m \u001b[0;34m\u001b[0m\u001b[0m\n\u001b[1;32m   3494\u001b[0m         \u001b[0;31m# Do we have a (boolean) 1d indexer?\u001b[0m\u001b[0;34m\u001b[0m\u001b[0;34m\u001b[0m\u001b[0;34m\u001b[0m\u001b[0m\n",
      "\u001b[0;32m~/miniconda3/envs/kibini/lib/python3.8/site-packages/pandas/util/_decorators.py\u001b[0m in \u001b[0;36mwrapper\u001b[0;34m(*args, **kwargs)\u001b[0m\n\u001b[1;32m    309\u001b[0m                     \u001b[0mstacklevel\u001b[0m\u001b[0;34m=\u001b[0m\u001b[0mstacklevel\u001b[0m\u001b[0;34m,\u001b[0m\u001b[0;34m\u001b[0m\u001b[0;34m\u001b[0m\u001b[0m\n\u001b[1;32m    310\u001b[0m                 )\n\u001b[0;32m--> 311\u001b[0;31m             \u001b[0;32mreturn\u001b[0m \u001b[0mfunc\u001b[0m\u001b[0;34m(\u001b[0m\u001b[0;34m*\u001b[0m\u001b[0margs\u001b[0m\u001b[0;34m,\u001b[0m \u001b[0;34m**\u001b[0m\u001b[0mkwargs\u001b[0m\u001b[0;34m)\u001b[0m\u001b[0;34m\u001b[0m\u001b[0;34m\u001b[0m\u001b[0m\n\u001b[0m\u001b[1;32m    312\u001b[0m \u001b[0;34m\u001b[0m\u001b[0m\n\u001b[1;32m    313\u001b[0m         \u001b[0;32mreturn\u001b[0m \u001b[0mwrapper\u001b[0m\u001b[0;34m\u001b[0m\u001b[0;34m\u001b[0m\u001b[0m\n",
      "\u001b[0;32m~/miniconda3/envs/kibini/lib/python3.8/site-packages/pandas/core/frame.py\u001b[0m in \u001b[0;36mwhere\u001b[0;34m(self, cond, other, inplace, axis, level, errors, try_cast)\u001b[0m\n\u001b[1;32m  10947\u001b[0m         \u001b[0mtry_cast\u001b[0m\u001b[0;34m=\u001b[0m\u001b[0mlib\u001b[0m\u001b[0;34m.\u001b[0m\u001b[0mno_default\u001b[0m\u001b[0;34m,\u001b[0m\u001b[0;34m\u001b[0m\u001b[0;34m\u001b[0m\u001b[0m\n\u001b[1;32m  10948\u001b[0m     ):\n\u001b[0;32m> 10949\u001b[0;31m         \u001b[0;32mreturn\u001b[0m \u001b[0msuper\u001b[0m\u001b[0;34m(\u001b[0m\u001b[0;34m)\u001b[0m\u001b[0;34m.\u001b[0m\u001b[0mwhere\u001b[0m\u001b[0;34m(\u001b[0m\u001b[0mcond\u001b[0m\u001b[0;34m,\u001b[0m \u001b[0mother\u001b[0m\u001b[0;34m,\u001b[0m \u001b[0minplace\u001b[0m\u001b[0;34m,\u001b[0m \u001b[0maxis\u001b[0m\u001b[0;34m,\u001b[0m \u001b[0mlevel\u001b[0m\u001b[0;34m,\u001b[0m \u001b[0merrors\u001b[0m\u001b[0;34m,\u001b[0m \u001b[0mtry_cast\u001b[0m\u001b[0;34m)\u001b[0m\u001b[0;34m\u001b[0m\u001b[0;34m\u001b[0m\u001b[0m\n\u001b[0m\u001b[1;32m  10950\u001b[0m \u001b[0;34m\u001b[0m\u001b[0m\n\u001b[1;32m  10951\u001b[0m     @deprecate_nonkeyword_arguments(\n",
      "\u001b[0;32m~/miniconda3/envs/kibini/lib/python3.8/site-packages/pandas/core/generic.py\u001b[0m in \u001b[0;36mwhere\u001b[0;34m(self, cond, other, inplace, axis, level, errors, try_cast)\u001b[0m\n\u001b[1;32m   9316\u001b[0m             )\n\u001b[1;32m   9317\u001b[0m \u001b[0;34m\u001b[0m\u001b[0m\n\u001b[0;32m-> 9318\u001b[0;31m         \u001b[0;32mreturn\u001b[0m \u001b[0mself\u001b[0m\u001b[0;34m.\u001b[0m\u001b[0m_where\u001b[0m\u001b[0;34m(\u001b[0m\u001b[0mcond\u001b[0m\u001b[0;34m,\u001b[0m \u001b[0mother\u001b[0m\u001b[0;34m,\u001b[0m \u001b[0minplace\u001b[0m\u001b[0;34m,\u001b[0m \u001b[0maxis\u001b[0m\u001b[0;34m,\u001b[0m \u001b[0mlevel\u001b[0m\u001b[0;34m,\u001b[0m \u001b[0merrors\u001b[0m\u001b[0;34m=\u001b[0m\u001b[0merrors\u001b[0m\u001b[0;34m)\u001b[0m\u001b[0;34m\u001b[0m\u001b[0;34m\u001b[0m\u001b[0m\n\u001b[0m\u001b[1;32m   9319\u001b[0m \u001b[0;34m\u001b[0m\u001b[0m\n\u001b[1;32m   9320\u001b[0m     @doc(\n",
      "\u001b[0;32m~/miniconda3/envs/kibini/lib/python3.8/site-packages/pandas/core/generic.py\u001b[0m in \u001b[0;36m_where\u001b[0;34m(self, cond, other, inplace, axis, level, errors)\u001b[0m\n\u001b[1;32m   9079\u001b[0m \u001b[0;34m\u001b[0m\u001b[0m\n\u001b[1;32m   9080\u001b[0m         \u001b[0mcond\u001b[0m \u001b[0;34m=\u001b[0m \u001b[0;34m-\u001b[0m\u001b[0mcond\u001b[0m \u001b[0;32mif\u001b[0m \u001b[0minplace\u001b[0m \u001b[0;32melse\u001b[0m \u001b[0mcond\u001b[0m\u001b[0;34m\u001b[0m\u001b[0;34m\u001b[0m\u001b[0m\n\u001b[0;32m-> 9081\u001b[0;31m         \u001b[0mcond\u001b[0m \u001b[0;34m=\u001b[0m \u001b[0mcond\u001b[0m\u001b[0;34m.\u001b[0m\u001b[0mreindex\u001b[0m\u001b[0;34m(\u001b[0m\u001b[0mself\u001b[0m\u001b[0;34m.\u001b[0m\u001b[0m_info_axis\u001b[0m\u001b[0;34m,\u001b[0m \u001b[0maxis\u001b[0m\u001b[0;34m=\u001b[0m\u001b[0mself\u001b[0m\u001b[0;34m.\u001b[0m\u001b[0m_info_axis_number\u001b[0m\u001b[0;34m,\u001b[0m \u001b[0mcopy\u001b[0m\u001b[0;34m=\u001b[0m\u001b[0;32mFalse\u001b[0m\u001b[0;34m)\u001b[0m\u001b[0;34m\u001b[0m\u001b[0;34m\u001b[0m\u001b[0m\n\u001b[0m\u001b[1;32m   9082\u001b[0m \u001b[0;34m\u001b[0m\u001b[0m\n\u001b[1;32m   9083\u001b[0m         \u001b[0;31m# try to align with other\u001b[0m\u001b[0;34m\u001b[0m\u001b[0;34m\u001b[0m\u001b[0;34m\u001b[0m\u001b[0m\n",
      "\u001b[0;32m~/miniconda3/envs/kibini/lib/python3.8/site-packages/pandas/util/_decorators.py\u001b[0m in \u001b[0;36mwrapper\u001b[0;34m(*args, **kwargs)\u001b[0m\n\u001b[1;32m    322\u001b[0m         \u001b[0;34m@\u001b[0m\u001b[0mwraps\u001b[0m\u001b[0;34m(\u001b[0m\u001b[0mfunc\u001b[0m\u001b[0;34m)\u001b[0m\u001b[0;34m\u001b[0m\u001b[0;34m\u001b[0m\u001b[0m\n\u001b[1;32m    323\u001b[0m         \u001b[0;32mdef\u001b[0m \u001b[0mwrapper\u001b[0m\u001b[0;34m(\u001b[0m\u001b[0;34m*\u001b[0m\u001b[0margs\u001b[0m\u001b[0;34m,\u001b[0m \u001b[0;34m**\u001b[0m\u001b[0mkwargs\u001b[0m\u001b[0;34m)\u001b[0m \u001b[0;34m->\u001b[0m \u001b[0mCallable\u001b[0m\u001b[0;34m[\u001b[0m\u001b[0;34m...\u001b[0m\u001b[0;34m,\u001b[0m \u001b[0mAny\u001b[0m\u001b[0;34m]\u001b[0m\u001b[0;34m:\u001b[0m\u001b[0;34m\u001b[0m\u001b[0;34m\u001b[0m\u001b[0m\n\u001b[0;32m--> 324\u001b[0;31m             \u001b[0;32mreturn\u001b[0m \u001b[0mfunc\u001b[0m\u001b[0;34m(\u001b[0m\u001b[0;34m*\u001b[0m\u001b[0margs\u001b[0m\u001b[0;34m,\u001b[0m \u001b[0;34m**\u001b[0m\u001b[0mkwargs\u001b[0m\u001b[0;34m)\u001b[0m\u001b[0;34m\u001b[0m\u001b[0;34m\u001b[0m\u001b[0m\n\u001b[0m\u001b[1;32m    325\u001b[0m \u001b[0;34m\u001b[0m\u001b[0m\n\u001b[1;32m    326\u001b[0m         \u001b[0mkind\u001b[0m \u001b[0;34m=\u001b[0m \u001b[0minspect\u001b[0m\u001b[0;34m.\u001b[0m\u001b[0mParameter\u001b[0m\u001b[0;34m.\u001b[0m\u001b[0mPOSITIONAL_OR_KEYWORD\u001b[0m\u001b[0;34m\u001b[0m\u001b[0;34m\u001b[0m\u001b[0m\n",
      "\u001b[0;32m~/miniconda3/envs/kibini/lib/python3.8/site-packages/pandas/core/frame.py\u001b[0m in \u001b[0;36mreindex\u001b[0;34m(self, *args, **kwargs)\u001b[0m\n\u001b[1;32m   4796\u001b[0m         \u001b[0mkwargs\u001b[0m\u001b[0;34m.\u001b[0m\u001b[0mpop\u001b[0m\u001b[0;34m(\u001b[0m\u001b[0;34m\"axis\"\u001b[0m\u001b[0;34m,\u001b[0m \u001b[0;32mNone\u001b[0m\u001b[0;34m)\u001b[0m\u001b[0;34m\u001b[0m\u001b[0;34m\u001b[0m\u001b[0m\n\u001b[1;32m   4797\u001b[0m         \u001b[0mkwargs\u001b[0m\u001b[0;34m.\u001b[0m\u001b[0mpop\u001b[0m\u001b[0;34m(\u001b[0m\u001b[0;34m\"labels\"\u001b[0m\u001b[0;34m,\u001b[0m \u001b[0;32mNone\u001b[0m\u001b[0;34m)\u001b[0m\u001b[0;34m\u001b[0m\u001b[0;34m\u001b[0m\u001b[0m\n\u001b[0;32m-> 4798\u001b[0;31m         \u001b[0;32mreturn\u001b[0m \u001b[0msuper\u001b[0m\u001b[0;34m(\u001b[0m\u001b[0;34m)\u001b[0m\u001b[0;34m.\u001b[0m\u001b[0mreindex\u001b[0m\u001b[0;34m(\u001b[0m\u001b[0;34m**\u001b[0m\u001b[0mkwargs\u001b[0m\u001b[0;34m)\u001b[0m\u001b[0;34m\u001b[0m\u001b[0;34m\u001b[0m\u001b[0m\n\u001b[0m\u001b[1;32m   4799\u001b[0m \u001b[0;34m\u001b[0m\u001b[0m\n\u001b[1;32m   4800\u001b[0m     \u001b[0;34m@\u001b[0m\u001b[0mdeprecate_nonkeyword_arguments\u001b[0m\u001b[0;34m(\u001b[0m\u001b[0mversion\u001b[0m\u001b[0;34m=\u001b[0m\u001b[0;32mNone\u001b[0m\u001b[0;34m,\u001b[0m \u001b[0mallowed_args\u001b[0m\u001b[0;34m=\u001b[0m\u001b[0;34m[\u001b[0m\u001b[0;34m\"self\"\u001b[0m\u001b[0;34m,\u001b[0m \u001b[0;34m\"labels\"\u001b[0m\u001b[0;34m]\u001b[0m\u001b[0;34m)\u001b[0m\u001b[0;34m\u001b[0m\u001b[0;34m\u001b[0m\u001b[0m\n",
      "\u001b[0;32m~/miniconda3/envs/kibini/lib/python3.8/site-packages/pandas/core/generic.py\u001b[0m in \u001b[0;36mreindex\u001b[0;34m(self, *args, **kwargs)\u001b[0m\n\u001b[1;32m   4972\u001b[0m \u001b[0;34m\u001b[0m\u001b[0m\n\u001b[1;32m   4973\u001b[0m         \u001b[0;31m# perform the reindex on the axes\u001b[0m\u001b[0;34m\u001b[0m\u001b[0;34m\u001b[0m\u001b[0;34m\u001b[0m\u001b[0m\n\u001b[0;32m-> 4974\u001b[0;31m         return self._reindex_axes(\n\u001b[0m\u001b[1;32m   4975\u001b[0m             \u001b[0maxes\u001b[0m\u001b[0;34m,\u001b[0m \u001b[0mlevel\u001b[0m\u001b[0;34m,\u001b[0m \u001b[0mlimit\u001b[0m\u001b[0;34m,\u001b[0m \u001b[0mtolerance\u001b[0m\u001b[0;34m,\u001b[0m \u001b[0mmethod\u001b[0m\u001b[0;34m,\u001b[0m \u001b[0mfill_value\u001b[0m\u001b[0;34m,\u001b[0m \u001b[0mcopy\u001b[0m\u001b[0;34m\u001b[0m\u001b[0;34m\u001b[0m\u001b[0m\n\u001b[1;32m   4976\u001b[0m         ).__finalize__(self, method=\"reindex\")\n",
      "\u001b[0;32m~/miniconda3/envs/kibini/lib/python3.8/site-packages/pandas/core/frame.py\u001b[0m in \u001b[0;36m_reindex_axes\u001b[0;34m(self, axes, level, limit, tolerance, method, fill_value, copy)\u001b[0m\n\u001b[1;32m   4609\u001b[0m         \u001b[0mcolumns\u001b[0m \u001b[0;34m=\u001b[0m \u001b[0maxes\u001b[0m\u001b[0;34m[\u001b[0m\u001b[0;34m\"columns\"\u001b[0m\u001b[0;34m]\u001b[0m\u001b[0;34m\u001b[0m\u001b[0;34m\u001b[0m\u001b[0m\n\u001b[1;32m   4610\u001b[0m         \u001b[0;32mif\u001b[0m \u001b[0mcolumns\u001b[0m \u001b[0;32mis\u001b[0m \u001b[0;32mnot\u001b[0m \u001b[0;32mNone\u001b[0m\u001b[0;34m:\u001b[0m\u001b[0;34m\u001b[0m\u001b[0;34m\u001b[0m\u001b[0m\n\u001b[0;32m-> 4611\u001b[0;31m             frame = frame._reindex_columns(\n\u001b[0m\u001b[1;32m   4612\u001b[0m                 \u001b[0mcolumns\u001b[0m\u001b[0;34m,\u001b[0m \u001b[0mmethod\u001b[0m\u001b[0;34m,\u001b[0m \u001b[0mcopy\u001b[0m\u001b[0;34m,\u001b[0m \u001b[0mlevel\u001b[0m\u001b[0;34m,\u001b[0m \u001b[0mfill_value\u001b[0m\u001b[0;34m,\u001b[0m \u001b[0mlimit\u001b[0m\u001b[0;34m,\u001b[0m \u001b[0mtolerance\u001b[0m\u001b[0;34m\u001b[0m\u001b[0;34m\u001b[0m\u001b[0m\n\u001b[1;32m   4613\u001b[0m             )\n",
      "\u001b[0;32m~/miniconda3/envs/kibini/lib/python3.8/site-packages/pandas/core/frame.py\u001b[0m in \u001b[0;36m_reindex_columns\u001b[0;34m(self, new_columns, method, copy, level, fill_value, limit, tolerance)\u001b[0m\n\u001b[1;32m   4654\u001b[0m             \u001b[0mnew_columns\u001b[0m\u001b[0;34m,\u001b[0m \u001b[0mmethod\u001b[0m\u001b[0;34m=\u001b[0m\u001b[0mmethod\u001b[0m\u001b[0;34m,\u001b[0m \u001b[0mlevel\u001b[0m\u001b[0;34m=\u001b[0m\u001b[0mlevel\u001b[0m\u001b[0;34m,\u001b[0m \u001b[0mlimit\u001b[0m\u001b[0;34m=\u001b[0m\u001b[0mlimit\u001b[0m\u001b[0;34m,\u001b[0m \u001b[0mtolerance\u001b[0m\u001b[0;34m=\u001b[0m\u001b[0mtolerance\u001b[0m\u001b[0;34m\u001b[0m\u001b[0;34m\u001b[0m\u001b[0m\n\u001b[1;32m   4655\u001b[0m         )\n\u001b[0;32m-> 4656\u001b[0;31m         return self._reindex_with_indexers(\n\u001b[0m\u001b[1;32m   4657\u001b[0m             \u001b[0;34m{\u001b[0m\u001b[0;36m1\u001b[0m\u001b[0;34m:\u001b[0m \u001b[0;34m[\u001b[0m\u001b[0mnew_columns\u001b[0m\u001b[0;34m,\u001b[0m \u001b[0mindexer\u001b[0m\u001b[0;34m]\u001b[0m\u001b[0;34m}\u001b[0m\u001b[0;34m,\u001b[0m\u001b[0;34m\u001b[0m\u001b[0;34m\u001b[0m\u001b[0m\n\u001b[1;32m   4658\u001b[0m             \u001b[0mcopy\u001b[0m\u001b[0;34m=\u001b[0m\u001b[0mcopy\u001b[0m\u001b[0;34m,\u001b[0m\u001b[0;34m\u001b[0m\u001b[0;34m\u001b[0m\u001b[0m\n",
      "\u001b[0;32m~/miniconda3/envs/kibini/lib/python3.8/site-packages/pandas/core/generic.py\u001b[0m in \u001b[0;36m_reindex_with_indexers\u001b[0;34m(self, reindexers, fill_value, copy, allow_dups)\u001b[0m\n\u001b[1;32m   5038\u001b[0m \u001b[0;34m\u001b[0m\u001b[0m\n\u001b[1;32m   5039\u001b[0m             \u001b[0;31m# TODO: speed up on homogeneous DataFrame objects (see _reindex_multi)\u001b[0m\u001b[0;34m\u001b[0m\u001b[0;34m\u001b[0m\u001b[0;34m\u001b[0m\u001b[0m\n\u001b[0;32m-> 5040\u001b[0;31m             new_data = new_data.reindex_indexer(\n\u001b[0m\u001b[1;32m   5041\u001b[0m                 \u001b[0mindex\u001b[0m\u001b[0;34m,\u001b[0m\u001b[0;34m\u001b[0m\u001b[0;34m\u001b[0m\u001b[0m\n\u001b[1;32m   5042\u001b[0m                 \u001b[0mindexer\u001b[0m\u001b[0;34m,\u001b[0m\u001b[0;34m\u001b[0m\u001b[0;34m\u001b[0m\u001b[0m\n",
      "\u001b[0;32m~/miniconda3/envs/kibini/lib/python3.8/site-packages/pandas/core/internals/managers.py\u001b[0m in \u001b[0;36mreindex_indexer\u001b[0;34m(self, new_axis, indexer, axis, fill_value, allow_dups, copy, consolidate, only_slice, use_na_proxy)\u001b[0m\n\u001b[1;32m    677\u001b[0m         \u001b[0;31m# some axes don't allow reindexing with dups\u001b[0m\u001b[0;34m\u001b[0m\u001b[0;34m\u001b[0m\u001b[0;34m\u001b[0m\u001b[0m\n\u001b[1;32m    678\u001b[0m         \u001b[0;32mif\u001b[0m \u001b[0;32mnot\u001b[0m \u001b[0mallow_dups\u001b[0m\u001b[0;34m:\u001b[0m\u001b[0;34m\u001b[0m\u001b[0;34m\u001b[0m\u001b[0m\n\u001b[0;32m--> 679\u001b[0;31m             \u001b[0mself\u001b[0m\u001b[0;34m.\u001b[0m\u001b[0maxes\u001b[0m\u001b[0;34m[\u001b[0m\u001b[0maxis\u001b[0m\u001b[0;34m]\u001b[0m\u001b[0;34m.\u001b[0m\u001b[0m_validate_can_reindex\u001b[0m\u001b[0;34m(\u001b[0m\u001b[0mindexer\u001b[0m\u001b[0;34m)\u001b[0m\u001b[0;34m\u001b[0m\u001b[0;34m\u001b[0m\u001b[0m\n\u001b[0m\u001b[1;32m    680\u001b[0m \u001b[0;34m\u001b[0m\u001b[0m\n\u001b[1;32m    681\u001b[0m         \u001b[0;32mif\u001b[0m \u001b[0maxis\u001b[0m \u001b[0;34m>=\u001b[0m \u001b[0mself\u001b[0m\u001b[0;34m.\u001b[0m\u001b[0mndim\u001b[0m\u001b[0;34m:\u001b[0m\u001b[0;34m\u001b[0m\u001b[0;34m\u001b[0m\u001b[0m\n",
      "\u001b[0;32m~/miniconda3/envs/kibini/lib/python3.8/site-packages/pandas/core/indexes/base.py\u001b[0m in \u001b[0;36m_validate_can_reindex\u001b[0;34m(self, indexer)\u001b[0m\n\u001b[1;32m   4105\u001b[0m         \u001b[0;31m# trying to reindex on an axis with duplicates\u001b[0m\u001b[0;34m\u001b[0m\u001b[0;34m\u001b[0m\u001b[0;34m\u001b[0m\u001b[0m\n\u001b[1;32m   4106\u001b[0m         \u001b[0;32mif\u001b[0m \u001b[0;32mnot\u001b[0m \u001b[0mself\u001b[0m\u001b[0;34m.\u001b[0m\u001b[0m_index_as_unique\u001b[0m \u001b[0;32mand\u001b[0m \u001b[0mlen\u001b[0m\u001b[0;34m(\u001b[0m\u001b[0mindexer\u001b[0m\u001b[0;34m)\u001b[0m\u001b[0;34m:\u001b[0m\u001b[0;34m\u001b[0m\u001b[0;34m\u001b[0m\u001b[0m\n\u001b[0;32m-> 4107\u001b[0;31m             \u001b[0;32mraise\u001b[0m \u001b[0mValueError\u001b[0m\u001b[0;34m(\u001b[0m\u001b[0;34m\"cannot reindex on an axis with duplicate labels\"\u001b[0m\u001b[0;34m)\u001b[0m\u001b[0;34m\u001b[0m\u001b[0;34m\u001b[0m\u001b[0m\n\u001b[0m\u001b[1;32m   4108\u001b[0m \u001b[0;34m\u001b[0m\u001b[0m\n\u001b[1;32m   4109\u001b[0m     def reindex(\n",
      "\u001b[0;31mValueError\u001b[0m: cannot reindex on an axis with duplicate labels"
     ]
    }
   ],
   "source": [
    "cotes_ko = items[items[\"cote\"].isna()]"
   ]
  },
  {
   "cell_type": "markdown",
   "id": "f60644b7",
   "metadata": {},
   "source": [
    "## Anomalies sur les statuts"
   ]
  },
  {
   "cell_type": "code",
   "execution_count": 239,
   "id": "9a5a857f",
   "metadata": {},
   "outputs": [
    {
     "data": {
      "text/plain": [
       "notforloan  statut                                 \n",
       "-4          5 - En réparation                            1123\n",
       "-3          6 -  En retrait                              1957\n",
       "-2          2 - En traitement                            1261\n",
       "-1          1 - En commande                                39\n",
       " 0          3 - Empruntable                            215214\n",
       " 2          4 - Réservé à la consultation sur place     48977\n",
       " 3          9 - Consultable au musée                       17\n",
       " 4          8 - Sorti des collections                    8804\n",
       " 5          7 - En reliure                                105\n",
       "dtype: int64"
      ]
     },
     "execution_count": 239,
     "metadata": {},
     "output_type": "execute_result"
    }
   ],
   "source": [
    "items.groupby([\"notforloan\",\"statut\"]).size()"
   ]
  },
  {
   "cell_type": "markdown",
   "id": "d422da7a",
   "metadata": {},
   "source": [
    "### Documents abimés\n",
    "\n",
    "Voici une description de la méthode employée pour générer la liste des anomalies d'exemplaires abimés : \n",
    "* J'ai d'abord affiché une liste des valeurs pour la colonne `abimé` (cela servira pour les requêtes)\n",
    "* J'ai ensuite défini la variable `docs_abimés` comme la liste des documents marqués en `Abimé`\n",
    "* J'ai ensuite défini la variable `anomalies_docs_abimes`comme la liste des docs abimés ayant été marqué en abimé depuis plus d'un an (grâce à la variable `deadline_1_an`)\n",
    "* J'ai ensuit utilisé la fonction `groupby` afin d'afficher la liste des docs abimés par statut\n",
    "* J'ai pu filtrer et générer deux listes différentes grâce àa la fonction `.localisation.str.contains` : \n",
    " - la première comprends les anomalies localisées ailleurs que dans les magasins `anomalies_docs_abimes_coll`\n",
    " - La seconde liste concerne les anomalies localisées dans les différents magasins `anomalies_docs_abimes_mag` \n",
    "* **On a comme résultat une liste des documents marqués comme abimés depuis plus d'un an et qui ne sont ni sortis des collections ni des documents localisés au magasin**"
   ]
  },
  {
   "cell_type": "code",
   "execution_count": 120,
   "id": "0e25fbca",
   "metadata": {},
   "outputs": [
    {
     "data": {
      "text/plain": [
       "Non               274439\n",
       "Abimé               3006\n",
       "Prétendu rendu        52\n",
       "Name: abimé, dtype: int64"
      ]
     },
     "execution_count": 120,
     "metadata": {},
     "output_type": "execute_result"
    }
   ],
   "source": [
    "items[\"abimé\"].value_counts()"
   ]
  },
  {
   "cell_type": "code",
   "execution_count": 121,
   "id": "bf3fbf2e",
   "metadata": {},
   "outputs": [],
   "source": [
    "docs_abimes = items[items[\"abimé\"]==\"Abimé\"]"
   ]
  },
  {
   "cell_type": "code",
   "execution_count": 122,
   "id": "005083a9",
   "metadata": {},
   "outputs": [],
   "source": [
    "anomalies_docs_abimes = docs_abimes[docs_abimes[\"abimé le\"]<deadline_1_an]"
   ]
  },
  {
   "cell_type": "code",
   "execution_count": 123,
   "id": "4f881b25",
   "metadata": {},
   "outputs": [
    {
     "data": {
      "text/plain": [
       "statut\n",
       "2 - En traitement              1\n",
       "3 - Empruntable              243\n",
       "5 - En réparation             58\n",
       "6 -  En retrait                8\n",
       "8 - Sorti des collections    114\n",
       "dtype: int64"
      ]
     },
     "execution_count": 123,
     "metadata": {},
     "output_type": "execute_result"
    }
   ],
   "source": [
    "anomalies_docs_abimes.groupby(\"statut\").size()"
   ]
  },
  {
   "cell_type": "code",
   "execution_count": 131,
   "id": "8023fef9",
   "metadata": {},
   "outputs": [],
   "source": [
    "anomalies_docs_abimes = anomalies_docs_abimes[~anomalies_docs_abimes[\"notforloan\"].isin([4])]"
   ]
  },
  {
   "cell_type": "code",
   "execution_count": 132,
   "id": "d996549e",
   "metadata": {},
   "outputs": [],
   "source": [
    "anomalies_docs_abimes_coll = anomalies_docs_abimes[~anomalies_docs_abimes.localisation.str.contains('Mag')]"
   ]
  },
  {
   "cell_type": "code",
   "execution_count": 133,
   "id": "4898ae34",
   "metadata": {},
   "outputs": [],
   "source": [
    "anomalies_docs_abimes_mag = anomalies_docs_abimes[anomalies_docs_abimes.localisation.str.contains('Magasin')]"
   ]
  },
  {
   "cell_type": "code",
   "execution_count": 134,
   "id": "4a04c639",
   "metadata": {},
   "outputs": [
    {
     "data": {
      "text/plain": [
       "statut             localisation          \n",
       "2 - En traitement  1er étage                   1\n",
       "3 - Empruntable    1er étage                  49\n",
       "                   2e étage -  Jeunesse       57\n",
       "                   3e étage                    9\n",
       "                   Mag Pôle adultes °4         1\n",
       "                   Mag Pôle adultes °8         1\n",
       "                   Magasin collectivités     106\n",
       "                   Magasin disco 3e étage      1\n",
       "                   Magasin jeunesse            1\n",
       "                   Rez-de-chaussée             9\n",
       "                   Zèbre                       9\n",
       "5 - En réparation  1er étage                   5\n",
       "                   2e étage -  Jeunesse       29\n",
       "                   3e étage                    2\n",
       "                   Mag Pôle adultes BD         1\n",
       "                   Magasin collectivités       6\n",
       "                   Rez-de-chaussée             1\n",
       "                   Zèbre                      14\n",
       "6 -  En retrait    1er étage                   4\n",
       "                   2e étage -  Jeunesse        4\n",
       "dtype: int64"
      ]
     },
     "execution_count": 134,
     "metadata": {},
     "output_type": "execute_result"
    }
   ],
   "source": [
    "anomalies_docs_abimes.groupby([\"statut\",\"localisation\"]).size()"
   ]
  },
  {
   "cell_type": "code",
   "execution_count": 135,
   "id": "88ebbdd7",
   "metadata": {},
   "outputs": [
    {
     "data": {
      "text/plain": [
       "statut             localisation          \n",
       "3 - Empruntable    Magasin collectivités     106\n",
       "                   Magasin disco 3e étage      1\n",
       "                   Magasin jeunesse            1\n",
       "5 - En réparation  Magasin collectivités       6\n",
       "dtype: int64"
      ]
     },
     "execution_count": 135,
     "metadata": {},
     "output_type": "execute_result"
    }
   ],
   "source": [
    "anomalies_docs_abimes_mag.groupby([\"statut\",\"localisation\"]).size()"
   ]
  },
  {
   "cell_type": "markdown",
   "id": "4db55902",
   "metadata": {},
   "source": [
    "On obtient ici la liste des exemplaires passés en abimé depuis plus d'un an (sont exclus de cette liste les exemplaires sortis des collections)."
   ]
  },
  {
   "cell_type": "code",
   "execution_count": 141,
   "id": "9435f38d",
   "metadata": {},
   "outputs": [],
   "source": [
    "anomalies_docs_abimes_coll[colonnes_a_exporter].to_excel('../data/liste_anomalies_exemplaires_abimes_coll.xlsx',index=False)"
   ]
  },
  {
   "cell_type": "code",
   "execution_count": 143,
   "id": "2c53d71b",
   "metadata": {},
   "outputs": [],
   "source": [
    "anomalies_docs_abimes_coll[colonnes_a_exporter].to_excel('../data/liste_anomalies_exemplaires_abimes_mag.xlsx',index=False)"
   ]
  },
  {
   "cell_type": "markdown",
   "id": "a8a66f04",
   "metadata": {},
   "source": [
    "### Documents en retrait"
   ]
  },
  {
   "cell_type": "code",
   "execution_count": 228,
   "id": "148f1424",
   "metadata": {},
   "outputs": [
    {
     "data": {
      "text/html": [
       "<div>\n",
       "<style scoped>\n",
       "    .dataframe tbody tr th:only-of-type {\n",
       "        vertical-align: middle;\n",
       "    }\n",
       "\n",
       "    .dataframe tbody tr th {\n",
       "        vertical-align: top;\n",
       "    }\n",
       "\n",
       "    .dataframe thead th {\n",
       "        text-align: right;\n",
       "    }\n",
       "</style>\n",
       "<table border=\"1\" class=\"dataframe\">\n",
       "  <thead>\n",
       "    <tr style=\"text-align: right;\">\n",
       "      <th></th>\n",
       "      <th>itemnumber</th>\n",
       "      <th>biblionumber</th>\n",
       "      <th>biblioitemnumber</th>\n",
       "      <th>code-barre</th>\n",
       "      <th>date d'acquisition</th>\n",
       "      <th>booksellerid</th>\n",
       "      <th>site propriétaire</th>\n",
       "      <th>prix</th>\n",
       "      <th>coût de remplacement</th>\n",
       "      <th>replacementpricedate</th>\n",
       "      <th>...</th>\n",
       "      <th>new_status</th>\n",
       "      <th>exclude_from_local_holds_priority</th>\n",
       "      <th>itemtype</th>\n",
       "      <th>statut</th>\n",
       "      <th>abimé</th>\n",
       "      <th>perdu</th>\n",
       "      <th>retiré de la circulation</th>\n",
       "      <th>collection</th>\n",
       "      <th>localisation</th>\n",
       "      <th>type de support</th>\n",
       "    </tr>\n",
       "  </thead>\n",
       "  <tbody>\n",
       "    <tr>\n",
       "      <th>227436</th>\n",
       "      <td>436666</td>\n",
       "      <td>343364</td>\n",
       "      <td>343364</td>\n",
       "      <td>None</td>\n",
       "      <td>2021-12-14</td>\n",
       "      <td>None</td>\n",
       "      <td>MED</td>\n",
       "      <td>NaN</td>\n",
       "      <td>NaN</td>\n",
       "      <td>2021-12-14</td>\n",
       "      <td>...</td>\n",
       "      <td>None</td>\n",
       "      <td>NaN</td>\n",
       "      <td>LS</td>\n",
       "      <td>6 -  En retrait</td>\n",
       "      <td>Non</td>\n",
       "      <td>Non</td>\n",
       "      <td>Non</td>\n",
       "      <td>ALT - Livres audio</td>\n",
       "      <td>1er étage</td>\n",
       "      <td>Livre audio</td>\n",
       "    </tr>\n",
       "  </tbody>\n",
       "</table>\n",
       "<p>1 rows × 53 columns</p>\n",
       "</div>"
      ],
      "text/plain": [
       "        itemnumber  biblionumber  biblioitemnumber code-barre  \\\n",
       "227436      436666        343364            343364       None   \n",
       "\n",
       "       date d'acquisition booksellerid site propriétaire  prix  \\\n",
       "227436         2021-12-14         None               MED   NaN   \n",
       "\n",
       "        coût de remplacement replacementpricedate  ... new_status  \\\n",
       "227436                   NaN           2021-12-14  ...       None   \n",
       "\n",
       "       exclude_from_local_holds_priority itemtype           statut  abimé  \\\n",
       "227436                               NaN       LS  6 -  En retrait    Non   \n",
       "\n",
       "       perdu  retiré de la circulation          collection  localisation  \\\n",
       "227436   Non                       Non  ALT - Livres audio     1er étage   \n",
       "\n",
       "       type de support  \n",
       "227436     Livre audio  \n",
       "\n",
       "[1 rows x 53 columns]"
      ]
     },
     "execution_count": 228,
     "metadata": {},
     "output_type": "execute_result"
    }
   ],
   "source": [
    "docs_en_retrait = items[items['notforloan'].isin([-3])]\n",
    "docs_en_retrait_codebarre_ko = docs_en_retrait[docs_en_retrait[\"code-barre\"].isna()]\n",
    "docs_en_retrait_codebarre_ko"
   ]
  },
  {
   "cell_type": "code",
   "execution_count": 226,
   "id": "9cb7e567",
   "metadata": {},
   "outputs": [
    {
     "data": {
      "text/plain": [
       "localisation\n",
       "1er étage                 155\n",
       "2e étage -  Jeunesse      114\n",
       "3e étage                   38\n",
       "Mag Patrimoine fol.         2\n",
       "Mag Patrimoine °4           2\n",
       "Mag Patrimoine °8           9\n",
       "Mag Pôle adultes BD        25\n",
       "Mag Pôle adultes fol      112\n",
       "Mag Pôle adultes °4         6\n",
       "Mag Pôle adultes °8        39\n",
       "Magasin collectivités     243\n",
       "Magasin disco 3e étage      3\n",
       "Magasin jeunesse           24\n",
       "Rez-de-chaussée            34\n",
       "Zèbre                       3\n",
       "dtype: int64"
      ]
     },
     "execution_count": 226,
     "metadata": {},
     "output_type": "execute_result"
    }
   ],
   "source": [
    "anomalies_docs_en_retrait = docs_en_retrait[docs_en_retrait[\"date dernier changement\"] < deadline_1_an]\n",
    "anomalies_docs_en_retrait.groupby('localisation').size()"
   ]
  },
  {
   "cell_type": "code",
   "execution_count": 229,
   "id": "92065465",
   "metadata": {},
   "outputs": [],
   "source": [
    "anomalies_docs_en_retrait[colonnes_a_exporter].to_excel('../data/liste_anomalies_exemplaires_docs_en_retrait.xlsx',index=False)"
   ]
  },
  {
   "cell_type": "markdown",
   "id": "132edbcc",
   "metadata": {},
   "source": [
    "### Documents en commande"
   ]
  },
  {
   "cell_type": "code",
   "execution_count": 236,
   "id": "0cc2c40f",
   "metadata": {},
   "outputs": [],
   "source": [
    "docs_en_commande = items[items['notforloan'].isin([-1])]"
   ]
  },
  {
   "cell_type": "code",
   "execution_count": 232,
   "id": "74c53495",
   "metadata": {},
   "outputs": [],
   "source": [
    "anomalies_docs_en_commande = docs_en_retrait[docs_en_retrait['date dernier changement'] < deadline_1_an]"
   ]
  },
  {
   "cell_type": "code",
   "execution_count": 233,
   "id": "e4d7ac0f",
   "metadata": {},
   "outputs": [
    {
     "data": {
      "text/plain": [
       "location\n",
       "BUS1A      3\n",
       "MED0A    243\n",
       "MED0C     34\n",
       "MED1A    155\n",
       "MED2A    114\n",
       "MED2C     24\n",
       "MED3A     38\n",
       "MED3C      3\n",
       "MED3E     39\n",
       "MED3F      6\n",
       "MED3G    112\n",
       "MED3H     25\n",
       "MED3I      9\n",
       "MED3J      2\n",
       "MED3K      2\n",
       "dtype: int64"
      ]
     },
     "execution_count": 233,
     "metadata": {},
     "output_type": "execute_result"
    }
   ],
   "source": [
    "anomalies_docs_en_commande.groupby(items['location']).size()"
   ]
  },
  {
   "cell_type": "code",
   "execution_count": 242,
   "id": "78c8e355",
   "metadata": {},
   "outputs": [
    {
     "data": {
      "text/plain": [
       "localisation\n",
       "1er étage                  44\n",
       "2e étage -  Jeunesse      230\n",
       "3e étage                   32\n",
       "Mag Patrimoine °8           3\n",
       "Mag Pôle adultes BD       126\n",
       "Mag Pôle adultes fol        5\n",
       "Mag Pôle adultes °8        35\n",
       "Magasin collectivités     521\n",
       "Magasin disco 3e étage      1\n",
       "Magasin jeunesse            2\n",
       "Rez-de-chaussée            84\n",
       "Zèbre                      40\n",
       "dtype: int64"
      ]
     },
     "execution_count": 242,
     "metadata": {},
     "output_type": "execute_result"
    }
   ],
   "source": [
    "docs_en_reparation = items[items['notforloan'].isin([-4])]\n",
    "docs_en_reparation.groupby(\"localisation\").size()"
   ]
  },
  {
   "cell_type": "code",
   "execution_count": 250,
   "id": "9e24aef2",
   "metadata": {},
   "outputs": [
    {
     "data": {
      "text/plain": [
       "localisation\n",
       "1er étage                 20\n",
       "2e étage -  Jeunesse      51\n",
       "3e étage                   8\n",
       "Mag Patrimoine °8          2\n",
       "Mag Pôle adultes BD        2\n",
       "Mag Pôle adultes fol       2\n",
       "Mag Pôle adultes °8        2\n",
       "Magasin collectivités    116\n",
       "Rez-de-chaussée           10\n",
       "Zèbre                     18\n",
       "dtype: int64"
      ]
     },
     "execution_count": 250,
     "metadata": {},
     "output_type": "execute_result"
    }
   ],
   "source": [
    "anomalies_docs_en_reparation = docs_en_reparation[docs_en_reparation[\"date dernier changement\"]< deadline_1_an]\n",
    "anomalies_docs_en_reparation.groupby(\"localisation\").size()"
   ]
  },
  {
   "cell_type": "code",
   "execution_count": 249,
   "id": "3a00ee00",
   "metadata": {},
   "outputs": [],
   "source": [
    "# Réfléchir à une deadline pour les Collectivités. Agnès me disait que les filles réparent l'hiver."
   ]
  },
  {
   "cell_type": "code",
   "execution_count": 252,
   "id": "8619aa2c",
   "metadata": {},
   "outputs": [],
   "source": [
    "anomalies_docs_en_reparation[colonnes_a_exporter].to_excel('../data/liste_anomalies_exemplaires_docs_en_reparation.xlsx',index=False)"
   ]
  }
 ],
 "metadata": {
  "kernelspec": {
   "display_name": "Python 3 (ipykernel)",
   "language": "python",
   "name": "python3"
  },
  "language_info": {
   "codemirror_mode": {
    "name": "ipython",
    "version": 3
   },
   "file_extension": ".py",
   "mimetype": "text/x-python",
   "name": "python",
   "nbconvert_exporter": "python",
   "pygments_lexer": "ipython3",
   "version": "3.8.12"
  }
 },
 "nbformat": 4,
 "nbformat_minor": 5
}
