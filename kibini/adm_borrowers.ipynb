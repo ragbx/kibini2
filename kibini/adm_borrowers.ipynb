{
 "cells": [
  {
   "cell_type": "markdown",
   "id": "24f1c47c",
   "metadata": {},
   "source": [
    "# Introduction\n",
    "Ce notebook a pour objectif de réaliser diverses opérations sur les usagers de la médiathèque :"
   ]
  },
  {
   "cell_type": "code",
   "execution_count": 2,
   "id": "74fbaa45",
   "metadata": {},
   "outputs": [],
   "source": [
    "import pandas as pd\n",
    "from datetime import datetime\n",
    "\n",
    "from kiblib.utils.db import DbConn"
   ]
  },
  {
   "cell_type": "code",
   "execution_count": 3,
   "id": "d405d712",
   "metadata": {},
   "outputs": [],
   "source": [
    "db_conn = DbConn().create_engine()"
   ]
  },
  {
   "cell_type": "code",
   "execution_count": 5,
   "id": "f68ff17a",
   "metadata": {},
   "outputs": [],
   "source": [
    "query = \"\"\"SELECT * \n",
    "FROM koha_prod.borrowers b\"\"\""
   ]
  },
  {
   "cell_type": "code",
   "execution_count": 7,
   "id": "6e5281d3",
   "metadata": {},
   "outputs": [
    {
     "data": {
      "text/plain": [
       "Index(['borrowernumber', 'cardnumber', 'surname', 'firstname', 'title',\n",
       "       'othernames', 'initials', 'streetnumber', 'streettype', 'address',\n",
       "       'address2', 'city', 'state', 'zipcode', 'country', 'email', 'phone',\n",
       "       'mobile', 'fax', 'emailpro', 'phonepro', 'B_streetnumber',\n",
       "       'B_streettype', 'B_address', 'B_address2', 'B_city', 'B_state',\n",
       "       'B_zipcode', 'B_country', 'B_email', 'B_phone', 'dateofbirth',\n",
       "       'branchcode', 'categorycode', 'dateenrolled', 'dateexpiry',\n",
       "       'date_renewed', 'gonenoaddress', 'lost', 'debarred', 'debarredcomment',\n",
       "       'contactname', 'contactfirstname', 'contacttitle', 'borrowernotes',\n",
       "       'relationship', 'sex', 'password', 'flags', 'userid', 'opacnote',\n",
       "       'contactnote', 'sort1', 'sort2', 'altcontactfirstname',\n",
       "       'altcontactsurname', 'altcontactaddress1', 'altcontactaddress2',\n",
       "       'altcontactaddress3', 'altcontactstate', 'altcontactzipcode',\n",
       "       'altcontactcountry', 'altcontactphone', 'smsalertnumber',\n",
       "       'sms_provider_id', 'privacy', 'privacy_guarantor_fines',\n",
       "       'privacy_guarantor_checkouts', 'checkprevcheckout', 'updated_on',\n",
       "       'lastseen', 'lang', 'login_attempts', 'overdrive_auth_token',\n",
       "       'anonymized', 'autorenew_checkouts', 'primary_contact_method'],\n",
       "      dtype='object')"
      ]
     },
     "execution_count": 7,
     "metadata": {},
     "output_type": "execute_result"
    }
   ],
   "source": [
    "items = pd.read_sql(query, db_conn)\n",
    "items.columns"
   ]
  }
 ],
 "metadata": {
  "kernelspec": {
   "display_name": "Python 3 (ipykernel)",
   "language": "python",
   "name": "python3"
  },
  "language_info": {
   "codemirror_mode": {
    "name": "ipython",
    "version": 3
   },
   "file_extension": ".py",
   "mimetype": "text/x-python",
   "name": "python",
   "nbconvert_exporter": "python",
   "pygments_lexer": "ipython3",
   "version": "3.8.12"
  }
 },
 "nbformat": 4,
 "nbformat_minor": 5
}
